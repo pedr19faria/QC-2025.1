{
 "cells": [
  {
   "cell_type": "code",
   "execution_count": 3,
   "id": "2f21ab42",
   "metadata": {},
   "outputs": [],
   "source": [
    "from qiskit.quantum_info import state_fidelity\n",
    "from qiskit.visualization import plot_bloch_vector, plot_bloch_multivector, plot_state_qsphere\n",
    "from qiskit import QuantumCircuit, QuantumRegister, ClassicalRegister\n",
    "from qiskit.providers.basic_provider import BasicSimulator\n",
    "from qiskit_aer import AerSimulator\n",
    "import numpy as np\n",
    "from qiskit.visualization import plot_histogram\n",
    "\n",
    "simulator_basic = BasicSimulator()\n",
    "simulator_aer = AerSimulator()"
   ]
  },
  {
   "cell_type": "markdown",
   "id": "d3de0a0f",
   "metadata": {},
   "source": [
    "#### warning\n",
    "Qiskit uses little-endian notation, which is different from the notation used by Nielsen and Chuang and the class notes. This means that the ordering of the qubits is different:\n",
    "\n",
    "\n",
    "Little-endian (qiskit): $|q_1q_0\\rangle$\n",
    "Big-endian (Nielsen): $|q_0q_1\\rangle$\n",
    "\n",
    "The markdown will all be written using the same notation that was used in Nielsen Chuang. "
   ]
  },
  {
   "cell_type": "markdown",
   "id": "314376a8",
   "metadata": {},
   "source": [
    "\n",
    "## Exercise 1\n",
    "\n",
    "The text presented here will be a little different from what was answered in the list. This is because there we had the liberty to choose any basis for the measurement. Here, however, we can only pick the computational basis, therefore the protocol is altered slightly.\n",
    "### Superdense Coding Protocol\n",
    "\n",
    "The goal of the **superdense coding** protocol is for Alice to send **two classical bits** of information to Bob by transmitting **only one qubit**.\n",
    "\n",
    "This protocol begins with Alice and Bob **sharing a pair of maximally entangled qubits**, specifically one of the four **Bell states**:\n",
    "\n",
    "$$\n",
    "|\\Phi_+\\rangle = \\frac{1}{\\sqrt{2}}(|00\\rangle + |11\\rangle)\n",
    "$$\n",
    "\n",
    "This state was prepared in the following way:\n",
    "$$\n",
    "Cx(H \\otimes I)|00\\rangle = |\\Phi_+\\rangle\n",
    "$$\n",
    "Alice and Bob are spatially separated and each possesses one of the entangled qubits, allowing them to apply **local unitary operations**.\n",
    "\n",
    "Alice encodes her message by applying one of the **Pauli matrices** to her qubit. Each operation transforms the shared entangled state into a different Bell state:\n",
    "\n",
    "$$\n",
    "\\begin{aligned}\n",
    "(I \\otimes I)|\\Phi_+\\rangle &= |\\Phi_+\\rangle \\\\\n",
    "(X \\otimes I)|\\Phi_+\\rangle &= |\\Psi_+\\rangle \\\\\n",
    "(Z \\otimes I)|\\Phi_+\\rangle &= |\\Phi_-\\rangle \\\\\n",
    "(Y \\otimes I)|\\Phi_+\\rangle &= i|\\Psi_-\\rangle\n",
    "\\end{aligned}\n",
    "$$\n",
    "\n",
    "Each transformed Bell state corresponds to **two classical bits**:\n",
    "\n",
    "$$\n",
    "00: |\\Phi_+\\rangle \\quad\n",
    "01: |\\Psi_+\\rangle \\quad\n",
    "10: |\\Phi_-\\rangle \\quad\n",
    "11: i|\\Psi_-\\rangle\n",
    "$$\n",
    "\n",
    "Alice and Bob agree on this arrengement beforehand.\n",
    "\n",
    "After applying the appropriate gate, Alice sends **her qubit** to Bob via a **quantum channel**. Now Bob has **both qubits**, and can perform a **joint measurement** to determine which state the system is in. Bob first applies a CNOT and Hadamard gate to be able to measure it on the computational basis:\n",
    "\n",
    "\n",
    "$$\n",
    "(H \\otimes I)C_x|\\Phi_+\\rangle = |00\\rangle \\\\\n",
    "(H \\otimes I)C_x|\\Phi_-\\rangle = |10\\rangle \\\\\n",
    "(H \\otimes I)C_x|\\Psi_+\\rangle = |01\\rangle \\\\\n",
    "(H \\otimes I)C_x|\\Psi_-\\rangle = |11\\rangle \\\\\n",
    "$$\n",
    "\n",
    "\n",
    "\n",
    "By making a measurement, Bob determines the shared state and, consequently, recovers the **two classical bits** that Alice encoded using only one qubit.\n",
    "\n",
    "\\\\\n",
    "\n",
    "The Superdense Coding Protocol was developed by Bennet and Weisner in 1992 and experimentally realized by Mattel, Weinfurter, Kwiat and Zeilinger in 1996."
   ]
  },
  {
   "cell_type": "code",
   "execution_count": 4,
   "id": "b767d661",
   "metadata": {},
   "outputs": [],
   "source": [
    "### Create Bell states:\n",
    "def prepare_phi1():\n",
    "    alice = QuantumRegister(1, name='Alice')\n",
    "    bob = QuantumRegister(1, name='Bob')\n",
    "    classical_register = ClassicalRegister(2, name = 'creg')\n",
    "    qc = QuantumCircuit(alice, bob, classical_register)\n",
    "    qc.h(1)\n",
    "\n",
    "    qc.cx(1,0)\n",
    "    return qc"
   ]
  },
  {
   "cell_type": "code",
   "execution_count": 5,
   "id": "743adf04",
   "metadata": {},
   "outputs": [],
   "source": [
    "def alice_op(qc, bit): ### 00, 01, 10, 11\n",
    "    \n",
    "    if bit == '00':\n",
    "        qc.id(0)\n",
    "        \n",
    "    elif bit == '01':\n",
    "        qc.x(0)\n",
    "    elif bit =='10':\n",
    "        qc.z(0)\n",
    "    elif bit == '11':\n",
    "        qc.x(0); qc.z(0)\n",
    "\n",
    "    return qc"
   ]
  },
  {
   "cell_type": "code",
   "execution_count": 6,
   "id": "c0a01074",
   "metadata": {},
   "outputs": [
    {
     "data": {
      "image/png": "[encoded data removed]",
      "text/plain": [
       "<Figure size 1156.85x284.278 with 1 Axes>"
      ]
     },
     "execution_count": 6,
     "metadata": {},
     "output_type": "execute_result"
    }
   ],
   "source": [
    "\n",
    "qc = prepare_phi1()### Charlie prepares the entagled state |Phi_+> and sends it to Alice and Bob\n",
    "qc.barrier()\n",
    "\n",
    "\n",
    "qc = alice_op(qc,'10')\n",
    "qc.save_statevector(label = 'Alice')\n",
    "\n",
    "qc.barrier()\n",
    "\n",
    "qc.cx(1,0)\n",
    "qc.h(1)\n",
    "\n",
    "qc.save_statevector(label = 'Bob')\n",
    "\n",
    "qc.measure([0,1],[0,1])\n",
    "qc.draw('mpl', reverse_bits =True)\n",
    "\n",
    "# Since this cannot be measured in the bell basis we need to manipulate\n",
    "# it into such a way that it can be measured in the computational basis"
   ]
  },
  {
   "cell_type": "code",
   "execution_count": 7,
   "id": "5d5b8fb8",
   "metadata": {},
   "outputs": [],
   "source": [
    "res = simulator_aer.run(qc, shots = 1).result()\n"
   ]
  },
  {
   "cell_type": "code",
   "execution_count": 8,
   "id": "fd4ba2ac",
   "metadata": {},
   "outputs": [
    {
     "name": "stdout",
     "output_type": "stream",
     "text": [
      "State after Alice's measurement:\n"
     ]
    },
    {
     "data": {
      "text/latex": [
       "$$\\frac{\\sqrt{2}}{2} |00\\rangle- \\frac{\\sqrt{2}}{2} |11\\rangle$$"
      ],
      "text/plain": [
       "<IPython.core.display.Latex object>"
      ]
     },
     "metadata": {},
     "output_type": "display_data"
    },
    {
     "name": "stdout",
     "output_type": "stream",
     "text": [
      "State after Bob has manipulated the qubit\n"
     ]
    },
    {
     "data": {
      "text/latex": [
       "$$ |10\\rangle$$"
      ],
      "text/plain": [
       "<IPython.core.display.Latex object>"
      ]
     },
     "metadata": {},
     "output_type": "display_data"
    }
   ],
   "source": [
    "statevec_alice = res.data()['Alice']\n",
    "\n",
    "statevec_bob = res.data()['Bob']\n",
    "\n",
    "print(f\"State after Alice's measurement:\")\n",
    "display(statevec_alice.draw(output = 'latex'))\n",
    "\n",
    "print(f\"State after Bob has manipulated the qubit\")\n",
    "display(statevec_bob.draw(output = 'latex'))"
   ]
  },
  {
   "cell_type": "code",
   "execution_count": 9,
   "id": "326a50c0",
   "metadata": {},
   "outputs": [
    {
     "data": {
      "image/png": "[encoded data removed]",
      "text/plain": [
       "<Figure size 640x480 with 1 Axes>"
      ]
     },
     "execution_count": 9,
     "metadata": {},
     "output_type": "execute_result"
    }
   ],
   "source": [
    "plot_histogram(res.get_counts())"
   ]
  },
  {
   "cell_type": "markdown",
   "id": "0f2967f3",
   "metadata": {},
   "source": [
    "### Eavesdropper:\n",
    "Now let's investigate what happens if Eve intercepts Alice's qubit and makes a measurement:\n"
   ]
  },
  {
   "cell_type": "markdown",
   "id": "cf113edd",
   "metadata": {},
   "source": [
    "If Eve intercepts Alice's qubit when she sends it to Bob, Eve will be able to measure her qubit and determine if it is in the state $|0\\rangle$ or $|1\\rangle$. If she has no access to Bob's qubit, however, she will be unable to determine anything about the entangled state the qubit was previously in, giving her no information about the 2 bits Alice was intending to send. This will also collapse Bob's qubit, which will be noticed upon measurement of both qubits and will alert him to an eavesdropper.\n",
    "\n",
    "The following is an example to demonstrate the consequences of a measurement by Eve:\n",
    "\n",
    "Suppose Alice has sent \\( |\\Phi_+\\rangle \\) and Eve measures this with the projector:\n",
    "$$\n",
    "E_0 = (|0\\rangle\\langle 0|_A \\otimes I_B)  \\\\  \n",
    "E_1 = (|1\\rangle\\langle 1|_A \\otimes I_B) .\n",
    "$$\n",
    "Say Eve got the result which indicates Alice's qubit was \\( |0\\rangle \\).  \n",
    "We may describe the post-measurement state of the complete system using a density matrix formulation.  \n",
    "The state before measurement was:\n",
    "\n",
    "$$\n",
    "\\rho_{AB} = |\\Phi_+\\rangle\\langle\\Phi_+| = \\frac{1}{2} \\left( \n",
    "|0\\rangle\\langle 0|_A \\otimes |0\\rangle\\langle 0|_B +\n",
    "|0\\rangle\\langle 1|_A \\otimes |0\\rangle\\langle 1|_B +\n",
    "|1\\rangle\\langle 0|_A \\otimes |1\\rangle\\langle 0|_B +\n",
    "|1\\rangle\\langle 1|_A \\otimes |1\\rangle\\langle 1|_B\n",
    "\\right)\n",
    "$$\n",
    "\n",
    "The post-measurement state is described by:\n",
    "\n",
    "$$\n",
    "\\rho_{AB}' = \\frac{E_i \\rho_{AB} E_i}{p(i)}\n",
    "$$\n",
    "\n",
    "$$\n",
    "p(i) = \\text{Tr}(E_i \\rho_{AB})\n",
    "$$\n",
    "\n",
    "If Eve measured $ |0\\rangle $:\n",
    "\n",
    "$$\n",
    "\\rho_{AB}' = |0\\rangle\\langle 0|_A \\otimes |0\\rangle\\langle 0|_B\n",
    "$$\n",
    "\n",
    "It is quite clear that the state is no longer entangled, making it impossible to determine which two bits Alice intended to send.\n"
   ]
  },
  {
   "cell_type": "code",
   "execution_count": 10,
   "id": "8d0b1875",
   "metadata": {},
   "outputs": [
    {
     "data": {
      "image/png": "[encoded data removed]",
      "text/plain": [
       "<Figure size 989.625x284.278 with 1 Axes>"
      ]
     },
     "execution_count": 10,
     "metadata": {},
     "output_type": "execute_result"
    }
   ],
   "source": [
    "\n",
    "qc = prepare_phi1()### Charlie prepares the entagled state |Phi_+> and sends it to Alice and Bob\n",
    "qc.barrier()\n",
    "\n",
    "\n",
    "qc = alice_op(qc,'11')\n",
    "qc.save_statevector(label = 'Alice')\n",
    "\n",
    "qc.barrier()\n",
    "\n",
    "### EVE:\n",
    "qc.measure([0],[0])\n",
    "\n",
    "qc.save_statevector(label = 'Eve')\n",
    "\n",
    "\n",
    "\n",
    "\n",
    "\n",
    "\n",
    "qc.draw('mpl', reverse_bits =True)\n",
    "\n",
    "# Since this cannot be measured in the bell basis we need to manipulate\n",
    "# it into such a way that it can be measured in the computational basis"
   ]
  },
  {
   "cell_type": "code",
   "execution_count": 11,
   "id": "6868dc1c",
   "metadata": {},
   "outputs": [],
   "source": [
    "res_eve = simulator_aer.run(qc, shots = 1).result()"
   ]
  },
  {
   "cell_type": "code",
   "execution_count": 12,
   "id": "82731d32",
   "metadata": {},
   "outputs": [
    {
     "data": {
      "text/plain": [
       "{'00': 1}"
      ]
     },
     "execution_count": 12,
     "metadata": {},
     "output_type": "execute_result"
    }
   ],
   "source": [
    "res_eve.get_counts()"
   ]
  },
  {
   "cell_type": "markdown",
   "id": "2cd46bab",
   "metadata": {},
   "source": [
    "Qiskit shows the state of both qubits, but in reality Eve can only measure one qubit so she only has the information about the qubit she measured. The other qubit will collapse to one of the two possible configurations, but Eve has no information about Bob's qubit so she will not know any of it. "
   ]
  },
  {
   "cell_type": "code",
   "execution_count": 13,
   "id": "84ef252a",
   "metadata": {},
   "outputs": [
    {
     "data": {
      "image/png": "[encoded data removed]",
      "text/plain": [
       "<Figure size 1407.68x284.278 with 1 Axes>"
      ]
     },
     "execution_count": 13,
     "metadata": {},
     "output_type": "execute_result"
    }
   ],
   "source": [
    "\n",
    "qc = prepare_phi1()### Charlie prepares the entagled state |Phi_+> and sends it to Alice and Bob\n",
    "qc.barrier()\n",
    "\n",
    "\n",
    "qc = alice_op(qc,'11')\n",
    "qc.save_statevector(label = 'Alice')\n",
    "\n",
    "qc.barrier()\n",
    "\n",
    "### EVE:\n",
    "qc.measure([0],[0])\n",
    "\n",
    "qc.save_statevector(label = 'Eve')\n",
    "\n",
    "qc.cx(1,0)\n",
    "qc.h(1)\n",
    "qc.save_statevector(label = 'Bob')\n",
    "qc.measure([0,1],[0,1])\n",
    "\n",
    "\n",
    "\n",
    "\n",
    "qc.draw('mpl', reverse_bits =True)"
   ]
  },
  {
   "cell_type": "code",
   "execution_count": 14,
   "id": "697006e9",
   "metadata": {},
   "outputs": [],
   "source": [
    "res_bob = simulator_aer.run(qc, shots = 1).result()"
   ]
  },
  {
   "cell_type": "markdown",
   "id": "2f8eeccd",
   "metadata": {},
   "source": [
    "With Eve's measurement the qubit state has collapsed to:"
   ]
  },
  {
   "cell_type": "code",
   "execution_count": 15,
   "id": "a1992e66",
   "metadata": {},
   "outputs": [
    {
     "name": "stdout",
     "output_type": "stream",
     "text": [
      "State after Alice's measurement:\n"
     ]
    },
    {
     "data": {
      "text/latex": [
       "$$- \\frac{\\sqrt{2}}{2} |01\\rangle+\\frac{\\sqrt{2}}{2} |10\\rangle$$"
      ],
      "text/plain": [
       "<IPython.core.display.Latex object>"
      ]
     },
     "metadata": {},
     "output_type": "display_data"
    },
    {
     "name": "stdout",
     "output_type": "stream",
     "text": [
      "State after Eve's measurement:\n"
     ]
    },
    {
     "data": {
      "text/latex": [
       "$$ |10\\rangle$$"
      ],
      "text/plain": [
       "<IPython.core.display.Latex object>"
      ]
     },
     "metadata": {},
     "output_type": "display_data"
    },
    {
     "name": "stdout",
     "output_type": "stream",
     "text": [
      "State after Bob has manipulated the qubit\n"
     ]
    },
    {
     "data": {
      "text/latex": [
       "$$\\frac{\\sqrt{2}}{2} |01\\rangle- \\frac{\\sqrt{2}}{2} |11\\rangle$$"
      ],
      "text/plain": [
       "<IPython.core.display.Latex object>"
      ]
     },
     "metadata": {},
     "output_type": "display_data"
    }
   ],
   "source": [
    "statevec_alice = res_bob.data()['Alice']\n",
    "statevec_eve = res_bob.data()['Eve']\n",
    "statevec_bob = res_bob.data()['Bob']\n",
    "\n",
    "print(f\"State after Alice's measurement:\")\n",
    "display(statevec_alice.draw(output = 'latex'))\n",
    "print(f\"State after Eve's measurement:\")\n",
    "display(statevec_eve.draw(output = 'latex'))\n",
    "print(f\"State after Bob has manipulated the qubit\")\n",
    "display(statevec_bob.draw(output = 'latex'))"
   ]
  },
  {
   "cell_type": "code",
   "execution_count": 16,
   "id": "bfd25995",
   "metadata": {},
   "outputs": [
    {
     "data": {
      "text/plain": [
       "{'11': 1}"
      ]
     },
     "execution_count": 16,
     "metadata": {},
     "output_type": "execute_result"
    }
   ],
   "source": [
    "res_bob.get_counts()"
   ]
  },
  {
   "cell_type": "markdown",
   "id": "94588fc6",
   "metadata": {},
   "source": [
    "Bob did not receive the correct bits."
   ]
  },
  {
   "cell_type": "markdown",
   "id": "56bd80f1",
   "metadata": {},
   "source": [
    "## Exercise 6:\n",
    "We must find projective measurements that let Alice and Bob determine what state their qubit is in. They know the two possibilities and they can only make local projective measurements."
   ]
  },
  {
   "cell_type": "markdown",
   "id": "c9586857",
   "metadata": {},
   "source": [
    "$$\n",
    "\\text{State 1: } \\frac{1}{\\sqrt{2}} (|00\\rangle + \\,|11\\rangle) \\quad \\text{and} \\quad \\text{State 2: } \\frac{1}{\\sqrt{2}} (|01\\rangle + \\,|10\\rangle)\n",
    "$$\n"
   ]
  },
  {
   "cell_type": "code",
   "execution_count": 48,
   "id": "f02a7f43",
   "metadata": {},
   "outputs": [],
   "source": [
    "def random_circuita():\n",
    "    import random\n",
    "    circ= []\n",
    "    qc = QuantumCircuit(2)\n",
    "    qc.h(0)\n",
    "    qc.cx(0,1)\n",
    "    circ.append(qc)\n",
    "    qc1 = QuantumCircuit(2)\n",
    "    qc1.x(1)\n",
    "    qc1.h(0)\n",
    "    qc1.cx(0,1)\n",
    "    circ.append(qc1)\n",
    "    return random.choice(circ)"
   ]
  },
  {
   "cell_type": "code",
   "execution_count": 49,
   "id": "bbf9431d",
   "metadata": {},
   "outputs": [
    {
     "data": {
      "image/png": "[encoded data removed]",
      "text/plain": [
       "<Figure size 906.014x284.278 with 1 Axes>"
      ]
     },
     "execution_count": 49,
     "metadata": {},
     "output_type": "execute_result"
    }
   ],
   "source": [
    "a = QuantumRegister(1, name = 'Alice')\n",
    "b = QuantumRegister(1, name = 'Bob')\n",
    "creg = ClassicalRegister(2)\n",
    "qc = QuantumCircuit(a,b,creg)\n",
    "circ = random_circuita()\n",
    "qc.append(circ,[0,1])\n",
    "qc.save_statevector(label = 'initial')\n",
    "qc.measure([0],[0])\n",
    "qc.save_statevector(label = 'Alice')\n",
    "qc.measure([1],[1])\n",
    "qc.save_statevector(label = 'Bob')\n",
    "qc.draw('mpl')"
   ]
  },
  {
   "cell_type": "code",
   "execution_count": 50,
   "id": "39c67a34",
   "metadata": {},
   "outputs": [],
   "source": [
    "result = simulator_aer.run(qc.decompose(), shots = 1).result()"
   ]
  },
  {
   "cell_type": "code",
   "execution_count": 51,
   "id": "aea6b92b",
   "metadata": {},
   "outputs": [],
   "source": [
    "alice_st = result.data()['Alice']\n",
    "bob_st = result.data()['Bob']\n",
    "initial_st =  result.data()['initial']\n"
   ]
  },
  {
   "cell_type": "code",
   "execution_count": 52,
   "id": "94d993e6",
   "metadata": {},
   "outputs": [
    {
     "name": "stdout",
     "output_type": "stream",
     "text": [
      "Alice's statevector is:\n"
     ]
    },
    {
     "data": {
      "text/latex": [
       "$$ |10\\rangle$$"
      ],
      "text/plain": [
       "<IPython.core.display.Latex object>"
      ]
     },
     "execution_count": 52,
     "metadata": {},
     "output_type": "execute_result"
    }
   ],
   "source": [
    "print(\"Alice's statevector is:\")\n",
    "alice_st.draw( output = 'latex')"
   ]
  },
  {
   "cell_type": "markdown",
   "id": "124d48ad",
   "metadata": {},
   "source": [
    "Even though qiskit shows us both qubits, let's pretend we only know hers. So we know that the state of her qubit was $|1\\rangle$. Then Bob's qubit can be either $|1\\rangle$ or $|0\\rangle$"
   ]
  },
  {
   "cell_type": "code",
   "execution_count": 53,
   "id": "17b6cac6",
   "metadata": {},
   "outputs": [
    {
     "name": "stdout",
     "output_type": "stream",
     "text": [
      "Bob's statevector is:\n"
     ]
    },
    {
     "data": {
      "text/latex": [
       "$$ |10\\rangle$$"
      ],
      "text/plain": [
       "<IPython.core.display.Latex object>"
      ]
     },
     "execution_count": 53,
     "metadata": {},
     "output_type": "execute_result"
    }
   ],
   "source": [
    "print(\"Bob's statevector is:\")\n",
    "bob_st.draw( output = 'latex')"
   ]
  },
  {
   "cell_type": "markdown",
   "id": "fa45b19a",
   "metadata": {},
   "source": [
    "Since the state we found was $|1\\rangle$ then we can determine that the initial state was State 1."
   ]
  },
  {
   "cell_type": "code",
   "execution_count": 54,
   "id": "95f3348d",
   "metadata": {},
   "outputs": [
    {
     "name": "stdout",
     "output_type": "stream",
     "text": [
      "Initial statevector is:\n"
     ]
    },
    {
     "data": {
      "text/latex": [
       "$$\\frac{\\sqrt{2}}{2} |01\\rangle+\\frac{\\sqrt{2}}{2} |10\\rangle$$"
      ],
      "text/plain": [
       "<IPython.core.display.Latex object>"
      ]
     },
     "execution_count": 54,
     "metadata": {},
     "output_type": "execute_result"
    }
   ],
   "source": [
    "print(\"Initial statevector is:\")\n",
    "initial_st.draw( output = 'latex')"
   ]
  },
  {
   "cell_type": "markdown",
   "id": "57849636",
   "metadata": {},
   "source": [
    "$$\n",
    "\\text{State 1: } \\frac{1}{\\sqrt{2}} (|00\\rangle + \\,|11\\rangle) \\quad \\text{and} \\quad \\text{State 2: } \\frac{1}{\\sqrt{2}} (|00\\rangle - \\,|11\\rangle)\n",
    "$$\n",
    "This can be a little bit trickier on qiskit since we cannot make measurements with basis that are not the computational one. Therefore what we must do is rewrite it so the X basis is interpreted in the computational basis. Essentially all we must do is apply the Hadamard on both qubits. Having done this we transform them back to distinct computational basis configurations and we can determine them.\n",
    "\n",
    "$$\n",
    "(H \\otimes H)\\frac{1}{\\sqrt{2}} (|++\\rangle + \\,|--\\rangle) = \\frac{1}{\\sqrt{2}} (|00\\rangle + \\,|11\\rangle)\n",
    "$$\n",
    "$$\n",
    "(H \\otimes H)\\frac{1}{\\sqrt{2}} (|+-\\rangle + \\,|-+\\rangle) =  \\frac{1}{\\sqrt{2}} (|01\\rangle + \\,|10\\rangle)\n",
    "$$"
   ]
  },
  {
   "cell_type": "code",
   "execution_count": 55,
   "id": "6ef0db98",
   "metadata": {},
   "outputs": [],
   "source": [
    "def random_circuitb():\n",
    "    import random\n",
    "    circ= []\n",
    "    qc = QuantumCircuit(2)\n",
    "    qc.h(0)\n",
    "    qc.cx(0,1)\n",
    "    circ.append(qc)\n",
    "    qc1 = QuantumCircuit(2)\n",
    "    qc1.x(0)\n",
    "    qc1.h(0)\n",
    "    qc1.cx(0,1)\n",
    "    circ.append(qc1)\n",
    "    return random.choice(circ)"
   ]
  },
  {
   "cell_type": "code",
   "execution_count": 69,
   "id": "d66c1ee6",
   "metadata": {},
   "outputs": [
    {
     "data": {
      "image/png": "[encoded data removed]",
      "text/plain": [
       "<Figure size 989.625x284.278 with 1 Axes>"
      ]
     },
     "execution_count": 69,
     "metadata": {},
     "output_type": "execute_result"
    }
   ],
   "source": [
    "a = QuantumRegister(1, name = 'Alice')\n",
    "b = QuantumRegister(1, name = 'Bob')\n",
    "creg = ClassicalRegister(2)\n",
    "qc = QuantumCircuit(a,b,creg)\n",
    "circ = random_circuitb()\n",
    "qc.append(circ,[0,1])\n",
    "qc.save_statevector(label = 'initial')\n",
    "qc.h(0)\n",
    "qc.h(1)\n",
    "qc.measure([0],[0])\n",
    "qc.save_statevector(label = 'Alice')\n",
    "qc.measure([1],[1])\n",
    "qc.save_statevector(label = 'Bob')\n",
    "qc.draw('mpl')"
   ]
  },
  {
   "cell_type": "code",
   "execution_count": 72,
   "id": "1bd8632a",
   "metadata": {},
   "outputs": [],
   "source": [
    "result = simulator_aer.run(qc.decompose(), shots = 1).result()\n",
    "alice_st = result.data()['Alice']\n",
    "bob_st = result.data()['Bob']\n",
    "initial_st =  result.data()['initial']\n"
   ]
  },
  {
   "cell_type": "code",
   "execution_count": 73,
   "id": "f6399b85",
   "metadata": {},
   "outputs": [
    {
     "name": "stdout",
     "output_type": "stream",
     "text": [
      "Alice's statevector is:\n"
     ]
    },
    {
     "data": {
      "text/latex": [
       "$$ |10\\rangle$$"
      ],
      "text/plain": [
       "<IPython.core.display.Latex object>"
      ]
     },
     "execution_count": 73,
     "metadata": {},
     "output_type": "execute_result"
    }
   ],
   "source": [
    "print(\"Alice's statevector is:\")\n",
    "alice_st.draw( output = 'latex')"
   ]
  },
  {
   "cell_type": "markdown",
   "id": "38362c6f",
   "metadata": {},
   "source": [
    "Alice found $|0\\rangle$. Therefore Bob's qubit can be $|0\\rangle$ or $|1\\rangle$. If it is the first we know it is state 1, if it is the latter we know that it was State 2"
   ]
  },
  {
   "cell_type": "code",
   "execution_count": 74,
   "id": "66081b71",
   "metadata": {},
   "outputs": [
    {
     "name": "stdout",
     "output_type": "stream",
     "text": [
      "Bob's statevector is:\n"
     ]
    },
    {
     "data": {
      "text/latex": [
       "$$ |10\\rangle$$"
      ],
      "text/plain": [
       "<IPython.core.display.Latex object>"
      ]
     },
     "execution_count": 74,
     "metadata": {},
     "output_type": "execute_result"
    }
   ],
   "source": [
    "print(\"Bob's statevector is:\")\n",
    "bob_st.draw( output = 'latex')"
   ]
  },
  {
   "cell_type": "code",
   "execution_count": 75,
   "id": "c500f6d7",
   "metadata": {},
   "outputs": [
    {
     "name": "stdout",
     "output_type": "stream",
     "text": [
      "Initial statevector is:\n"
     ]
    },
    {
     "data": {
      "text/latex": [
       "$$\\frac{\\sqrt{2}}{2} |00\\rangle- \\frac{\\sqrt{2}}{2} |11\\rangle$$"
      ],
      "text/plain": [
       "<IPython.core.display.Latex object>"
      ]
     },
     "execution_count": 75,
     "metadata": {},
     "output_type": "execute_result"
    }
   ],
   "source": [
    "print(\"Initial statevector is:\")\n",
    "initial_st.draw( output = 'latex')"
   ]
  },
  {
   "cell_type": "markdown",
   "id": "a24ef58d",
   "metadata": {},
   "source": [
    "$$\n",
    "\\text{State 1: } \\frac{1}{\\sqrt{2}} (|00\\rangle + i\\,|11\\rangle) \\quad \\text{and} \\quad \\text{State 2: } \\frac{1}{\\sqrt{2}} (|00\\rangle - i\\,|11\\rangle)\n",
    "$$\n",
    "This case there is no possible basis we may choose to make this measurement directly. What we can do however is use Alice can use a S gate that if applied to one of this states will take them in the following manner:\n",
    "$$\n",
    "S(state1) =  \\frac{1}{\\sqrt{2}} (|00\\rangle - \\,|11\\rangle) \\\\\n",
    "S(state2) =  \\frac{1}{\\sqrt{2}} (|00\\rangle +\\,|11\\rangle)\n",
    "$$\n",
    "\n",
    "So now we came back to the configuration used in letter (b). Then we can simply follow the same procedure and we will be able to determine the state."
   ]
  },
  {
   "cell_type": "code",
   "execution_count": 88,
   "id": "75f81ad2",
   "metadata": {},
   "outputs": [],
   "source": [
    "def random_circuitc():\n",
    "    import random\n",
    "    circ= []\n",
    "    qc = QuantumCircuit(2)\n",
    "    qc.h(0)\n",
    "    qc.cx(0,1)\n",
    "    qc.s(0)\n",
    "    circ.append(qc)\n",
    "    qc1 = QuantumCircuit(2)\n",
    "    qc1.x(0)\n",
    "    qc1.h(0)\n",
    "    qc1.cx(0,1)\n",
    "    qc1.s(0)\n",
    "    circ.append(qc1)\n",
    "    return random.choice(circ)"
   ]
  },
  {
   "cell_type": "code",
   "execution_count": 89,
   "id": "ff5b7c03",
   "metadata": {},
   "outputs": [
    {
     "data": {
      "image/png": "[encoded data removed]",
      "text/plain": [
       "<Figure size 1073.24x284.278 with 1 Axes>"
      ]
     },
     "execution_count": 89,
     "metadata": {},
     "output_type": "execute_result"
    }
   ],
   "source": [
    "a = QuantumRegister(1, name = 'Alice')\n",
    "b = QuantumRegister(1, name = 'Bob')\n",
    "creg = ClassicalRegister(2)\n",
    "qc = QuantumCircuit(a,b,creg)\n",
    "circ = random_circuitc()\n",
    "qc.append(circ,[0,1])\n",
    "qc.save_statevector(label = 'initial')\n",
    "qc.s(0)\n",
    "qc.h(0)\n",
    "qc.h(1)\n",
    "qc.measure([0],[0])\n",
    "qc.save_statevector(label = 'Alice')\n",
    "qc.measure([1],[1])\n",
    "qc.save_statevector(label = 'Bob')\n",
    "qc.draw('mpl')"
   ]
  },
  {
   "cell_type": "code",
   "execution_count": 90,
   "id": "2ec7fbb0",
   "metadata": {},
   "outputs": [],
   "source": [
    "result = simulator_aer.run(qc.decompose(), shots = 1).result()\n",
    "alice_st = result.data()['Alice']\n",
    "bob_st = result.data()['Bob']\n",
    "initial_st =  result.data()['initial']\n"
   ]
  },
  {
   "cell_type": "code",
   "execution_count": 91,
   "id": "1cf82634",
   "metadata": {},
   "outputs": [
    {
     "name": "stdout",
     "output_type": "stream",
     "text": [
      "Alice's statevector is:\n"
     ]
    },
    {
     "data": {
      "text/latex": [
       "$$ |01\\rangle$$"
      ],
      "text/plain": [
       "<IPython.core.display.Latex object>"
      ]
     },
     "execution_count": 91,
     "metadata": {},
     "output_type": "execute_result"
    }
   ],
   "source": [
    "print(\"Alice's statevector is:\")\n",
    "alice_st.draw( output = 'latex')"
   ]
  },
  {
   "cell_type": "markdown",
   "id": "3700e6be",
   "metadata": {},
   "source": [
    "Alice got $|0\\rangle$. If Bob is found on $|0\\rangle$ then it corresponds to $\\frac{1}{\\sqrt{2}} (|00\\rangle + \\,|11\\rangle) $ which is state 2 before the S gate. \n",
    "If Bob is found on $|1\\rangle$ then it corresponds to $\\frac{1}{\\sqrt{2}} (|00\\rangle - \\,|11\\rangle) $ which is state 1 before the S gate. "
   ]
  },
  {
   "cell_type": "code",
   "execution_count": 95,
   "id": "a1eae6d9",
   "metadata": {},
   "outputs": [
    {
     "name": "stdout",
     "output_type": "stream",
     "text": [
      "Bob's statevector is:\n"
     ]
    },
    {
     "data": {
      "text/latex": [
       "$$ |01\\rangle$$"
      ],
      "text/plain": [
       "<IPython.core.display.Latex object>"
      ]
     },
     "execution_count": 95,
     "metadata": {},
     "output_type": "execute_result"
    }
   ],
   "source": [
    "print(\"Bob's statevector is:\")\n",
    "bob_st.draw( output = 'latex')\n"
   ]
  },
  {
   "cell_type": "code",
   "execution_count": 94,
   "id": "f29ba0b1",
   "metadata": {},
   "outputs": [
    {
     "name": "stdout",
     "output_type": "stream",
     "text": [
      "Initial statevector is:\n"
     ]
    },
    {
     "data": {
      "text/latex": [
       "$$\\frac{\\sqrt{2}}{2} |00\\rangle+\\frac{\\sqrt{2} i}{2} |11\\rangle$$"
      ],
      "text/plain": [
       "<IPython.core.display.Latex object>"
      ]
     },
     "execution_count": 94,
     "metadata": {},
     "output_type": "execute_result"
    }
   ],
   "source": [
    "print(\"Initial statevector is:\")\n",
    "initial_st.draw( output = 'latex')"
   ]
  },
  {
   "cell_type": "markdown",
   "id": "4f0e4aca",
   "metadata": {},
   "source": [
    "## Teleportation Protocol\n",
    "The teleportation protocol was first established by Charles Benett in 1993. It was first experimentally realized by Zellinger and Sandu Popescu in 1997.\n",
    " \n",
    "The protocol discussed here will also differ slightly from the one discussed on Nielsen Chuang and the lectures. Here we will use controlled gates to alter the state of the qubit we would like to send to Bob. Eventhough this is not what would be done in real life it is a demonstration of the ideia behind this protocol and works well when we are not trying to send quantum information over long distances.\n",
    "\n",
    "The goal of this protocol is for Alice to send a qubit to Bob using only two classical bits. She transmits quantum information using only a classical channel.  \n",
    "Alice and Bob are spatially separated and each of them has one qubit from the maximally entangled pair:\n",
    "\n",
    "$$\n",
    "|\\Phi_+\\rangle = \\frac{1}{\\sqrt{2}}(|0\\rangle_A |0\\rangle_B + |1\\rangle_A |1\\rangle_B)\n",
    "$$\n",
    "\n",
    "Alice also has a qubit \\( |\\psi\\rangle \\) which she knows nothing about. We may write this state as:\n",
    "\n",
    "$$\n",
    "|\\psi\\rangle = \\alpha |0\\rangle + \\beta |1\\rangle\n",
    "$$\n",
    "\n",
    "The complete state can be written as:\n",
    "\n",
    "$$\n",
    "|\\psi_1\\rangle = \\frac{1}{\\sqrt{2}}(\\alpha |0\\rangle_A |0\\rangle_A |0\\rangle_B + \\beta |1\\rangle_A |1\\rangle_A |1\\rangle_B)\n",
    "$$\n",
    "\n",
    "Alice can make any operations on her two qubits. She first applies a CNOT gate:\n",
    "\n",
    "$$\n",
    "(C_X \\otimes I)\\frac{1}{\\sqrt{2}}(\\alpha |0\\rangle_A |\\Phi_+\\rangle + \\beta |1\\rangle_A |\\Phi_+\\rangle) = \\frac{1}{\\sqrt{2}}(\\alpha |0\\rangle_A |\\Phi_+\\rangle + \\beta |1\\rangle_A |\\Psi_+\\rangle)\n",
    "$$\n",
    "\n",
    "Then by applying a Hadamard gate and reordering:\n",
    "\n",
    "$$\n",
    "\\frac{1}{2} \\Big[ |00\\rangle_A(\\alpha |0\\rangle_B + \\beta |1\\rangle_B) + |01\\rangle_A(\\alpha |1\\rangle_B + \\beta |0\\rangle_B) + |10\\rangle_A(\\alpha |0\\rangle_B - \\beta |1\\rangle_B) + |11\\rangle_A(\\alpha |1\\rangle_B - \\beta |0\\rangle_B) \\Big]\n",
    "$$\n",
    "\n",
    "On a traditional protocol Alice would measure her qubits and send the two classical bits she got to Bob. Bob would know what gates he would need to apply to Alice's qubit in order to retrieve the original state $|\\psi\\rangle$. Since we are dealing with quantum circuit we will make controlled operations in order to teletransport the state from Alice to Bob.\n",
    "\n",
    "\n",
    "Once Alice has measured the qubit her qubits have collapsed to one of the four states mentioned before. Lets show for each one of them how she would apply the gates:\n",
    "$$\n",
    "C_X^{A_1 \\rightarrow B}C_Z^{A_0 \\rightarrow B}|0\\rangle_{A_0}|0\\rangle_{A_1}(\\alpha|0\\rangle +\\beta|1\\rangle)_B  = |0\\rangle_{A_0}|0\\rangle_{A_1}(\\alpha|0\\rangle +\\beta|1\\rangle)_B  \\\\\n",
    "C_X^{A_1 \\rightarrow B}C_Z^{A_0 \\rightarrow B}|0\\rangle_{A_0}|1\\rangle_{A_1}(\\alpha|1\\rangle +\\beta|0\\rangle)_B  = |0\\rangle_{A_0}|1\\rangle_{A_1}(\\alpha|0\\rangle +\\beta|1\\rangle)_B  \\\\\n",
    "C_X^{A_1 \\rightarrow B}C_Z^{A_0 \\rightarrow B}|1\\rangle_{A_0}|0\\rangle_{A_1}(\\alpha|0\\rangle - \\beta|1\\rangle)_B\n",
    "= |1\\rangle_{A_0}|0\\rangle_{A_1}(\\alpha|0\\rangle +\\beta|1\\rangle)_B  \\\\\n",
    "C_X^{A_1 \\rightarrow B}C_Z^{A_0 \\rightarrow B}|1\\rangle_{A_0}|1\\rangle_{A_1}(\\alpha|1\\rangle -\\beta|0\\rangle)_B\n",
    "= |1\\rangle_{A_0}|1\\rangle_{A_1}(\\alpha|0\\rangle +\\beta|1\\rangle)_B  \n",
    "$$\n"
   ]
  },
  {
   "cell_type": "code",
   "execution_count": 124,
   "id": "82d63023",
   "metadata": {},
   "outputs": [],
   "source": [
    "theta = np.pi; phi = np.pi; lamb = np.pi/2"
   ]
  },
  {
   "cell_type": "code",
   "execution_count": 158,
   "id": "0b6f3e89",
   "metadata": {},
   "outputs": [
    {
     "data": {
      "text/plain": [
       "<qiskit.circuit.instructionset.InstructionSet at 0x11e9e4040>"
      ]
     },
     "execution_count": 158,
     "metadata": {},
     "output_type": "execute_result"
    }
   ],
   "source": [
    "a = QuantumRegister(1, name = 'Alice')\n",
    "b = QuantumRegister(1, name = 'Bob')\n",
    "psi = QuantumRegister(1, name = 'psi')\n",
    "creg = ClassicalRegister(3)\n",
    "qc = QuantumCircuit(psi,a,b,creg)\n",
    "\n",
    "\n",
    "qc.x(0)\n",
    "qc.h(0)\n",
    "qc.barrier()\n",
    "\n",
    "qc.h(1)\n",
    "qc.cx(1,2)\n",
    "qc.barrier()\n",
    "\n",
    "qc.cx(0,1)\n",
    "qc.h(0)\n",
    "\n",
    "qc.measure([0,1],[0,1])\n",
    "qc.save_statevector(label = 'Alice')\n",
    "qc.barrier()\n",
    "qc.cx(1,2)\n",
    "qc.cz(0,2)\n",
    "\n",
    "qc.save_statevector(label = 'Bob')\n",
    "qc.measure([2],[2])\n",
    "\n"
   ]
  },
  {
   "cell_type": "code",
   "execution_count": 159,
   "id": "5958d61a",
   "metadata": {},
   "outputs": [
    {
     "data": {
      "image/png": "[encoded data removed]",
      "text/plain": [
       "<Figure size 1491.29x367.889 with 1 Axes>"
      ]
     },
     "execution_count": 159,
     "metadata": {},
     "output_type": "execute_result"
    }
   ],
   "source": [
    "%matplotlib inline\n",
    "qc.draw(output = 'mpl')"
   ]
  },
  {
   "cell_type": "code",
   "execution_count": 160,
   "id": "94288770",
   "metadata": {},
   "outputs": [],
   "source": [
    "result_telep = result = simulator_aer.run(qc, shots = 1).result()\n",
    "alice_st = result_telep.data()['Alice']\n",
    "bob_st = result_telep.data()['Bob']\n"
   ]
  },
  {
   "cell_type": "code",
   "execution_count": 161,
   "id": "64991e44",
   "metadata": {},
   "outputs": [
    {
     "data": {
      "text/latex": [
       "$$\\frac{\\sqrt{2}}{2} |011\\rangle+\\frac{\\sqrt{2}}{2} |111\\rangle$$"
      ],
      "text/plain": [
       "<IPython.core.display.Latex object>"
      ]
     },
     "execution_count": 161,
     "metadata": {},
     "output_type": "execute_result"
    }
   ],
   "source": [
    "alice_st.draw(output = 'latex')"
   ]
  },
  {
   "cell_type": "code",
   "execution_count": 162,
   "id": "37a6f9d7",
   "metadata": {},
   "outputs": [
    {
     "data": {
      "text/latex": [
       "$$\\frac{\\sqrt{2}}{2} |011\\rangle- \\frac{\\sqrt{2}}{2} |111\\rangle$$"
      ],
      "text/plain": [
       "<IPython.core.display.Latex object>"
      ]
     },
     "execution_count": 162,
     "metadata": {},
     "output_type": "execute_result"
    }
   ],
   "source": [
    "bob_st.draw(output = 'latex')"
   ]
  },
  {
   "cell_type": "markdown",
   "id": "98fb797d",
   "metadata": {},
   "source": [
    "Remebering the little-endian notation the first qubit represents Bob's state. So before measurement Bob's qubit was correctly in $|-\\rangle$."
   ]
  },
  {
   "cell_type": "markdown",
   "id": "00d4a2dc",
   "metadata": {},
   "source": [
    "## Teleportation Protocol with a Third Party\n",
    "\n",
    "If we now also have Charlie who is entangled with the other qubit Alice has, we will have a total system written as:\n",
    "\n",
    "$$\n",
    "|\\psi_1\\rangle = |\\psi\\rangle_{AC} |\\Phi_+\\rangle_{AB} = \\frac{|0\\rangle_A |\\Phi_+\\rangle |0\\rangle_C + |1\\rangle_A |\\Phi_+\\rangle |1\\rangle_C}{2}\n",
    "$$\n",
    "\n",
    "Continuing with the protocol normally, we would first apply a CNOT on Alice's qubits:\n",
    "\n",
    "$$\n",
    "|\\psi_2\\rangle = C_X |\\psi\\rangle_{AC} |\\Phi_+\\rangle_{AB} = \\frac{|0\\rangle_A |\\Phi_+\\rangle |0\\rangle_C + |1\\rangle_A |\\Psi_+\\rangle |1\\rangle_C}{2}\n",
    "$$\n",
    "\n",
    "Then we would apply a Hadamard gate to the qubit she is trying to send:\n",
    "\n",
    "$$\n",
    "|\\psi_3\\rangle = (H \\otimes I \\otimes I) |\\psi_2\\rangle = \\frac{|0\\rangle_A |\\Phi_+\\rangle |0\\rangle_C + |1\\rangle_A |\\Phi_+\\rangle |0\\rangle_C + |0\\rangle_A |\\Psi_+\\rangle |1\\rangle_C - |1\\rangle_A |\\Psi_+\\rangle |1\\rangle_C}{2\\sqrt{2}}\n",
    "$$\n",
    "\n",
    "This state can be rewritten as:\n",
    "\n",
    "$$\n",
    "\\frac{1}{2} \\left[\n",
    "|00\\rangle \\left( \\frac{1}{\\sqrt{2}}(|00\\rangle + |11\\rangle) \\right) +\n",
    "|01\\rangle \\left( \\frac{1}{\\sqrt{2}}(|10\\rangle + |01\\rangle) \\right) +\n",
    "|10\\rangle \\left( \\frac{1}{\\sqrt{2}}(|00\\rangle - |11\\rangle) \\right) +\n",
    "|11\\rangle \\left( \\frac{1}{\\sqrt{2}}(|10\\rangle - |01\\rangle) \\right)\n",
    "\\right]\n",
    "$$\n",
    "\n",
    "And just like in the original protocol:\n",
    "\n",
    "\n",
    "$$\n",
    "C_X^{A_1 \\rightarrow B} C_Z^{A_0 \\rightarrow B} |0\\rangle_{A_0} |0\\rangle_{A_1} \\left( \\frac{1}{\\sqrt{2}} (|0\\rangle_B |0\\rangle_C + |1\\rangle_B |1\\rangle_C) \\right) = |0\\rangle_{A_0} |0\\rangle_{A_1} \\left( \\frac{1}{\\sqrt{2}} (|0\\rangle_B |0\\rangle_C + |1\\rangle_B |1\\rangle_C) \\right)\n",
    "\\\\\n",
    "C_X^{A_1 \\rightarrow B} C_Z^{A_0 \\rightarrow B} |0\\rangle_{A_0} |1\\rangle_{A_1} \\left( \\frac{1}{\\sqrt{2}} (|1\\rangle_B |0\\rangle_C + |0\\rangle_B |1\\rangle_C) \\right) = |0\\rangle_{A_0} |0\\rangle_{A_1} \\left( \\frac{1}{\\sqrt{2}} (|0\\rangle_B |0\\rangle_C + |1\\rangle_B |1\\rangle_C) \\right)\n",
    "\\\\\n",
    "C_X^{A_1 \\rightarrow B} C_Z^{A_0 \\rightarrow B} |1\\rangle_{A_0} |0\\rangle_{A_1} \\left( \\frac{1}{\\sqrt{2}} (|0\\rangle_B |0\\rangle_C - |1\\rangle_B |1\\rangle_C) \\right) = |0\\rangle_{A_0} |0\\rangle_{A_1} \\left( \\frac{1}{\\sqrt{2}} (|0\\rangle_B |0\\rangle_C + |1\\rangle_B |1\\rangle_C) \\right)\n",
    "\\\\\n",
    "C_X^{A_1 \\rightarrow B} C_Z^{A_0 \\rightarrow B} |1\\rangle_{A_0} |1\\rangle_{A_1} \\left( \\frac{1}{\\sqrt{2}} (|1\\rangle_B |0\\rangle_C - |0\\rangle_B |1\\rangle_C) \\right) = |0\\rangle_{A_0} |0\\rangle_{A_1} \\left( \\frac{1}{\\sqrt{2}} (|0\\rangle_B |0\\rangle_C + |1\\rangle_B |1\\rangle_C) \\right)\n",
    "$$\n",
    "\n"
   ]
  },
  {
   "cell_type": "code",
   "execution_count": 148,
   "id": "15ea199c",
   "metadata": {},
   "outputs": [
    {
     "data": {
      "text/plain": [
       "<qiskit.circuit.instructionset.InstructionSet at 0x11e77dab0>"
      ]
     },
     "execution_count": 148,
     "metadata": {},
     "output_type": "execute_result"
    }
   ],
   "source": [
    "a = QuantumRegister(1, name = 'Alice')\n",
    "b = QuantumRegister(1, name = 'Bob')\n",
    "psi = QuantumRegister(1, name = 'psi')\n",
    "c = QuantumRegister(1, name = 'Charlie')\n",
    "creg = ClassicalRegister(3)\n",
    "qc = QuantumCircuit(psi,a,b,c, creg)\n",
    "\n",
    "qc.h(0)\n",
    "qc.cx(0,3)\n",
    "qc.barrier()\n",
    "\n",
    "qc.h(1)\n",
    "qc.cx(1,2)\n",
    "qc.barrier()\n",
    "\n",
    "qc.cx(0,1)\n",
    "qc.h(0)\n",
    "\n",
    "qc.measure([0,1],[0,1])\n",
    "qc.save_statevector(label = 'Alice')\n",
    "qc.barrier()\n",
    "qc.cx(1,2)\n",
    "qc.cz(0,2)\n",
    "\n",
    "qc.save_statevector(label = 'Bob')\n",
    "qc.measure([2],[2])"
   ]
  },
  {
   "cell_type": "code",
   "execution_count": 149,
   "id": "ff8f750b",
   "metadata": {},
   "outputs": [
    {
     "data": {
      "image/png": "[encoded data removed]",
      "text/plain": [
       "<Figure size 1523.74x451.5 with 1 Axes>"
      ]
     },
     "execution_count": 149,
     "metadata": {},
     "output_type": "execute_result"
    }
   ],
   "source": [
    "qc.draw('mpl')"
   ]
  },
  {
   "cell_type": "code",
   "execution_count": 150,
   "id": "2501b8f5",
   "metadata": {},
   "outputs": [],
   "source": [
    "result_telep = result = simulator_aer.run(qc, shots = 1).result()\n",
    "alice_st = result_telep.data()['Alice']\n",
    "bob_st = result_telep.data()['Bob']"
   ]
  },
  {
   "cell_type": "code",
   "execution_count": 151,
   "id": "e56c91d2",
   "metadata": {},
   "outputs": [
    {
     "data": {
      "text/latex": [
       "$$\\frac{\\sqrt{2}}{2} |0111\\rangle- \\frac{\\sqrt{2}}{2} |1011\\rangle$$"
      ],
      "text/plain": [
       "<IPython.core.display.Latex object>"
      ]
     },
     "execution_count": 151,
     "metadata": {},
     "output_type": "execute_result"
    }
   ],
   "source": [
    "alice_st.draw(output = 'latex')"
   ]
  },
  {
   "cell_type": "code",
   "execution_count": 152,
   "id": "56b938b5",
   "metadata": {},
   "outputs": [
    {
     "data": {
      "text/latex": [
       "$$\\frac{\\sqrt{2}}{2} |0011\\rangle+\\frac{\\sqrt{2}}{2} |1111\\rangle$$"
      ],
      "text/plain": [
       "<IPython.core.display.Latex object>"
      ]
     },
     "execution_count": 152,
     "metadata": {},
     "output_type": "execute_result"
    }
   ],
   "source": [
    "bob_st.draw(output = 'latex')"
   ]
  },
  {
   "cell_type": "markdown",
   "id": "0f723dc5",
   "metadata": {},
   "source": [
    "Remebering the little-endian notation we can see that the first two qubits, which represent the state of Charlie's and Bobs' qubit are in the entangled state we wanted them to be. The state was correctly teletransported."
   ]
  }
 ],
 "metadata": {
  "kernelspec": {
   "display_name": "qic",
   "language": "python",
   "name": "qic"
  },
  "language_info": {
   "codemirror_mode": {
    "name": "ipython",
    "version": 3
   },
   "file_extension": ".py",
   "mimetype": "text/x-python",
   "name": "python",
   "nbconvert_exporter": "python",
   "pygments_lexer": "ipython3",
   "version": "3.12.2"
  }
 },
 "nbformat": 4,
 "nbformat_minor": 5
}
