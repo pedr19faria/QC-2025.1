{
 "cells": [
  {
   "cell_type": "markdown",
   "id": "291dc463",
   "metadata": {},
   "source": [
    "# Prova 3\n",
    "### Aluno: Pedro Faria Albuquerque\n",
    "### Número de matrícula: 2022039658\n"
   ]
  },
  {
   "cell_type": "markdown",
   "id": "de46981c",
   "metadata": {},
   "source": [
    "#### warning\n",
    "Qiskit uses little-endian notation, which is different from the notation used by Nielsen and Chuang and the class notes. This means that the ordering of the qubits is different:\n",
    "\n",
    "\n",
    "Little-endian (qiskit): $|q_1q_0\\rangle$\n",
    "Big-endian (Nielsen): $|q_0q_1\\rangle$"
   ]
  },
  {
   "cell_type": "markdown",
   "id": "06cb0353",
   "metadata": {},
   "source": [
    "### Disclaimer: Use of gemini\n",
    "\n",
    "I used gemini to document the codes and to prepare the test cases.\n",
    "\n",
    "In the oracle section gemini helped me with what python functions I should use to trace out the auxiliary qubits.\n",
    "\n",
    "\n",
    "The algorithms and functions which solve the exercise did not involve the use of LLMs."
   ]
  },
  {
   "cell_type": "markdown",
   "id": "95b8e092",
   "metadata": {},
   "source": [
    "### Importing global functions and defining global variables"
   ]
  },
  {
   "cell_type": "code",
   "execution_count": 1,
   "id": "4bf5fa9b",
   "metadata": {},
   "outputs": [],
   "source": [
    "from qiskit.visualization import plot_bloch_vector\n",
    "import numpy as np\n",
    "from qiskit.quantum_info import state_fidelity, partial_trace, Statevector\n",
    "from qiskit.visualization import plot_bloch_vector, plot_bloch_multivector, plot_state_qsphere\n",
    "from qiskit import QuantumCircuit, QuantumRegister, ClassicalRegister\n",
    "from qiskit.providers.basic_provider import BasicSimulator\n",
    "from qiskit_aer import AerSimulator\n",
    "import numpy as np\n",
    "from qiskit.visualization import plot_histogram\n",
    "import time\n",
    "\n",
    "from scipy.linalg import eigh\n",
    "\n",
    "simulator_basic = BasicSimulator()\n",
    "simulator_aer = AerSimulator()"
   ]
  },
  {
   "cell_type": "markdown",
   "id": "94e1bed0",
   "metadata": {},
   "source": [
    "### Exercise 1:"
   ]
  },
  {
   "cell_type": "code",
   "execution_count": 2,
   "id": "b60f9b49",
   "metadata": {},
   "outputs": [],
   "source": [
    "def ex_1(gate):\n",
    "    \"\"\"\n",
    "    Constructs and simulates a single-qubit quantum circuit with conditional gates.\n",
    "\n",
    "    This function defines a quantum circuit that starts with an X-gate applied\n",
    "    to a single qubit. Depending on the `gate` parameter, it then conditionally\n",
    "    applies a Hadamard (H) or Pauli-X (X) gate at specific points, always\n",
    "    sandwiching a Pauli-Z (Z) gate. The circuit's final statevector is saved,\n",
    "    and then a measurement is performed. The function returns the measurement\n",
    "    counts from a single shot simulation using `simulator_aer`.\n",
    "\n",
    "    The sequence of operations is as follows:\n",
    "    1. Apply an X-gate. Starts the qubit at |1>\n",
    "    2. If `gate` is 'h', apply an H-gate.\n",
    "    3. Apply a Z-gate.\n",
    "    4. If `gate` is 'h', apply an H-gate.\n",
    "    5. If `gate` is 'x', apply an X-gate.\n",
    "    6. Apply a Z-gate.\n",
    "    7. If `gate` is 'x', apply an X-gate.\n",
    "    8. Save the statevector.\n",
    "    9. Measure the qubit.\n",
    "\n",
    "    Args:\n",
    "        gate (str): A string specifying the conditional gate to apply.\n",
    "                    Accepted values are 'h' for Hadamard gates or 'x' for Pauli-X gates.\n",
    "                    If any other value is provided, no additional conditional gates are applied.\n",
    "\n",
    "    Returns:\n",
    "        dict: A dictionary representing the measurement counts from the\n",
    "              quantum circuit simulation. The keys are the measurement outcomes\n",
    "              (e.g., '0' or '1'), and the values are their frequencies (which\n",
    "              will be 1 for the observed outcome since shots=1).\n",
    "\n",
    "    \"\"\"\n",
    "    \n",
    "    \n",
    "    ### Define the circuit:\n",
    "    qc = QuantumCircuit(1)\n",
    "    qc.x(0)\n",
    "    \n",
    "    \n",
    "    if gate == 'h':\n",
    "        qc.h(0)\n",
    "    qc.z(0)\n",
    "    if gate == 'h':\n",
    "        qc.h(0)\n",
    "    if gate == 'x':\n",
    "        qc.x(0)\n",
    "    qc.z(0)\n",
    "    if gate == 'x':\n",
    "        qc.x(0)\n",
    "    \n",
    "    qc.save_statevector(label = 'state')\n",
    "    qc.measure_all()\n",
    "    \n",
    "    res = simulator_aer.run(qc, shots = 1).result()\n",
    "\n",
    "    statevector = res.data()['state']\n",
    "    \n",
    "    return res.get_counts()"
   ]
  },
  {
   "cell_type": "code",
   "execution_count": 3,
   "id": "1bc3eefb",
   "metadata": {},
   "outputs": [
    {
     "name": "stdout",
     "output_type": "stream",
     "text": [
      "Time taken for ex_1('h'): 0.113718 seconds\n",
      "Counts for 'h': {'0': 1}\n",
      "------------------------------\n",
      "Time taken for ex_1('x'): 0.002653 seconds\n",
      "Counts for 'x': {'1': 1}\n",
      "------------------------------\n",
      "Average time over 100 runs for ex_1('h'): 0.001679 seconds\n",
      "Average time over 100 runs for ex_1('x'): 0.002033 seconds\n"
     ]
    }
   ],
   "source": [
    "\n",
    "# Test with 'h' gate\n",
    "start_time_h = time.perf_counter()\n",
    "counts_h = ex_1('h')\n",
    "end_time_h = time.perf_counter()\n",
    "time_elapsed_h = end_time_h - start_time_h\n",
    "print(f\"Time taken for ex_1('h'): {time_elapsed_h:.6f} seconds\")\n",
    "print(f\"Counts for 'h': {counts_h}\")\n",
    "print(\"-\" * 30)\n",
    "\n",
    "# Test with 'x' gate\n",
    "start_time_x = time.perf_counter()\n",
    "counts_x = ex_1('x')\n",
    "end_time_x = time.perf_counter()\n",
    "time_elapsed_x = end_time_x - start_time_x\n",
    "print(f\"Time taken for ex_1('x'): {time_elapsed_x:.6f} seconds\")\n",
    "print(f\"Counts for 'x': {counts_x}\")\n",
    "print(\"-\" * 30)\n",
    "\n",
    "### Average time for 100 runs: \n",
    "num_runs = 100\n",
    "total_time_h = 0\n",
    "for _ in range(num_runs):\n",
    "    start_time = time.perf_counter()\n",
    "    ex_1('h')\n",
    "    end_time = time.perf_counter()\n",
    "    total_time_h += (end_time - start_time)\n",
    "\n",
    "average_time_h = total_time_h / num_runs\n",
    "print(f\"Average time over {num_runs} runs for ex_1('h'): {average_time_h:.6f} seconds\")\n",
    "\n",
    "\n",
    "total_time_x = 0\n",
    "for _ in range(num_runs):\n",
    "    start_time = time.perf_counter()\n",
    "    ex_1('x')\n",
    "    end_time = time.perf_counter()\n",
    "    total_time_x += (end_time - start_time)\n",
    "\n",
    "average_time_x = total_time_x / num_runs\n",
    "print(f\"Average time over {num_runs} runs for ex_1('x'): {average_time_x:.6f} seconds\")\n",
    "\n"
   ]
  },
  {
   "cell_type": "markdown",
   "id": "f2a1a876",
   "metadata": {},
   "source": [
    "The circuit can be visualized belowed:\n",
    "\n",
    "We use the fact that $X = HZH$."
   ]
  },
  {
   "cell_type": "code",
   "execution_count": 4,
   "id": "64be45d7",
   "metadata": {},
   "outputs": [
    {
     "data": {
      "image/png": "[encoded data removed]",
      "text/plain": [
       "<Figure size 747.609x200.667 with 1 Axes>"
      ]
     },
     "metadata": {},
     "output_type": "display_data"
    },
    {
     "data": {
      "text/latex": [
       "$$ |1\\rangle$$"
      ],
      "text/plain": [
       "<IPython.core.display.Latex object>"
      ]
     },
     "metadata": {},
     "output_type": "display_data"
    },
    {
     "data": {
      "text/plain": [
       "{'1': 500}"
      ]
     },
     "metadata": {},
     "output_type": "display_data"
    }
   ],
   "source": [
    "### For X:\n",
    "\n",
    "qc = QuantumCircuit(1)\n",
    "\n",
    "qc.x(0)\n",
    "\n",
    "\n",
    "qc.x(0)\n",
    "qc.z(0)\n",
    "qc.x(0)\n",
    "\n",
    "\n",
    "qc.save_statevector(label = 'state')\n",
    "qc.measure_all()\n",
    "\n",
    "\n",
    "display(qc.draw('mpl'))\n",
    "\n",
    "res = simulator_aer.run(qc, shots = 500).result()\n",
    "\n",
    "display(res.data()['state'].draw(output = 'latex'))\n",
    "display(res.get_counts())"
   ]
  },
  {
   "cell_type": "code",
   "execution_count": 5,
   "id": "b6e12b2e",
   "metadata": {},
   "outputs": [
    {
     "data": {
      "image/png": "[encoded data removed]",
      "text/plain": [
       "<Figure size 747.609x200.667 with 1 Axes>"
      ]
     },
     "metadata": {},
     "output_type": "display_data"
    },
    {
     "data": {
      "text/latex": [
       "$$ |0\\rangle$$"
      ],
      "text/plain": [
       "<IPython.core.display.Latex object>"
      ]
     },
     "metadata": {},
     "output_type": "display_data"
    },
    {
     "data": {
      "text/plain": [
       "{'0': 500}"
      ]
     },
     "metadata": {},
     "output_type": "display_data"
    }
   ],
   "source": [
    "### For H:\n",
    "\n",
    "qc = QuantumCircuit(1)\n",
    "\n",
    "qc.x(0)\n",
    "\n",
    "\n",
    "qc.h(0)\n",
    "qc.z(0)\n",
    "qc.h(0)\n",
    "\n",
    "\n",
    "qc.save_statevector(label = 'state')\n",
    "qc.measure_all()\n",
    "\n",
    "\n",
    "display(qc.draw('mpl'))\n",
    "\n",
    "res = simulator_aer.run(qc, shots = 500).result()\n",
    "\n",
    "display(res.data()['state'].draw(output = 'latex'))\n",
    "display(res.get_counts())"
   ]
  },
  {
   "cell_type": "markdown",
   "id": "e1f8698e",
   "metadata": {},
   "source": [
    "### Exercise 2.\n",
    "\n",
    "### Answer:\n",
    "\n",
    "We will use the superdense coding protocol to answer this question. The protocol sends two bits using only one qubit and the two bits are sent depending on the choice of gates used by Alice - applied to the first qubit. The ideia here will be the same, except you pass the gate, instead of the two bits you would like to send."
   ]
  },
  {
   "cell_type": "code",
   "execution_count": 6,
   "id": "1f6a670d",
   "metadata": {},
   "outputs": [],
   "source": [
    "def ex_2(gate):\n",
    "    \"\"\"\n",
    "    Constructs, simulates, and analyzes a quantum circuit to figure our what unitary was passed.\n",
    "\n",
    "    The circuit prepares a Bell state (|Phi+>), applies a single-qubit gate\n",
    "    (Identity, Pauli-X, Pauli-Z, or Pauli-Y) to one qubit, and then measures\n",
    "    both qubits in the Bell basis. The measurement outcome (a binary string\n",
    "    like '00', '01', '10', '11') is converted to an integer (0, 1, 2, or 3).\n",
    "    A specific mapping is applied to swap outcomes 2 and 3 for the final return value.\n",
    "\n",
    "    The circuit operations are:\n",
    "    1.  Initialize a 2-qubit quantum circuit.\n",
    "    2.  Create a Bell state |Phi+> (1/sqrt(2) * (|00> + |11>)) by applying H to qubit 1\n",
    "        and CNOT from qubit 1 to qubit 0.\n",
    "    3.  Apply a barrier.\n",
    "    4.  Conditionally apply a single-qubit gate to qubit 0 based on the `gate` parameter:\n",
    "        -   'I': Identity gate (qc.id(0))\n",
    "        -   'X': Pauli-X gate (qc.x(0))\n",
    "        -   'Z': Pauli-Z gate (qc.z(0))\n",
    "        -   'Y': Pauli-Y gate (qc.x(0); qc.z(0) - equivalent to Y up to a global phase)\n",
    "    5.  Apply another barrier.\n",
    "    6.  Measure in the Bell basis:\n",
    "        -   CNOT from qubit 1 to qubit 0.\n",
    "        -   Hadamard gate on qubit 1.\n",
    "    7.  Measure all qubits.\n",
    "    8.  Run the circuit on `simulator_aer` for 1 shot.\n",
    "    9.  Extract the single measurement outcome (binary string).\n",
    "    10. Convert the binary string outcome to an integer.\n",
    "    11. Apply a final remapping: if the integer is 2, return 3; if 3, return 2;\n",
    "        otherwise, return the integer as is.\n",
    "    12. Measures and prints the execution time of the function.\n",
    "\n",
    "    Args:\n",
    "        gate (str): A single character string specifying the gate to apply to qubit 0.\n",
    "                    Supported values: 'I' (Identity), 'X' (Pauli-X), 'Z' (Pauli-Z),\n",
    "                    'Y' (Pauli-Y). Case-sensitive.\n",
    "\n",
    "    Returns:\n",
    "        int: An integer representing the mapped measurement outcome (0, 1, 2, or 3).\n",
    "             This value corresponds to the final state measured in the Bell basis,\n",
    "             after a specific remapping of outcomes 2 and 3.\n",
    "    \"\"\"\n",
    "    qc = QuantumCircuit(2)\n",
    "    \n",
    "    ### creates bell state |Phi_+>:\n",
    "    qc.h(1)\n",
    "    \n",
    "    qc.cx(1,0)\n",
    "    \n",
    "    qc.barrier()\n",
    "    \n",
    "    ### applies task\n",
    "    if gate == 'I':\n",
    "        qc.id(0)\n",
    "        \n",
    "    elif gate == 'X':\n",
    "        qc.x(0)\n",
    "    elif gate =='Z':\n",
    "        qc.z(0)\n",
    "    elif gate == 'Y':\n",
    "        qc.x(0); qc.z(0)    \n",
    "        \n",
    "    qc.barrier()\n",
    "    \n",
    "    ### measuring in the bell basis:\n",
    "    \n",
    "    qc.cx(1,0)\n",
    "    qc.h(1)\n",
    "    qc.measure_all()\n",
    "    \n",
    "    res = simulator_aer.run(qc, shots = 1).result()\n",
    "    count = res.get_counts()\n",
    "    \n",
    "    ### Returning 0,1,2,3 instead of binary:\n",
    "    \n",
    "    ### This is just a matter of Alice and Bob determining what each bit represents:\n",
    "    \n",
    "    key = list(count.keys())[0]\n",
    "    integer = int(key, 2)\n",
    "    if integer == 2:\n",
    "        ans = 3\n",
    "    elif integer ==3:\n",
    "        ans = 2\n",
    "    else:\n",
    "        ans = integer\n",
    "    return ans\n",
    "    \n",
    "    \n",
    "    \n",
    "    \n",
    "    "
   ]
  },
  {
   "cell_type": "code",
   "execution_count": 7,
   "id": "a089b14b",
   "metadata": {},
   "outputs": [
    {
     "name": "stdout",
     "output_type": "stream",
     "text": [
      "--- Testing ex_2 function ---\n",
      "Result for 'I' gate: 0\n",
      "\n",
      "Result for 'X' gate: 1\n",
      "\n",
      "Result for 'Y' gate: 2\n",
      "\n",
      "Result for 'Z' gate: 3\n",
      "\n"
     ]
    }
   ],
   "source": [
    "\n",
    "# --- Example Usage ---\n",
    "print(\"--- Testing ex_2 function ---\")\n",
    "\n",
    "# Test with 'I' gate\n",
    "result_I = ex_2('I')\n",
    "print(f\"Result for 'I' gate: {result_I}\\n\") # Expected: 0 \n",
    "\n",
    "# Test with 'X' gate\n",
    "result_X = ex_2('X')\n",
    "print(f\"Result for 'X' gate: {result_X}\\n\") # Expected: 1\n",
    "\n",
    "# Test with 'Y' gate\n",
    "result_Y = ex_2('Y')\n",
    "print(f\"Result for 'Y' gate: {result_Y}\\n\") # Expected: 2 \n",
    "\n",
    "# Test with 'Z' gate\n",
    "result_Z = ex_2('Z')\n",
    "print(f\"Result for 'Z' gate: {result_Z}\\n\") # Expected: 3 \n",
    "\n",
    "\n"
   ]
  },
  {
   "cell_type": "code",
   "execution_count": 8,
   "id": "f37caafa",
   "metadata": {},
   "outputs": [
    {
     "name": "stdout",
     "output_type": "stream",
     "text": [
      "--- Measuring execution time for ex_2() ---\n",
      "Time taken for ex_2('I'): 0.004427077 seconds\n",
      "Result for 'I' gate: 0\n",
      "------------------------------\n",
      "Time taken for ex_2('X'): 0.007515890 seconds\n",
      "Result for 'X' gate: 1\n",
      "------------------------------\n",
      "Time taken for ex_2('Y'): 0.005896780 seconds\n",
      "Result for 'Y' gate: 2\n",
      "------------------------------\n",
      "Time taken for ex_2('Z'): 0.005282788 seconds\n",
      "Result for 'Z' gate: 3\n",
      "------------------------------\n",
      "\n",
      "--- Average time over 100 runs for each gate type ---\n",
      "Average time for ex_2('I') over 100 runs: 0.003142809 seconds\n",
      "Average time for ex_2('X') over 100 runs: 0.003121908 seconds\n",
      "Average time for ex_2('Z') over 100 runs: 0.002138464 seconds\n",
      "Average time for ex_2('Y') over 100 runs: 0.002218200 seconds\n"
     ]
    }
   ],
   "source": [
    "print(\"--- Measuring execution time for ex_2() ---\")\n",
    "\n",
    "# Test with 'I' gate\n",
    "start_time_I = time.perf_counter()\n",
    "result_I = ex_2('I')\n",
    "end_time_I = time.perf_counter()\n",
    "time_elapsed_I = end_time_I - start_time_I\n",
    "print(f\"Time taken for ex_2('I'): {time_elapsed_I:.9f} seconds\")\n",
    "print(f\"Result for 'I' gate: {result_I}\")\n",
    "print(\"-\" * 30)\n",
    "\n",
    "# Test with 'X' gate\n",
    "start_time_X = time.perf_counter()\n",
    "result_X = ex_2('X')\n",
    "end_time_X = time.perf_counter()\n",
    "time_elapsed_X = end_time_X - start_time_X\n",
    "print(f\"Time taken for ex_2('X'): {time_elapsed_X:.9f} seconds\")\n",
    "print(f\"Result for 'X' gate: {result_X}\")\n",
    "print(\"-\" * 30)\n",
    "\n",
    "# Test with 'Y' gate\n",
    "start_time_Y = time.perf_counter()\n",
    "result_Y = ex_2('Y')\n",
    "end_time_Y = time.perf_counter()\n",
    "time_elapsed_Y = end_time_Y - start_time_Y\n",
    "print(f\"Time taken for ex_2('Y'): {time_elapsed_Y:.9f} seconds\")\n",
    "print(f\"Result for 'Y' gate: {result_Y}\")\n",
    "print(\"-\" * 30)\n",
    "\n",
    "# Test with 'Z' gate\n",
    "start_time_Z = time.perf_counter()\n",
    "result_Z = ex_2('Z')\n",
    "end_time_Z = time.perf_counter()\n",
    "time_elapsed_Z = end_time_Z - start_time_Z\n",
    "print(f\"Time taken for ex_2('Z'): {time_elapsed_Z:.9f} seconds\")\n",
    "print(f\"Result for 'Z' gate: {result_Z}\")\n",
    "print(\"-\" * 30)\n",
    "\n",
    "\n",
    "num_runs = 100\n",
    "total_time_all_gates = 0\n",
    "gates_to_test = ['I', 'X', 'Z', 'Y']\n",
    "\n",
    "print(f\"\\n--- Average time over {num_runs} runs for each gate type ---\")\n",
    "for gate_type in gates_to_test:\n",
    "    total_time_for_gate = 0\n",
    "    for _ in range(num_runs):\n",
    "        start_time_run = time.perf_counter()\n",
    "        ex_2(gate_type)\n",
    "        end_time_run = time.perf_counter()\n",
    "        total_time_for_gate += (end_time_run - start_time_run)\n",
    "    average_time_for_gate = total_time_for_gate / num_runs\n",
    "    print(f\"Average time for ex_2('{gate_type}') over {num_runs} runs: {average_time_for_gate:.9f} seconds\")"
   ]
  },
  {
   "cell_type": "markdown",
   "id": "571b638f",
   "metadata": {},
   "source": [
    "### Exercise 3"
   ]
  },
  {
   "cell_type": "code",
   "execution_count": 235,
   "id": "75f40ef5",
   "metadata": {},
   "outputs": [
    {
     "name": "stdout",
     "output_type": "stream",
     "text": [
      "--- Testing prepare_psi0 and prepare_psi1 with ex_3 ---\n",
      "\n",
      "Testing prepare_psi0:\n",
      "  Time taken to prepare_psi0: 0.000490190 seconds\n",
      "  Average time for ex_3 with psi0 over 100 runs: 0.030310428 seconds\n",
      "  Results for psi0: {'0'}\n",
      "  ex_3 always returned '0' for prepare_psi0.\n",
      "\n",
      "Testing prepare_psi1:\n",
      "  Time taken to prepare_psi1: 0.000417389 seconds\n",
      "  Average time for ex_3 with psi1 over 100 runs: 0.024687660 seconds\n",
      "  Results for psi1: {'1'}\n",
      "  ex_3 always returned '1' for prepare_psi1.\n",
      "\n",
      "--- End of Test Cases ---\n"
     ]
    }
   ],
   "source": [
    "def prepare_psi0() -> QuantumCircuit:\n",
    "    \"\"\"\n",
    "    Prepares a 3-qubit quantum circuit in a specific initial state,\n",
    "    which is intended to be one of a set of orthonormal states (psi0).\n",
    "\n",
    "    The circuit operations are:\n",
    "    1.  Initializes a 3-qubit quantum circuit (all qubits in |0>).\n",
    "    2.  Applies an Ry rotation to qubit 0 with an angle calculated from arccos(1/sqrt(3)).\n",
    "        This prepares qubit 0 in a superposition state.\n",
    "    3.  Applies an Ry rotation to qubit 1 with an angle of 2*arccos(0) = pi.\n",
    "        This effectively flips qubit 1 to |1> if it starts at |0>.\n",
    "    4.  Defines a Controlled-Hadamard (CH) gate with 1 control qubit.\n",
    "    5.  Appends the CH gate to the circuit, with qubit 0 as control and qubit 2 as target.\n",
    "    6.  Applies a CNOT gate with qubit 2 as control and qubit 0 as target.\n",
    "    7.  Applies a CNOT gate with qubit 2 as control and qubit 1 as target.\n",
    "    8.  Applies a CNOT gate with qubit 0 as control and qubit 1 as target.\n",
    "    9.  Applies a Phase gate (P-gate) with an angle of 2*pi/3 to qubit 1.\n",
    "    10. Applies a Phase gate (P-gate) with an angle of 4*pi/3 to qubit 2.\n",
    "\n",
    "    Returns:\n",
    "        QuantumCircuit: A 3-qubit quantum circuit prepared in the 'psi0' state.\n",
    "    \"\"\"\n",
    "    qc = QuantumCircuit(3)\n",
    "\n",
    "    qc.ry(2*np.arccos(1/np.sqrt(3)),0)\n",
    "    qc.ry(2*np.arccos(0),1)\n",
    "    \n",
    "    ch = HGate().control(1)\n",
    "    qc.append(ch, [0,2])\n",
    "    qc.cx(2,0)\n",
    "    qc.cx(2,1)\n",
    "    qc.cx(0,1)\n",
    "\n",
    "    qc.p(2*np.pi/3, 1)\n",
    "    qc.p(4*np.pi/3,2)\n",
    "    return qc\n",
    "\n",
    "def prepare_psi1() -> QuantumCircuit:\n",
    "    \"\"\"\n",
    "    Prepares a 3-qubit quantum circuit in a specific initial state,\n",
    "    which is intended to be another of a set of orthonormal states (psi1),\n",
    "    distinct from psi0 by a relative phase.\n",
    "\n",
    "    The circuit operations are identical to `prepare_psi0` up to the final\n",
    "    phase gates. The differences lie in the angles of the final phase gates:\n",
    "    1.  Initializes a 3-qubit quantum circuit (all qubits in |0>).\n",
    "    2.  Applies an Ry rotation to qubit 0 with an angle calculated from arccos(1/sqrt(3)).\n",
    "    3.  Applies an Ry rotation to qubit 1 with an angle of 2*arccos(0) = pi.\n",
    "    4.  Defines a Controlled-Hadamard (CH) gate with 1 control qubit.\n",
    "    5.  Appends the CH gate to the circuit, with qubit 0 as control and qubit 2 as target.\n",
    "    6.  Applies a CNOT gate with qubit 2 as control and qubit 0 as target.\n",
    "    7.  Applies a CNOT gate with qubit 2 as control and qubit 1 as target.\n",
    "    8.  Applies a CNOT gate with qubit 0 as control and qubit 1 as target.\n",
    "    9.  Applies a Phase gate (P-gate) with an angle of 4*pi/3 to qubit 1.\n",
    "    10. Applies a Phase gate (P-gate) with an angle of 2*pi/3 to qubit 2.\n",
    "\n",
    "    Returns:\n",
    "        QuantumCircuit: A 3-qubit quantum circuit prepared in the 'psi1' state.\n",
    "    \"\"\"\n",
    "    qc = QuantumCircuit(3)\n",
    "\n",
    "    qc.ry(2*np.arccos(1/np.sqrt(3)),0)\n",
    "    qc.ry(2*np.arccos(0),1)\n",
    "    \n",
    "    ch = HGate().control(1)\n",
    "    qc.append(ch, [0,2])\n",
    "    qc.cx(2,0)\n",
    "    qc.cx(2,1)\n",
    "    qc.cx(0,1)\n",
    "\n",
    "    qc.p(4*np.pi/3, 1)\n",
    "    qc.p(2*np.pi/3,2)\n",
    "    return qc \n",
    "\n",
    "def inverse_U() -> QuantumCircuit:\n",
    "    \"\"\"\n",
    "    Generates the inverse of the quantum circuit prepared by `prepare_psi0()`.\n",
    "\n",
    "    This inverse circuit acts as a unitary transformation U_inv such that if\n",
    "    `prepare_psi0()` creates a state |psi0>, then U_inv |psi0> should ideally\n",
    "    return the initial state |000>.\n",
    "\n",
    "    Returns:\n",
    "        QuantumCircuit: The inverse of the circuit generated by `prepare_psi0()`.\n",
    "    \"\"\"\n",
    "    qc = prepare_psi0()\n",
    "    return qc.inverse()\n",
    "    \n",
    "\n",
    "def ex_3(circ: QuantumCircuit) -> str:\n",
    "    \"\"\"\n",
    "    Applies a unitary transformation (the inverse of `prepare_psi0`) to an\n",
    "    input quantum circuit, measures all qubits, and returns a string\n",
    "    indicating the measurement outcome.\n",
    "\n",
    "    This function is designed to distinguish between input states that, when\n",
    "    transformed by `inverse_U()`, ideally map to '000' or other distinct\n",
    "    computational basis states.\n",
    "\n",
    "    The process involves:\n",
    "    1.  Taking the input `circ` (which is assumed to contain an initial state).\n",
    "    2.  Obtaining the inverse unitary `U` from `inverse_U()`.\n",
    "    3.  Appending `U` to `circ`, applying it to all 3 qubits.\n",
    "    4.  Measuring all 3 qubits.\n",
    "    5.  Transpiling the combined circuit for `simulator_aer`.\n",
    "    6.  Running the transpiled circuit on `simulator_aer` for 1 shot.\n",
    "    7.  Extracting the single measurement outcome (e.g., '000', '001').\n",
    "    8.  Returning '0' if the outcome is '000', otherwise returning '1'.\n",
    "        This implies a binary decision based on whether the state was mapped\n",
    "        to '000' or something else.\n",
    "\n",
    "    Args:\n",
    "        circ (QuantumCircuit): The input quantum circuit, expected to be a\n",
    "                               3-qubit circuit containing the state to be distinguished.\n",
    "\n",
    "    Returns:\n",
    "        str: '0' if the measurement outcome is '000', otherwise '1'.\n",
    "\n",
    "    Note:\n",
    "        This function relies on a globally accessible `simulator_aer` object,\n",
    "        which is expected to be an instance of `qiskit_aer.Aerulator`.\n",
    "        The interpretation of '0' or '1' as the return value depends on the\n",
    "        specific properties of the states `prepare_psi0` and `prepare_psi1`\n",
    "        and how `inverse_U` transforms them.\n",
    "    \"\"\"\n",
    "    qc = circ\n",
    "    U = inverse_U()\n",
    "    qc.append(U,[0,1,2])\n",
    "    \n",
    "    qc.measure_all()\n",
    "    \n",
    "    qc_t = transpile(qc,simulator_aer)\n",
    "    res = simulator_aer.run(qc_t, shots = 1).result()\n",
    "    \n",
    "    count = res.get_counts()\n",
    "    \n",
    "    value = list(count.keys())[0]\n",
    "    \n",
    "    if value == '000':\n",
    "        return '0'\n",
    "    else: \n",
    "        return '1'\n",
    "    \n",
    "# --- Test Cases for prepare_psi0 and prepare_psi1 with ex_3 ---\n",
    "if __name__ == \"__main__\":\n",
    "    print(\"--- Testing prepare_psi0 and prepare_psi1 with ex_3 ---\")\n",
    "\n",
    "    num_runs = 100 # Number of times to run ex_3 for robustness check\n",
    "\n",
    "    # --- Test prepare_psi0 ---\n",
    "    print(\"\\nTesting prepare_psi0:\")\n",
    "    start_time_prep0 = time.perf_counter()\n",
    "    psi0_circuit = prepare_psi0()\n",
    "    end_time_prep0 = time.perf_counter()\n",
    "    time_elapsed_prep0 = end_time_prep0 - start_time_prep0\n",
    "    print(f\"  Time taken to prepare_psi0: {time_elapsed_prep0:.9f} seconds\")\n",
    "\n",
    "    results_psi0 = []\n",
    "    total_time_ex3_psi0 = 0\n",
    "    for _ in range(num_runs):\n",
    "        # Create a fresh circuit for ex_3 each time to avoid modifying the original psi0_circuit\n",
    "        qc_for_ex3 = QuantumCircuit(3)\n",
    "        # Append the prepared psi0_circuit to the fresh circuit\n",
    "        qc_for_ex3.compose(psi0_circuit, [0,1,2], inplace=True)\n",
    "        \n",
    "        start_time_ex3_run = time.perf_counter()\n",
    "        result = ex_3(qc_for_ex3)\n",
    "        end_time_ex3_run = time.perf_counter()\n",
    "        total_time_ex3_psi0 += (end_time_ex3_run - start_time_ex3_run)\n",
    "        results_psi0.append(result)\n",
    "    \n",
    "    average_time_ex3_psi0 = total_time_ex3_psi0 / num_runs\n",
    "    print(f\"  Average time for ex_3 with psi0 over {num_runs} runs: {average_time_ex3_psi0:.9f} seconds\")\n",
    "    \n",
    "    # Check robustness\n",
    "    unique_results_psi0 = set(results_psi0)\n",
    "    print(f\"  Results for psi0: {unique_results_psi0}\")\n",
    "    if len(unique_results_psi0) == 1 and '0' in unique_results_psi0:\n",
    "        print(\"  ex_3 always returned '0' for prepare_psi0.\")\n",
    "    else:\n",
    "        print(\"  Robustness: ex_3 did NOT consistently return '0' for prepare_psi0. Check the states/algorithm.\")\n",
    "\n",
    "    # --- Test prepare_psi1 ---\n",
    "    print(\"\\nTesting prepare_psi1:\")\n",
    "    start_time_prep1 = time.perf_counter()\n",
    "    psi1_circuit = prepare_psi1()\n",
    "    end_time_prep1 = time.perf_counter()\n",
    "    time_elapsed_prep1 = end_time_prep1 - start_time_prep1\n",
    "    print(f\"  Time taken to prepare_psi1: {time_elapsed_prep1:.9f} seconds\")\n",
    "\n",
    "    results_psi1 = []\n",
    "    total_time_ex3_psi1 = 0\n",
    "    for _ in range(num_runs):\n",
    "        # Create a fresh circuit for ex_3 each time\n",
    "        qc_for_ex3 = QuantumCircuit(3)\n",
    "        qc_for_ex3.compose(psi1_circuit, [0,1,2], inplace=True)\n",
    "\n",
    "        start_time_ex3_run = time.perf_counter()\n",
    "        result = ex_3(qc_for_ex3)\n",
    "        end_time_ex3_run = time.perf_counter()\n",
    "        total_time_ex3_psi1 += (end_time_ex3_run - start_time_ex3_run)\n",
    "        results_psi1.append(result)\n",
    "\n",
    "    average_time_ex3_psi1 = total_time_ex3_psi1 / num_runs\n",
    "    print(f\"  Average time for ex_3 with psi1 over {num_runs} runs: {average_time_ex3_psi1:.9f} seconds\")\n",
    "    \n",
    "    # Check robustness\n",
    "    unique_results_psi1 = set(results_psi1)\n",
    "    print(f\"  Results for psi1: {unique_results_psi1}\")\n",
    "    if len(unique_results_psi1) == 1 and '1' in unique_results_psi1: # Assuming psi1 should map to '1'\n",
    "        print(\"  ex_3 always returned '1' for prepare_psi1.\")\n",
    "    else:\n",
    "        print(\" ex_3 di return '1' for prepare_psi1. Check the states/algorithm.\")\n",
    "\n",
    "    print(\"\\n--- End of Test Cases ---\")\n"
   ]
  },
  {
   "cell_type": "code",
   "execution_count": 240,
   "id": "fdfe7e12",
   "metadata": {},
   "outputs": [
    {
     "name": "stdout",
     "output_type": "stream",
     "text": [
      "Circuit for psi_0\n"
     ]
    },
    {
     "data": {
      "image/png": "[encoded data removed]",
      "text/plain": [
       "<Figure size 789.163x284.278 with 1 Axes>"
      ]
     },
     "metadata": {},
     "output_type": "display_data"
    },
    {
     "data": {
      "text/latex": [
       "$$\\frac{\\sqrt{3}}{3} |001\\rangle+(- \\frac{\\sqrt{3}}{6} + \\frac{i}{2}) |010\\rangle+(- \\frac{\\sqrt{3}}{6} - \\frac{i}{2}) |100\\rangle$$"
      ],
      "text/plain": [
       "<IPython.core.display.Latex object>"
      ]
     },
     "metadata": {},
     "output_type": "display_data"
    },
    {
     "name": "stdout",
     "output_type": "stream",
     "text": [
      "----------------------------------------------------------------------------------------------------\n",
      "Circuit for psi_1\n"
     ]
    },
    {
     "data": {
      "image/png": "[encoded data removed]",
      "text/plain": [
       "<Figure size 789.163x284.278 with 1 Axes>"
      ]
     },
     "metadata": {},
     "output_type": "display_data"
    },
    {
     "data": {
      "text/latex": [
       "$$\\frac{\\sqrt{3}}{3} |001\\rangle+(- \\frac{\\sqrt{3}}{6} - \\frac{i}{2}) |010\\rangle+(- \\frac{\\sqrt{3}}{6} + \\frac{i}{2}) |100\\rangle$$"
      ],
      "text/plain": [
       "<IPython.core.display.Latex object>"
      ]
     },
     "metadata": {},
     "output_type": "display_data"
    },
    {
     "name": "stdout",
     "output_type": "stream",
     "text": [
      "----------------------------------------------------------------------------------------------------\n",
      "Circuit for Inverse of psi_0:\n"
     ]
    },
    {
     "data": {
      "image/png": "[encoded data removed]",
      "text/plain": [
       "<Figure size 872.774x284.278 with 1 Axes>"
      ]
     },
     "metadata": {},
     "output_type": "display_data"
    }
   ],
   "source": [
    "### The quantum Circuit that generates |psi_0> and the one which generates |psi_1>:\n",
    "\n",
    "\n",
    "print(r'Circuit for psi_0')\n",
    "qc = QuantumCircuit(3)\n",
    "\n",
    "qc.ry(2*np.arccos(1/np.sqrt(3)),0)\n",
    "qc.ry(2*np.arccos(0),1)\n",
    "#qc.cx(0,2)\n",
    "ch = HGate().control(1)\n",
    "qc.append(ch, [0,2])\n",
    "qc.cx(2,0)\n",
    "qc.cx(2,1)\n",
    "qc.cx(0,1)\n",
    "\n",
    "qc.p(2*np.pi/3, 1)\n",
    "qc.p(4*np.pi/3,2)\n",
    "\n",
    "qc.save_statevector(label = 'Final State')\n",
    "display(qc.draw('mpl'))\n",
    "transp_qc = transpile(qc, simulator_aer)\n",
    "res = simulator_aer.run(transp_qc, shots = 1).result()\n",
    "\n",
    "\n",
    "display(res.data()['Final State'].draw(output = 'latex'))\n",
    "\n",
    "U = qc.inverse()\n",
    "print('--'*50)\n",
    "print(r'Circuit for psi_1')\n",
    "circ = QuantumCircuit(3)\n",
    "\n",
    "circ.ry(2*np.arccos(1/np.sqrt(3)),0)\n",
    "circ.ry(2*np.arccos(0),1)\n",
    "#qc.cx(0,2)\n",
    "ch = HGate().control(1)\n",
    "circ.append(ch, [0,2])\n",
    "circ.cx(2,0)\n",
    "circ.cx(2,1)\n",
    "circ.cx(0,1)\n",
    "\n",
    "circ.p(4*np.pi/3, 1)\n",
    "circ.p(2*np.pi/3,2)\n",
    "\n",
    "circ.save_statevector(label = 'Final State')\n",
    "display(circ.draw('mpl'))\n",
    "transp_c = transpile(circ, simulator_aer)\n",
    "res = simulator_aer.run(transp_c, shots = 1).result()\n",
    "\n",
    "\n",
    "display(res.data()['Final State'].draw(output = 'latex'))\n",
    "###The circuit for the unitary which takes psi_0 -> |000> and psi_1 to a state which does not contain the state |000>:\n",
    "\n",
    "print('--'*50)\n",
    "print('Circuit for Inverse of psi_0:')\n",
    "display(U.draw('mpl'))"
   ]
  },
  {
   "cell_type": "markdown",
   "id": "2e475c7f",
   "metadata": {},
   "source": [
    "### Exercise 4\n",
    "We start with the state:\n",
    "$$\n",
    "|\\psi\\rangle_0 = |00 \\rangle\n",
    "$$\n",
    "\n",
    "\n",
    "We first build the state: \n",
    "$$\n",
    "\\frac{1}{\\sqrt{3}}(|00\\rangle + \\sqrt{2}|01\\rangle)\n",
    "$$\n",
    "This is done applying a $R_y(\\theta)$ gate. This gate puts a qubit initialised at $|0\\rangle$ and puts it in:\n",
    "$$\n",
    "R_Y(\\theta)|0\\rangle = cos(\\frac{\\theta}{2})|0\\rangle + sin(\\frac{\\theta}{2})|1\\rangle\n",
    "$$\n",
    "Therefore, the angle which we must rotate the qubit around the $Y$ axis is determined by:\n",
    "\n",
    "$$\n",
    "\\theta = 2arccos(\\frac{1}{\\sqrt{3}}) = 2arcsin(\\frac{\\sqrt{2}}{\\sqrt{3}})\n",
    "$$\n",
    "We multiply it by two because the definition of the $R_y$ gate. So we have created the state:\n",
    "\n",
    "$$\n",
    "|\\psi\\rangle_1 = (I \\otimes R_Y(\\theta) )|00\\rangle = \\frac{1}{\\sqrt{3}}(|00\\rangle + \\sqrt{2}|01\\rangle)\n",
    "$$\n",
    "\n",
    "Having done this we apply a Controlled Hadamard gate, where we apply hadamard to the first qubit, as long as the second qubit is in $|1\\rangle$. This will get us to:\n",
    "\n",
    "$$\n",
    "|\\psi\\rangle_2 = \\frac{1}{\\sqrt{3}}(|00\\rangle + (H \\otimes I)\\sqrt{2}|01\\rangle) = \\frac{1}{\\sqrt{3}}(|00 \\rangle + |01\\rangle + |11 \\rangle)\n",
    "$$\n",
    "\n",
    "We will finally apply a X gate to the first qubit:\n",
    "\n",
    "$$\n",
    "|\\psi\\rangle_{final} = (X \\otimes I)\\frac{1}{\\sqrt{3}}(|00 \\rangle + |01\\rangle + |11 \\rangle) \n",
    "$$\n",
    "$$\n",
    "|\\psi\\rangle_{final} = \\frac{1}{\\sqrt{3}}(|00 \\rangle + |01\\rangle + |10 \\rangle)\n",
    "$$\n",
    "\n",
    "This process is exemplified below and a function which does exactly this is built after the example."
   ]
  },
  {
   "cell_type": "code",
   "execution_count": 11,
   "id": "9e46763c",
   "metadata": {},
   "outputs": [
    {
     "data": {
      "image/png": "[encoded data removed]",
      "text/plain": [
       "<Figure size 890.803x200.667 with 1 Axes>"
      ]
     },
     "metadata": {},
     "output_type": "display_data"
    },
    {
     "data": {
      "text/latex": [
       "$$\\frac{\\sqrt{3}}{3} |00\\rangle+\\frac{\\sqrt{3}}{3} |01\\rangle+\\frac{\\sqrt{3}}{3} |10\\rangle$$"
      ],
      "text/plain": [
       "<IPython.core.display.Latex object>"
      ]
     },
     "metadata": {},
     "output_type": "display_data"
    }
   ],
   "source": [
    "from qiskit.circuit.library.standard_gates import HGate\n",
    "from qiskit import transpile\n",
    "qr = QuantumRegister(2)\n",
    "qc = QuantumCircuit(qr)\n",
    "    \n",
    "qc.ry(2*np.arccos(1/np.sqrt(3)),1)\n",
    "qc.save_statevector(label = 'State 1')\n",
    "ch = HGate().control(1)\n",
    "qc.append(ch, [1,0])\n",
    "qc.save_statevector(label = 'State 2')\n",
    "qc.x(1)\n",
    "qc.save_statevector(label = 'Final State')\n",
    "display(qc.draw('mpl'))\n",
    "transp_qc = transpile(qc, simulator_aer)\n",
    "res = simulator_aer.run(transp_qc, shots = 1).result()\n",
    "\n",
    "\n",
    "display(res.data()['Final State'].draw(output = 'latex'))\n",
    "    "
   ]
  },
  {
   "cell_type": "markdown",
   "id": "5b820442",
   "metadata": {},
   "source": [
    "Let us just quickly explore the inbetween states to check if our resoaning was correct:\n",
    "\n",
    "OBS.: Remember that qiskit uses little endian notation!"
   ]
  },
  {
   "cell_type": "code",
   "execution_count": 12,
   "id": "f1d9e16f",
   "metadata": {},
   "outputs": [
    {
     "data": {
      "text/latex": [
       "$$\\frac{\\sqrt{3}}{3} |00\\rangle+\\frac{\\sqrt{6}}{3} |10\\rangle$$"
      ],
      "text/plain": [
       "<IPython.core.display.Latex object>"
      ]
     },
     "metadata": {},
     "output_type": "display_data"
    }
   ],
   "source": [
    "display(res.data()['State 1'].draw(output = 'latex'))"
   ]
  },
  {
   "cell_type": "code",
   "execution_count": 13,
   "id": "9c6a4aca",
   "metadata": {},
   "outputs": [
    {
     "data": {
      "text/latex": [
       "$$\\frac{\\sqrt{3}}{3} |00\\rangle+\\frac{\\sqrt{3}}{3} |10\\rangle+\\frac{\\sqrt{3}}{3} |11\\rangle$$"
      ],
      "text/plain": [
       "<IPython.core.display.Latex object>"
      ]
     },
     "metadata": {},
     "output_type": "display_data"
    }
   ],
   "source": [
    "display(res.data()['State 2'].draw(output = 'latex'))"
   ]
  },
  {
   "cell_type": "markdown",
   "id": "913dd747",
   "metadata": {},
   "source": [
    "Exactly as was described before. So let us build the function which receives an array of 2 qubits as input and it's \"output\" is a state vector.\n"
   ]
  },
  {
   "cell_type": "code",
   "execution_count": 14,
   "id": "73fd9a0a",
   "metadata": {},
   "outputs": [
    {
     "name": "stdout",
     "output_type": "stream",
     "text": [
      "\n",
      "--- Measuring Execution Time ---\n",
      "--- Quantum Circuit ---\n"
     ]
    },
    {
     "data": {
      "image/png": "[encoded data removed]",
      "text/plain": [
       "<Figure size 538.128x200.667 with 1 Axes>"
      ]
     },
     "metadata": {},
     "output_type": "display_data"
    },
    {
     "name": "stdout",
     "output_type": "stream",
     "text": [
      "\n",
      "--- Final Statevector (LaTeX Output) ---\n"
     ]
    },
    {
     "data": {
      "text/latex": [
       "$$\\frac{\\sqrt{3}}{3} |00\\rangle+\\frac{\\sqrt{3}}{3} |01\\rangle+\\frac{\\sqrt{3}}{3} |10\\rangle$$"
      ],
      "text/plain": [
       "<IPython.core.display.Latex object>"
      ]
     },
     "metadata": {},
     "output_type": "display_data"
    },
    {
     "name": "stdout",
     "output_type": "stream",
     "text": [
      "\n",
      "Total time taken for display_final_statevector_circuit: 0.508393971 seconds\n"
     ]
    }
   ],
   "source": [
    "def ex_4():\n",
    "    \"\"\"\n",
    "    Constructs a 2-qubit quantum circuit, applies a sequence of gates including\n",
    "    a custom controlled Hadamard, and then displays the final statevector.\n",
    "\n",
    "    The circuit operations are:\n",
    "    1. Initializes a 2-qubit quantum circuit.\n",
    "    2. Applies an Ry rotation gate to qubit 1 with an angle calculated to\n",
    "       prepare a specific superposition (2*arccos(1/sqrt(3))).\n",
    "    3. Saves the current statevector as 'State 1'.\n",
    "    4. Defines a Controlled-Hadamard (CH) gate, where qubit 1 is the control\n",
    "       and qubit 0 is the target.\n",
    "    5. Appends this CH gate to the circuit on qubits [1, 0].\n",
    "    6. Saves the current statevector as 'State 2'.\n",
    "    7. Applies a Pauli-X gate to qubit 1.\n",
    "    8. Saves the final statevector as 'Final State'.\n",
    "    9. Draws the complete quantum circuit.\n",
    "    10. Transpiles the circuit for the `AerSimulator`.\n",
    "    11. Runs the transpiled circuit on `AerSimulator` for 1 shot.\n",
    "    12. Extracts and displays the 'Final State' statevector in LaTeX format.\n",
    "\n",
    "    This function is designed for demonstration and visualization, directly\n",
    "    displaying the circuit and its final quantum state.\n",
    "\n",
    "    Args:\n",
    "        None: This function does not take any explicit arguments, as it\n",
    "              constructs its own 2-qubit circuit internally.\n",
    "\n",
    "    Returns:\n",
    "        None: The function primarily performs side effects by displaying\n",
    "              the circuit and statevector.\n",
    "\n",
    "    Note:\n",
    "        This function relies on a globally accessible `simulator_aer` object,\n",
    "        which is expected to be an instance of `qiskit_aer.AerSimulator`.\n",
    "        The `display` function for drawing might require a Jupyter Notebook\n",
    "        or similar environment.\n",
    "    \"\"\"\n",
    "    # Define a QuantumRegister for clarity, though QuantumCircuit(2) works directly too\n",
    "    qc = QuantumCircuit(2)\n",
    "\n",
    "\n",
    "    # Apply Ry gate to qubit 1\n",
    "    # This prepares qubit 1 in a superposition where |0> amplitude is 1/sqrt(3)\n",
    "    # and |1> amplitude is sqrt(2)/sqrt(3) if starting from |0>.\n",
    "    qc.ry(2 * np.arccos(1 / np.sqrt(3)), 1)\n",
    "    \n",
    "\n",
    "    # Define a Controlled-Hadamard (CH) gate\n",
    "    # HGate().control(1) creates a controlled H where the single control qubit\n",
    "    # is the first qubit in the qargs list provided to .append().\n",
    "    ch = HGate().control(1)\n",
    "    # Append the CH gate: qubit 1 is control, qubit 0 is target\n",
    "    qc.append(ch, [1, 0])\n",
    "    \n",
    "\n",
    "    # Apply Pauli-X to qubit 1\n",
    "    qc.x(1)\n",
    "    qc.save_statevector(label='Final State') # Save the state after X\n",
    "\n",
    "    # Display the circuit\n",
    "    # Using 'mpl' for Matplotlib drawing, reverse_bits=True often makes Qiskit\n",
    "    # circuit diagrams match the convention where q0 is at the bottom.\n",
    "    # circuit_drawer(qc.draw('mpl', reverse_bits=True)) # Use this for Jupyter Notebook\n",
    "\n",
    "    print(\"--- Quantum Circuit ---\")\n",
    "    display(qc.draw('mpl', reverse_bits=True))\n",
    "\n",
    "\n",
    "    # Transpile the circuit for the simulator\n",
    "    transp_qc = transpile(qc, simulator_aer)\n",
    "\n",
    "    # Run the circuit on the simulator\n",
    "    res = simulator_aer.run(transp_qc, shots=1).result()\n",
    "\n",
    "    # Extract and display the 'Final State' statevector in LaTeX format\n",
    "    print(\"\\n--- Final Statevector (LaTeX Output) ---\")\n",
    "    final_statevector = res.data()['Final State']\n",
    "    # If running in a print-only environment, this will output the LaTeX string.\n",
    "    # In a Jupyter environment, `display()` would render it.\n",
    "    display(final_statevector.draw(output='latex'))\n",
    "\n",
    "# --- Timing the function execution ---\n",
    "print(\"\\n--- Measuring Execution Time ---\")\n",
    "start_time = time.perf_counter()\n",
    "ex_4()\n",
    "end_time = time.perf_counter()\n",
    "time_elapsed = end_time - start_time\n",
    "print(f\"\\nTotal time taken for display_final_statevector_circuit: {time_elapsed:.9f} seconds\")\n"
   ]
  },
  {
   "cell_type": "markdown",
   "id": "795b747e",
   "metadata": {},
   "source": [
    "### Exercise 5"
   ]
  },
  {
   "cell_type": "code",
   "execution_count": 15,
   "id": "b8d1e6dd",
   "metadata": {},
   "outputs": [],
   "source": [
    "def ex_5(n,parity): #number of qubits, parity\n",
    "    qc = QuantumCircuit(n)\n",
    "    for i in range(n-1):\n",
    "        qc.h(i)\n",
    "    if parity ==1:\n",
    "        qc.x(n-1)\n",
    "    for i in range(n-1):\n",
    "        qc.cx(i,n-1)\n",
    "    qc.save_statevector(label='final state')\n",
    "    res = simulator_aer.run(qc, shots=1).result()\n",
    "    state = res.data()['final state']\n",
    "    \n",
    "    return qc,state\n",
    "    \n",
    "        "
   ]
  },
  {
   "cell_type": "code",
   "execution_count": 16,
   "id": "5a944861",
   "metadata": {},
   "outputs": [
    {
     "name": "stdout",
     "output_type": "stream",
     "text": [
      "--- Testing ex_5 Function and Measuring Time ---\n",
      "\n",
      "--- Testing for n = 1 Qubits ---\n",
      "  Parity = 0 (Even):\n",
      "    Time taken: 0.002481059 seconds\n",
      "  Parity = 1 (Odd):\n",
      "    Time taken: 0.002325172 seconds\n",
      "\n",
      "--- Testing for n = 2 Qubits ---\n",
      "  Parity = 0 (Even):\n",
      "    Time taken: 0.001998799 seconds\n",
      "  Parity = 1 (Odd):\n",
      "    Time taken: 0.002520395 seconds\n",
      "\n",
      "--- Testing for n = 3 Qubits ---\n",
      "  Parity = 0 (Even):\n",
      "    Time taken: 0.002852830 seconds\n",
      "  Parity = 1 (Odd):\n",
      "    Time taken: 0.002110614 seconds\n",
      "\n",
      "--- Testing for n = 4 Qubits ---\n",
      "  Parity = 0 (Even):\n",
      "    Time taken: 0.001994196 seconds\n",
      "  Parity = 1 (Odd):\n",
      "    Time taken: 0.002052118 seconds\n",
      "\n",
      "--- Testing for n = 5 Qubits ---\n",
      "  Parity = 0 (Even):\n",
      "    Time taken: 0.001844201 seconds\n",
      "  Parity = 1 (Odd):\n",
      "    Time taken: 0.001975725 seconds\n",
      "\n",
      "--- Testing for n = 8 Qubits ---\n",
      "  Parity = 0 (Even):\n",
      "    Time taken: 0.002459745 seconds\n",
      "  Parity = 1 (Odd):\n",
      "    Time taken: 0.004408563 seconds\n",
      "\n",
      "--- Testing for n = 10 Qubits ---\n",
      "  Parity = 0 (Even):\n",
      "    Time taken: 0.005612738 seconds\n",
      "  Parity = 1 (Odd):\n",
      "    Time taken: 0.004403749 seconds\n",
      "\n",
      "--- Testing for n = 12 Qubits ---\n",
      "  Parity = 0 (Even):\n",
      "    Time taken: 0.004824881 seconds\n",
      "  Parity = 1 (Odd):\n",
      "    Time taken: 0.005131883 seconds\n",
      "\n",
      "--- Testing for n = 20 Qubits ---\n",
      "  Parity = 0 (Even):\n",
      "    Time taken: 0.327597157 seconds\n",
      "  Parity = 1 (Odd):\n",
      "    Time taken: 0.299718930 seconds\n",
      "\n",
      "--- Testing for n = 21 Qubits ---\n",
      "  Parity = 0 (Even):\n",
      "    Time taken: 0.502179639 seconds\n",
      "  Parity = 1 (Odd):\n",
      "    Time taken: 0.527371271 seconds\n",
      "\n",
      "--- End of ex_5 Testing ---\n"
     ]
    }
   ],
   "source": [
    "def ex_5(n: int, parity: int):\n",
    "    \"\"\"\n",
    "    Constructs a quantum circuit with 'n' qubits to prepare a superposition\n",
    "    of states that have a specific parity (even or odd) in the number of 1s.\n",
    "\n",
    "    The circuit works by:\n",
    "    1. Initializing 'n' qubits in the |0> state.\n",
    "    2. Applying Hadamard gates to the first 'n-1' qubits to create a superposition\n",
    "       of all possible states for these qubits.\n",
    "    3. If `parity` is 1 (odd parity desired), an X-gate is applied to the last qubit (n-1).\n",
    "       This flips the parity of the desired subspace from even to odd.\n",
    "    4. Applying CNOT gates from each of the first 'n-1' qubits to the last qubit (n-1).\n",
    "       This effectively computes the parity of the first 'n-1' qubits onto the last qubit.\n",
    "       The last qubit will be |0> if the parity of the first 'n-1' qubits is even,\n",
    "       and |1> if it's odd.\n",
    "    5. Saves the final statevector.\n",
    "\n",
    "    Args:\n",
    "        n (int): The number of qubits in the quantum circuit. Must be n >= 1.\n",
    "        parity (int): The desired parity of 1s in the final state.\n",
    "                      - 0: For states with an even number of 1s.\n",
    "                      - 1: For states with an odd number of 1s.\n",
    "\n",
    "    Returns:\n",
    "        Statevector: The final quantum statevector of the circuit, which is an\n",
    "                     equal superposition of all basis states matching the\n",
    "                     specified parity.\n",
    "\n",
    "    Raises:\n",
    "        ValueError: If n < 1.\n",
    "        ValueError: If parity is not 0 or 1.\n",
    "    \"\"\"\n",
    "    if n < 1:\n",
    "        raise ValueError(\"Number of qubits (n) must be at least 1.\")\n",
    "    if parity not in [0, 1]:\n",
    "        raise ValueError(\"Parity must be 0 (even) or 1 (odd).\")\n",
    "\n",
    "    qc = QuantumCircuit(n)\n",
    "\n",
    "    # Apply Hadamard to the first n-1 qubits\n",
    "    # This creates a superposition of all 2^(n-1) states for these qubits.\n",
    "    for i in range(n - 1):\n",
    "        qc.h(i)\n",
    "\n",
    "    # If odd parity is desired, flip the last qubit.\n",
    "    # This effectively flips the \"target parity\" for the final state.\n",
    "    if parity == 1:\n",
    "        qc.x(n - 1)\n",
    "\n",
    "    # Apply CNOT gates from each of the first n-1 qubits to the last qubit (n-1).\n",
    "    # This computes the parity of the first n-1 qubits onto the last qubit.\n",
    "    # The last qubit acts as an \"ancilla\" to store the parity.\n",
    "    for i in range(n - 1):\n",
    "        qc.cx(i, n - 1)\n",
    "\n",
    "    qc.save_statevector(label='final state') # Save the final statevector\n",
    "\n",
    "    # Run the circuit on the simulator\n",
    "    \n",
    "    res = simulator_aer.run(qc, shots=1).result()\n",
    "    state = res.data()['final state'] # Extract the statevector\n",
    "\n",
    "    return state\n",
    "\n",
    "# --- Test Cases and Timing for ex_5 ---\n",
    "if __name__ == \"__main__\": \n",
    "    print(\"--- Testing ex_5 Function and Measuring Time ---\")\n",
    "\n",
    "    N_values = [1, 2, 3, 4, 5, 8, 10, 12,20,21]\n",
    "                                          \n",
    "\n",
    "    for n in N_values:\n",
    "        print(f\"\\n--- Testing for n = {n} Qubits ---\")\n",
    "\n",
    "        # Test for even parity (parity = 0)\n",
    "        start_time_even = time.perf_counter()\n",
    "        final_state_even = ex_5(n, 0)\n",
    "        end_time_even = time.perf_counter()\n",
    "        time_elapsed_even = end_time_even - start_time_even\n",
    "\n",
    "        print(f\"  Parity = 0 (Even):\")\n",
    "        # For very small N, uncomment to print the full statevector to verify\n",
    "        # if n <= 3:\n",
    "        #     print(f\"    Final Statevector (Even): {final_state_even}\")\n",
    "        print(f\"    Time taken: {time_elapsed_even:.9f} seconds\")\n",
    "\n",
    "        # Test for odd parity (parity = 1)\n",
    "        start_time_odd = time.perf_counter()\n",
    "        final_state_odd = ex_5(n, 1)\n",
    "        end_time_odd = time.perf_counter()\n",
    "        time_elapsed_odd = end_time_odd - start_time_odd\n",
    "\n",
    "        print(f\"  Parity = 1 (Odd):\")\n",
    "        # For very small N, uncomment to print the full statevector to verify\n",
    "        # if n <= 3:\n",
    "        #     print(f\"    Final Statevector (Odd): {final_state_odd}\")\n",
    "        print(f\"    Time taken: {time_elapsed_odd:.9f} seconds\")\n",
    "\n",
    "\n",
    "    print(\"\\n--- End of ex_5 Testing ---\")\n"
   ]
  },
  {
   "cell_type": "markdown",
   "id": "bc983d26",
   "metadata": {},
   "source": [
    "In my machine for more then 22 qubits it always exceeds the 1 second limit."
   ]
  },
  {
   "cell_type": "markdown",
   "id": "a076782d",
   "metadata": {},
   "source": [
    "#### example with 5 qubits:"
   ]
  },
  {
   "cell_type": "code",
   "execution_count": 17,
   "id": "75ee3e8e",
   "metadata": {},
   "outputs": [
    {
     "name": "stdout",
     "output_type": "stream",
     "text": [
      "---Example for n = 5: --- \n",
      "Parity = 0 (even):\n"
     ]
    },
    {
     "data": {
      "text/latex": [
       "$$\\frac{1}{4} |00000\\rangle+\\frac{1}{4} |00011\\rangle+\\frac{1}{4} |00101\\rangle+\\frac{1}{4} |00110\\rangle+\\frac{1}{4} |01001\\rangle+\\frac{1}{4} |01010\\rangle + \\ldots +\\frac{1}{4} |10111\\rangle+\\frac{1}{4} |11000\\rangle+\\frac{1}{4} |11011\\rangle+\\frac{1}{4} |11101\\rangle+\\frac{1}{4} |11110\\rangle$$"
      ],
      "text/plain": [
       "<IPython.core.display.Latex object>"
      ]
     },
     "metadata": {},
     "output_type": "display_data"
    },
    {
     "name": "stdout",
     "output_type": "stream",
     "text": [
      "Parity = 1 (odd):\n"
     ]
    },
    {
     "data": {
      "text/latex": [
       "$$\\frac{1}{4} |00001\\rangle+\\frac{1}{4} |00010\\rangle+\\frac{1}{4} |00100\\rangle+\\frac{1}{4} |00111\\rangle+\\frac{1}{4} |01000\\rangle+\\frac{1}{4} |01011\\rangle + \\ldots +\\frac{1}{4} |10110\\rangle+\\frac{1}{4} |11001\\rangle+\\frac{1}{4} |11010\\rangle+\\frac{1}{4} |11100\\rangle+\\frac{1}{4} |11111\\rangle$$"
      ],
      "text/plain": [
       "<IPython.core.display.Latex object>"
      ]
     },
     "metadata": {},
     "output_type": "display_data"
    }
   ],
   "source": [
    "n= 5\n",
    "parity_0 = 0\n",
    "parity_1 = 1\n",
    "\n",
    "statevector_0 = ex_5(n, parity_0)\n",
    "\n",
    "statevector_1 = ex_5(n, parity_1)\n",
    "\n",
    "print(\"---Example for n = 5: --- \")\n",
    "print('Parity = 0 (even):')\n",
    "display(statevector_0.draw('latex'))\n",
    "print('Parity = 1 (odd):')\n",
    "display(statevector_1.draw('latex'))"
   ]
  },
  {
   "cell_type": "markdown",
   "id": "e2cd4b58",
   "metadata": {},
   "source": [
    "### Exercise 6:"
   ]
  },
  {
   "cell_type": "code",
   "execution_count": 9,
   "id": "ae805317",
   "metadata": {},
   "outputs": [],
   "source": [
    "def ex_6(two_qubit):\n",
    "    \n",
    "    \"\"\"\n",
    "    Receives a 2-qubit quantum circuit representing a Bell state,\n",
    "    measures it in the Bell basis, and returns a remapped integer outcome.\n",
    "\n",
    "    This function is designed to take one of the Bell state preparation circuits\n",
    "    (e.g., from `phi_plus()`, `phi_minus()`, `psi_plus()`, `psi_minus()`),\n",
    "    compose it with a new circuit, perform a Bell basis measurement, and\n",
    "    return a specific integer based on the measurement outcome.\n",
    "\n",
    "    The Bell basis measurement transforms the Bell states back to computational\n",
    "    basis states as follows:\n",
    "    - |Phi+> (|00>+|11>)/sqrt(2) -> '00'\n",
    "    - |Phi-> (|00>-|11>)/sqrt(2) -> '01'\n",
    "    - |Psi+> (|01>+|10>)/sqrt(2) -> '10'\n",
    "    - |Psi-> (|01>-|10>)/sqrt(2) -> '11'\n",
    "\n",
    "    The final integer mapping applied is:\n",
    "    - If measurement is '00' (integer 0) -> returns 0\n",
    "    - If measurement is '01' (integer 1) -> returns 2 (remapped)\n",
    "    - If measurement is '10' (integer 2) -> returns 1 (remapped)\n",
    "    - If measurement is '11' (integer 3) -> returns 3\n",
    "\n",
    "    Args:\n",
    "        bell_state_prep_circuit (QuantumCircuit): A 2-qubit quantum circuit\n",
    "                                                  that prepares one of the Bell states.\n",
    "\n",
    "    Returns:\n",
    "        int: An integer (0, 1, 2, or 3) representing the remapped measurement\n",
    "             outcome in the Bell basis.\n",
    "\n",
    "    Raises:\n",
    "        ValueError: If `bell_state_prep_circuit` does not have exactly 2 qubits.\n",
    "\n",
    "    \"\"\"\n",
    "    if two_qubit.num_qubits != 2:\n",
    "        raise ValueError(\"The input two_qubit must be a 2-qubit circuit.\")\n",
    "\n",
    "    \n",
    "    qc = QuantumCircuit(2)\n",
    "    qubit_map = list(range(two_qubit.num_qubits))\n",
    "\n",
    "    # Using compose:\n",
    "    combined_qc = qc.compose(two_qubit, qubits=qubit_map)\n",
    "    \n",
    "    ### receives two qubits in the bell state\n",
    "    \n",
    "    combined_qc.cx(1,0)\n",
    "    combined_qc.h(1)\n",
    "    \n",
    "    combined_qc.measure_all()\n",
    "    \n",
    "    res = simulator_aer.run(combined_qc, shots = 1).result()\n",
    "    count = res.get_counts()\n",
    "    \n",
    "    ### Returning 0,1,2,3 instead of binary:\n",
    "    \n",
    "    key = list(count.keys())[0]\n",
    "    integer = int(key, 2)\n",
    "    if integer == 2:\n",
    "        ans = 1\n",
    "    elif integer ==1:\n",
    "        ans = 2\n",
    "    else:\n",
    "        ans = integer\n",
    "        \n",
    "    return ans\n",
    "\n",
    "\n",
    "### Bell states:\n",
    "\n",
    "\n",
    "def phi_plus() -> QuantumCircuit:\n",
    "    \"\"\"\n",
    "    Prepares a 2-qubit quantum circuit in the |Phi+> Bell state.\n",
    "\n",
    "    The |Phi+> state is (1/sqrt(2)) * (|00> + |11>).\n",
    "    It is prepared from the |00> state using a Hadamard gate on the second qubit (index 1)\n",
    "    followed by a CNOT gate with qubit 1 as control and qubit 0 as target.\n",
    "\n",
    "    Returns:\n",
    "        QuantumCircuit: A 2-qubit circuit prepared in the |Phi+> Bell state.\n",
    "    \"\"\"\n",
    "    qc = QuantumCircuit(2)\n",
    "    qc.h(1)    # Apply Hadamard to qubit 1\n",
    "    qc.cx(1, 0) # Apply CNOT with control=qubit 1, target=qubit 0\n",
    "    return qc\n",
    "\n",
    "def phi_minus() -> QuantumCircuit:\n",
    "    \"\"\"\n",
    "    Prepares a 2-qubit quantum circuit in the |Phi-> Bell state.\n",
    "\n",
    "    The |Phi-> state is (1/sqrt(2)) * (|00> - |11>).\n",
    "    It is prepared from the |00> state using a Hadamard gate on qubit 1,\n",
    "    a Pauli-Z gate on qubit 1, followed by a CNOT gate from qubit 1 to qubit 0.\n",
    "\n",
    "    Returns:\n",
    "        QuantumCircuit: A 2-qubit circuit prepared in the |Phi-> Bell state.\n",
    "    \"\"\"\n",
    "    qc = QuantumCircuit(2)\n",
    "    qc.h(1)    # Apply Hadamard to qubit 1\n",
    "    qc.z(1)    # Apply Pauli-Z to qubit 1\n",
    "    qc.cx(1, 0) # Apply CNOT with control=qubit 1, target=qubit 0\n",
    "    return qc\n",
    "\n",
    "def psi_plus() -> QuantumCircuit:\n",
    "    \"\"\"\n",
    "    Prepares a 2-qubit quantum circuit in the |Psi+> Bell state.\n",
    "\n",
    "    The |Psi+> state is (1/sqrt(2)) * (|01> + |10>).\n",
    "    It is prepared from the |00> state by applying a Hadamard gate to qubit 1,\n",
    "    a Pauli-X gate to qubit 0 (to get |01>), followed by a CNOT gate\n",
    "    from qubit 1 to qubit 0.\n",
    "\n",
    "    Returns:\n",
    "        QuantumCircuit: A 2-qubit circuit prepared in the |Psi+> Bell state.\n",
    "    \"\"\"\n",
    "    qc = QuantumCircuit(2)\n",
    "    qc.h(1)    # Apply Hadamard to qubit 1\n",
    "    qc.x(0)    # Apply Pauli-X to qubit 0 (transforms |00> to |01> before entanglement)\n",
    "    qc.cx(1, 0) # Apply CNOT with control=qubit 1, target=qubit 0\n",
    "    return qc\n",
    "\n",
    "def psi_minus() -> QuantumCircuit:\n",
    "    \"\"\"\n",
    "    Prepares a 2-qubit quantum circuit in the |Psi-> Bell state.\n",
    "\n",
    "    The |Psi-> state is (1/sqrt(2)) * (|01> - |10>).\n",
    "    It is prepared from the |00> state by applying a Hadamard gate to qubit 1,\n",
    "    a Pauli-X gate to qubit 0, a Pauli-Z gate to qubit 1, followed by a CNOT gate\n",
    "    from qubit 1 to qubit 0.\n",
    "\n",
    "    Returns:\n",
    "        QuantumCircuit: A 2-qubit circuit prepared in the |Psi-> Bell state.\n",
    "    \"\"\"\n",
    "    qc = QuantumCircuit(2)\n",
    "    qc.h(1)    # Apply Hadamard to qubit 1\n",
    "    qc.x(0)    # Apply Pauli-X to qubit 0\n",
    "    qc.z(1)    # Apply Pauli-Z to qubit 1\n",
    "    qc.cx(1, 0) # Apply CNOT with control=qubit 1, target=qubit 0\n",
    "    return qc\n"
   ]
  },
  {
   "cell_type": "code",
   "execution_count": 10,
   "id": "7fc8e045",
   "metadata": {},
   "outputs": [
    {
     "name": "stdout",
     "output_type": "stream",
     "text": [
      "--- Testing ex_6 with different Bell State Preparations ---\n",
      "Bell State: Phi+\n",
      "  Output: 0\n",
      "  Time taken (including Bell state prep and ex_6 execution): 0.005951397 seconds\n",
      "----------------------------------------\n",
      "Bell State: Phi-\n",
      "  Output: 1\n",
      "  Time taken (including Bell state prep and ex_6 execution): 0.004985684 seconds\n",
      "----------------------------------------\n",
      "Bell State: Psi+\n",
      "  Output: 2\n",
      "  Time taken (including Bell state prep and ex_6 execution): 0.006660742 seconds\n",
      "----------------------------------------\n",
      "Bell State: Psi-\n",
      "  Output: 3\n",
      "  Time taken (including Bell state prep and ex_6 execution): 0.004009058 seconds\n",
      "----------------------------------------\n",
      "\n",
      "--- Averaging Time Measurements (100 runs per Bell State) ---\n",
      "Bell State: Phi+\n",
      "  Average time over 100 runs: 0.002235319 seconds\n",
      "----------------------------------------\n",
      "Bell State: Phi-\n",
      "  Average time over 100 runs: 0.002017562 seconds\n",
      "----------------------------------------\n",
      "Bell State: Psi+\n",
      "  Average time over 100 runs: 0.001972661 seconds\n",
      "----------------------------------------\n",
      "Bell State: Psi-\n",
      "  Average time over 100 runs: 0.002077359 seconds\n",
      "----------------------------------------\n"
     ]
    }
   ],
   "source": [
    "print(\"--- Testing ex_6 with different Bell State Preparations ---\")\n",
    "\n",
    "test_cases = {\n",
    "    \"Phi+\": phi_plus,\n",
    "    \"Phi-\": phi_minus,\n",
    "    \"Psi+\": psi_plus,\n",
    "    \"Psi-\": psi_minus\n",
    "}\n",
    "\n",
    "for name, prep_function in test_cases.items():\n",
    "    start_time = time.perf_counter()\n",
    "\n",
    "    # Call the Bell state preparation function to get the circuit\n",
    "    bell_circuit = prep_function()\n",
    "    \n",
    "    # Pass the prepared Bell circuit to ex_6\n",
    "    result = ex_6(bell_circuit)\n",
    "\n",
    "    end_time = time.perf_counter()\n",
    "    time_elapsed = end_time - start_time\n",
    "\n",
    "    print(f\"Bell State: {name}\")\n",
    "    print(f\"  Output: {result}\")\n",
    "    print(f\"  Time taken (including Bell state prep and ex_6 execution): {time_elapsed:.9f} seconds\")\n",
    "    print(\"-\" * 40)\n",
    "\n",
    "# Optional: Run multiple times for average timing\n",
    "print(\"\\n--- Averaging Time Measurements (100 runs per Bell State) ---\")\n",
    "num_runs = 100\n",
    "\n",
    "for name, prep_function in test_cases.items():\n",
    "    total_time = 0\n",
    "    for _ in range(num_runs):\n",
    "        bell_circuit = prep_function()\n",
    "        start_time = time.perf_counter()\n",
    "        ex_6(bell_circuit)\n",
    "        end_time = time.perf_counter()\n",
    "        total_time += (end_time - start_time)\n",
    "    \n",
    "    average_time = total_time / num_runs\n",
    "    print(f\"Bell State: {name}\")\n",
    "    print(f\"  Average time over {num_runs} runs: {average_time:.9f} seconds\")\n",
    "    print(\"-\" * 40)"
   ]
  },
  {
   "cell_type": "markdown",
   "id": "2ce3ed15",
   "metadata": {},
   "source": [
    "### Exercise 7\n",
    "\n",
    "We test if we have alternating qubits two by two and using an auxiliary qubit. Our test uses two qubits, a third auxiliary qubit and CNOTs. We apply a CNOT to qubit 1, as control, and the aux, as target. The same will be done to the other qubit. If they are different it will flip the aux qubit, if they are the same it will leave it at its initial state. \n",
    "\n",
    "\n",
    "$$\n",
    "CNOT_{x_1\\rightarrow y}|x_1x_2\\rangle|z\\rangle = |x_1x_2\\rangle|(z\\oplus f(x_1))\\oplus f(x_2)\\rangle\n",
    "$$\n",
    "\n",
    "\n",
    "If $f(x_1) = f(x_2) \\rightarrow x_1 = x_2$ then $|(z\\oplus f(x_1))\\oplus f(x_2)\\rangle = |z\\rangle$. \n",
    "\n",
    "However, if $f(x_1) \\neq f(x_2) \\rightarrow x_1 \\neq x_2$, which means $|(z\\oplus f(x_1))\\oplus f(x_2)\\rangle = |\\bar{z}\\rangle$\n",
    "\n",
    "We then use a CNOT which has the auxiliary qubits as control and the final $|y\\rangle$ as target. If they all have been flipped, which means every two qubits have different states - the same as saying the bits alternate, since the two possible states are 0 and 1- then the $|y\\rangle$ will be $1$. Otherwise, in the case where there are at least two subsequent qubits which are the same, the auxiliary qubits will not all be equal to $|1\\rangle$ and $|y\\rangle = |0\\rangle$.\n",
    "\n",
    "The test cases use either all equal bitstrings or alternating bitstrings of the type $010101 \\dots$, however you may test any bitstring you wish on the cell right after the tests."
   ]
  },
  {
   "cell_type": "code",
   "execution_count": 18,
   "id": "44898e09",
   "metadata": {},
   "outputs": [
    {
     "name": "stdout",
     "output_type": "stream",
     "text": [
      "\n",
      "--- New Test Cases: N from 1 to 7 with specific patterns ---\n",
      "\n",
      "--- Testing for N = 1 Qubits ---\n",
      "  Test Case 1: Initial state from alternating string '0'\n",
      "    Returned Statevector has 2 qubits.\n",
      "    Time taken by ex_7: 0.007703430 seconds\n",
      "    Final Statevector (LaTeX):\n"
     ]
    },
    {
     "data": {
      "text/latex": [
       "$$ |00\\rangle$$"
      ],
      "text/plain": [
       "<IPython.core.display.Latex object>"
      ]
     },
     "metadata": {},
     "output_type": "display_data"
    },
    {
     "name": "stdout",
     "output_type": "stream",
     "text": [
      "\n",
      "  Test Case 2: Initial state from all zeros string '0'\n",
      "    Returned Statevector has 2 qubits.\n",
      "    Time taken by ex_7: 0.004382692 seconds\n",
      "    Final Statevector (LaTeX):\n"
     ]
    },
    {
     "data": {
      "text/latex": [
       "$$ |00\\rangle$$"
      ],
      "text/plain": [
       "<IPython.core.display.Latex object>"
      ]
     },
     "metadata": {},
     "output_type": "display_data"
    },
    {
     "name": "stdout",
     "output_type": "stream",
     "text": [
      "\n",
      "--- Testing for N = 2 Qubits ---\n",
      "  Test Case 1: Initial state from alternating string '01'\n",
      "    Returned Statevector has 3 qubits.\n",
      "    Time taken by ex_7: 0.013337687 seconds\n",
      "    Final Statevector (LaTeX):\n"
     ]
    },
    {
     "data": {
      "text/latex": [
       "$$ |101\\rangle$$"
      ],
      "text/plain": [
       "<IPython.core.display.Latex object>"
      ]
     },
     "metadata": {},
     "output_type": "display_data"
    },
    {
     "name": "stdout",
     "output_type": "stream",
     "text": [
      "\n",
      "  Test Case 2: Initial state from all zeros string '00'\n",
      "    Returned Statevector has 3 qubits.\n",
      "    Time taken by ex_7: 0.005718110 seconds\n",
      "    Final Statevector (LaTeX):\n"
     ]
    },
    {
     "data": {
      "text/latex": [
       "$$ |000\\rangle$$"
      ],
      "text/plain": [
       "<IPython.core.display.Latex object>"
      ]
     },
     "metadata": {},
     "output_type": "display_data"
    },
    {
     "name": "stdout",
     "output_type": "stream",
     "text": [
      "\n",
      "--- Testing for N = 3 Qubits ---\n",
      "  Test Case 1: Initial state from alternating string '010'\n",
      "    Returned Statevector has 4 qubits.\n",
      "    Time taken by ex_7: 0.004901415 seconds\n",
      "    Final Statevector (LaTeX):\n"
     ]
    },
    {
     "data": {
      "text/latex": [
       "$$ |1010\\rangle$$"
      ],
      "text/plain": [
       "<IPython.core.display.Latex object>"
      ]
     },
     "metadata": {},
     "output_type": "display_data"
    },
    {
     "name": "stdout",
     "output_type": "stream",
     "text": [
      "\n",
      "  Test Case 2: Initial state from all zeros string '000'\n",
      "    Returned Statevector has 4 qubits.\n",
      "    Time taken by ex_7: 0.008265101 seconds\n",
      "    Final Statevector (LaTeX):\n"
     ]
    },
    {
     "data": {
      "text/latex": [
       "$$ |0000\\rangle$$"
      ],
      "text/plain": [
       "<IPython.core.display.Latex object>"
      ]
     },
     "metadata": {},
     "output_type": "display_data"
    },
    {
     "name": "stdout",
     "output_type": "stream",
     "text": [
      "\n",
      "--- Testing for N = 4 Qubits ---\n",
      "  Test Case 1: Initial state from alternating string '0101'\n",
      "    Returned Statevector has 5 qubits.\n",
      "    Time taken by ex_7: 0.005427975 seconds\n",
      "    Final Statevector (LaTeX):\n"
     ]
    },
    {
     "data": {
      "text/latex": [
       "$$ |10101\\rangle$$"
      ],
      "text/plain": [
       "<IPython.core.display.Latex object>"
      ]
     },
     "metadata": {},
     "output_type": "display_data"
    },
    {
     "name": "stdout",
     "output_type": "stream",
     "text": [
      "\n",
      "  Test Case 2: Initial state from all zeros string '0000'\n",
      "    Returned Statevector has 5 qubits.\n",
      "    Time taken by ex_7: 0.005185985 seconds\n",
      "    Final Statevector (LaTeX):\n"
     ]
    },
    {
     "data": {
      "text/latex": [
       "$$ |00000\\rangle$$"
      ],
      "text/plain": [
       "<IPython.core.display.Latex object>"
      ]
     },
     "metadata": {},
     "output_type": "display_data"
    },
    {
     "name": "stdout",
     "output_type": "stream",
     "text": [
      "\n",
      "--- Testing for N = 5 Qubits ---\n",
      "  Test Case 1: Initial state from alternating string '01010'\n",
      "    Returned Statevector has 6 qubits.\n",
      "    Time taken by ex_7: 0.008383085 seconds\n",
      "    Final Statevector (LaTeX):\n"
     ]
    },
    {
     "data": {
      "text/latex": [
       "$$ |101010\\rangle$$"
      ],
      "text/plain": [
       "<IPython.core.display.Latex object>"
      ]
     },
     "metadata": {},
     "output_type": "display_data"
    },
    {
     "name": "stdout",
     "output_type": "stream",
     "text": [
      "\n",
      "  Test Case 2: Initial state from all zeros string '00000'\n",
      "    Returned Statevector has 6 qubits.\n",
      "    Time taken by ex_7: 0.009950260 seconds\n",
      "    Final Statevector (LaTeX):\n"
     ]
    },
    {
     "data": {
      "text/latex": [
       "$$ |000000\\rangle$$"
      ],
      "text/plain": [
       "<IPython.core.display.Latex object>"
      ]
     },
     "metadata": {},
     "output_type": "display_data"
    },
    {
     "name": "stdout",
     "output_type": "stream",
     "text": [
      "\n",
      "--- Testing for N = 6 Qubits ---\n",
      "  Test Case 1: Initial state from alternating string '010101'\n",
      "    Returned Statevector has 7 qubits.\n",
      "    Time taken by ex_7: 0.010129067 seconds\n",
      "    Final Statevector (LaTeX):\n"
     ]
    },
    {
     "data": {
      "text/latex": [
       "$$ |1010101\\rangle$$"
      ],
      "text/plain": [
       "<IPython.core.display.Latex object>"
      ]
     },
     "metadata": {},
     "output_type": "display_data"
    },
    {
     "name": "stdout",
     "output_type": "stream",
     "text": [
      "\n",
      "  Test Case 2: Initial state from all zeros string '000000'\n",
      "    Returned Statevector has 7 qubits.\n",
      "    Time taken by ex_7: 0.010275832 seconds\n",
      "    Final Statevector (LaTeX):\n"
     ]
    },
    {
     "data": {
      "text/latex": [
       "$$ |0000000\\rangle$$"
      ],
      "text/plain": [
       "<IPython.core.display.Latex object>"
      ]
     },
     "metadata": {},
     "output_type": "display_data"
    },
    {
     "name": "stdout",
     "output_type": "stream",
     "text": [
      "\n",
      "--- Testing for N = 7 Qubits ---\n",
      "  Test Case 1: Initial state from alternating string '0101010'\n",
      "    Returned Statevector has 8 qubits.\n",
      "    Time taken by ex_7: 0.051604418 seconds\n",
      "    Final Statevector (LaTeX):\n"
     ]
    },
    {
     "data": {
      "text/latex": [
       "$$ |10101010\\rangle$$"
      ],
      "text/plain": [
       "<IPython.core.display.Latex object>"
      ]
     },
     "metadata": {},
     "output_type": "display_data"
    },
    {
     "name": "stdout",
     "output_type": "stream",
     "text": [
      "\n",
      "  Test Case 2: Initial state from all zeros string '0000000'\n",
      "    Returned Statevector has 8 qubits.\n",
      "    Time taken by ex_7: 0.068093990 seconds\n",
      "    Final Statevector (LaTeX):\n"
     ]
    },
    {
     "data": {
      "text/latex": [
       "$$ |00000000\\rangle$$"
      ],
      "text/plain": [
       "<IPython.core.display.Latex object>"
      ]
     },
     "metadata": {},
     "output_type": "display_data"
    },
    {
     "name": "stdout",
     "output_type": "stream",
     "text": [
      "\n",
      "--- End of all Test Cases for basis_ket_to_array and ex_7 ---\n"
     ]
    }
   ],
   "source": [
    "def ex_7(vec: np.ndarray) -> Statevector:\n",
    "    \"\"\"\n",
    "    Applies a series of quantum operations to an initial statevector `vec`,\n",
    "    involving auxiliary qubits, specific CNOT operations, a multi-controlled\n",
    "    X gate, and then extracts a dominant statevector component.\n",
    "\n",
    "    The function performs the following steps:\n",
    "    1.  Determines the number of original qubits `N` from the length of `vec`\n",
    "        (assuming `len(vec)` is a power of 2).\n",
    "    2.  Initializes an `N`-qubit quantum circuit.\n",
    "    3.  Initializes the first `N` qubits of the circuit with the input `vec`.\n",
    "    4.  Adds `N` auxiliary qubits (as `extra_qubits`) and one classical bit\n",
    "        (`measure_bit`) to the circuit. The total quantum qubits become `2*N`.\n",
    "        The auxiliary qubits are implicitly initialized to |0>.\n",
    "    5.  Applies a sequence of `N-1` pairs of CNOT gates. For each `i` from 0 to `N-2`:\n",
    "        - `qc.cx(i, i+N)`: CNOT from original qubit `i` to auxiliary qubit `i` (qubit `i+N`).\n",
    "        - `qc.cx(i+1, i+N)`: CNOT from original qubit `i+1` to the *same* auxiliary qubit `i` (qubit `i+N`).\n",
    "        This effectively stores the XOR sum `(q_i XOR q_{i+1})` onto auxiliary qubit `i+N`.\n",
    "        So, auxiliary qubits `N` through `2*N-2` will hold these adjacent-pair parities.\n",
    "    6.  Defines a set of control qubits for a multi-controlled X gate: these are\n",
    "        auxiliary qubits `N` through `2*N-2` (i.e., `extra_qubits[0]` to `extra_qubits[N-2]`).\n",
    "    7.  Defines the target qubit for the multi-controlled X gate as the last\n",
    "        auxiliary qubit (`2*N-1`, which is `extra_qubits[N-1]`).\n",
    "    8.  Applies the multi-controlled X gate. The target qubit `2*N-1` is flipped\n",
    "        if and only if *all* of the `N-1` auxiliary control qubits are in the |1> state.\n",
    "        This means the target qubit `2*N-1` is flipped if and only if\n",
    "        `(q_0 != q_1) AND (q_1 != q_2) AND ... AND (q_{N-2} != q_{N-1})`.\n",
    "    9.  Measures only the target qubit (`2*N-1`) into the classical bit (`measure_bit[0]`).\n",
    "    10. Saves the complete statevector (including all `2*N` quantum qubits).\n",
    "    11. Runs the circuit on `simulator_aer` for 1 shot to get the statevector.\n",
    "    12. Performs a partial trace, tracing out the `N-1` auxiliary control qubits.\n",
    "        The resulting density matrix `p_trace` represents the state of the original\n",
    "        `N` qubits and the final auxiliary qubit (`2*N-1`).\n",
    "    13. Computes the eigenvalues and eigenvectors of `p_trace`.\n",
    "    14. Extracts the eigenvector corresponding to the maximum eigenvalue. This is a common\n",
    "        technique to retrieve the dominant pure state from a (possibly mixed) density matrix.\n",
    "    15. Converts this eigenvector (NumPy array) into a Qiskit `Statevector` object.\n",
    "\n",
    "    Args:\n",
    "        vec (np.ndarray): The initial statevector for the first `N` qubits.\n",
    "                          Its length must be a power of 2.\n",
    "\n",
    "    Returns:\n",
    "        Statevector: The reduced `Statevector` object representing the dominant component\n",
    "                     of the quantum state after all operations and partial tracing.\n",
    "                     This statevector will have `N+1` qubits.\n",
    "\n",
    "    Raises:\n",
    "        ValueError: If the length of `vec` is not a power of 2.\n",
    "        Exception: Propagates exceptions from Qiskit or NumPy if circuit construction,\n",
    "                   simulation, or linear algebra operations fail.\n",
    "    \"\"\"\n",
    "    \n",
    "    \n",
    "    N = int(np.log2(len(vec)))\n",
    "    if 2**N != len(vec):\n",
    "        raise ValueError(\"Length of input vector `vec` must be a power of 2.\")\n",
    "\n",
    "    qc = QuantumCircuit(N) # Circuit for the original N qubits\n",
    "    qc.initialize(vec, [i for i in range(0, N)])\n",
    "\n",
    "    # N auxiliary qubits and 1 classical bit\n",
    "    extra_qubits = QuantumRegister(N) # N aux qubits: aux_0 to aux_N-1\n",
    "    ### N-1 to determine parity two by two and qubit |y>\n",
    "    measure_bit = ClassicalRegister(1) # One classical bit for measurement\n",
    "\n",
    "    qc.add_register(extra_qubits)\n",
    "    qc.add_register(measure_bit)\n",
    "\n",
    "    # Apply CNOTs to compute adjacent XOR parities on auxiliary qubits\n",
    "    # aux_i (qubit N+i) stores q_i XOR q_{i+1}\n",
    "    for i in range(0, N - 1):\n",
    "        qc.cx(i, i + N)       # CNOT from q_i to aux_i\n",
    "        qc.cx(i + 1, i + N)   # CNOT from q_{i+1} to aux_i (same aux qubit)\n",
    "\n",
    "    # Define controls and target for the multi-controlled X gate\n",
    "    # Control qubits are aux_0 to aux_{N-2} (qubits N to 2*N-2)\n",
    "    control_qubits = [i for i in range(N, 2 * N - 1)]\n",
    "    # Target qubit is aux_{N-1} (qubit 2*N-1)\n",
    "    target_qubit_for_mcx = 2 * N - 1\n",
    "\n",
    "    # Apply the multi-controlled X gate\n",
    "    # This flips aux_{N-1} if all aux_0 to aux_{N-2} are |1>\n",
    "    if N > 1: # mcx requires at least one control qubit\n",
    "        # If N=1, control_qubits will be empty, so skip mcx\n",
    "        qc.mcx(control_qubits, target_qubit_for_mcx)\n",
    "\n",
    "    # Measure the last auxiliary qubit (target_qubit_for_mcx)\n",
    "    qc.measure(target_qubit_for_mcx, 0)\n",
    "\n",
    "    # Save the full statevector before partial trace\n",
    "    qc.save_statevector(label='state')\n",
    "\n",
    "    # Transpile and run the circuit\n",
    "    \n",
    "    res = simulator_aer.run(qc, shots=1).result()\n",
    "    full_state_vector = res.data()['state']\n",
    "\n",
    "    # Perform partial trace to remove the intermediate auxiliary qubits\n",
    "    # The qubits to trace out are the control_qubits for mcx.\n",
    "    # The result will be a density matrix for the original N qubits plus the target_qubit_for_mcx.\n",
    "    # Qubit indices for partial_trace are 0-indexed across the *full* system.\n",
    "    # The `control_qubits` list already contains the correct indices for the aux controls.\n",
    "    traced_out_qubits_indices = control_qubits\n",
    "    p_trace = partial_trace(full_state_vector, traced_out_qubits_indices)\n",
    "\n",
    "    # Get eigenvalues and eigenvectors of the density matrix\n",
    "    # eigh returns eigenvalues in ascending order\n",
    "    eigvals, eigvecs = eigh(p_trace.data)\n",
    "\n",
    "    # Find the index of the maximum eigenvalue (corresponding to the dominant pure state)\n",
    "    max_idx = eigvals.argmax()\n",
    "\n",
    "    # Extract the corresponding eigenvector\n",
    "    reduced_statevector_data = eigvecs[:, max_idx]\n",
    "\n",
    "    # Convert the NumPy array to a Qiskit Statevector object\n",
    "    final_statevector_qiskit = Statevector(reduced_statevector_data)\n",
    "\n",
    "    return final_statevector_qiskit\n",
    "            \n",
    "    \n",
    "def basis_ket_to_array(bitstring: str) -> np.ndarray:\n",
    "    \"\"\"\n",
    "    Converts a computational basis state represented as a bitstring (e.g., '00', '101')\n",
    "    into its corresponding NumPy array (statevector) representation.\n",
    "\n",
    "    The function determines the number of qubits `n` from the length of the `bitstring`.\n",
    "    It then creates a complex NumPy array of size 2^n, with all elements initialized to zero,\n",
    "    and sets the element at the index corresponding to the decimal value of the `bitstring` to 1.0.\n",
    "\n",
    "    Args:\n",
    "        bitstring (str): A string representing the computational basis state,\n",
    "                         e.g., '0' for |0>, '1' for |1>, '01' for |01>, '110' for |110>.\n",
    "                         The string must only contain '0's and '1's.\n",
    "\n",
    "    Returns:\n",
    "        np.ndarray: A 1D NumPy array (complex dtype) representing the statevector\n",
    "                    of the specified basis ket. This array will have a '1.0' at\n",
    "                    the index corresponding to the bitstring's decimal value\n",
    "                    and '0.0' elsewhere.\n",
    "\n",
    "    Raises:\n",
    "        ValueError: If `bitstring` is empty or contains characters other than '0' or '1'.\n",
    "\n",
    "    Example:\n",
    "        >>> basis_ket_to_array('00')\n",
    "        array([1.+0.j, 0.+0.j, 0.+0.j, 0.+0.j])\n",
    "    \"\"\"\n",
    "    \n",
    "    \n",
    "    if not bitstring:\n",
    "        raise ValueError(\"Input bitstring cannot be empty.\")\n",
    "    if not all(c in '01' for c in bitstring):\n",
    "        raise ValueError(\"Input bitstring must contain only '0' or '1' characters.\")\n",
    "\n",
    "    n = len(bitstring)\n",
    "    index = int(bitstring, 2) # Convert binary string to decimal index\n",
    "\n",
    "    # Create a zero array of size 2^n with complex data type\n",
    "    vec = np.zeros(2**n, dtype=complex)\n",
    "\n",
    "    # Set the corresponding index to 1.0\n",
    "    vec[index] = 1.0\n",
    "\n",
    "    return vec    \n",
    "    \n",
    "\n",
    "# --- New Test Cases for N from 1 to 7 ---\n",
    "if __name__ == \"__main__\":\n",
    "    print(\"\\n--- New Test Cases: N from 1 to 7 with specific patterns ---\")\n",
    "\n",
    "    N_values = range(1, 8) # N from 1 to 7\n",
    "\n",
    "    for n in N_values:\n",
    "        print(f\"\\n--- Testing for N = {n} Qubits ---\")\n",
    "\n",
    "        # Test Case 1: Alternating bitstring (01010...)\n",
    "        alternating_bitstring = ''.join(['01'[(i % 2)] for i in range(n)])\n",
    "        \n",
    "        print(f\"  Test Case 1: Initial state from alternating string '{alternating_bitstring}'\")\n",
    "        try:\n",
    "            # Convert bitstring to initial NumPy array\n",
    "            input_vec_alt = basis_ket_to_array(alternating_bitstring)\n",
    "            \n",
    "            # Time the ex_7 function call\n",
    "            start_time_alt = time.perf_counter()\n",
    "            returned_state_alt = ex_7(input_vec_alt)\n",
    "            end_time_alt = time.perf_counter()\n",
    "            time_elapsed_alt = end_time_alt - start_time_alt\n",
    "            \n",
    "            print(f\"    Returned Statevector has {returned_state_alt.num_qubits} qubits.\")\n",
    "            print(f\"    Time taken by ex_7: {time_elapsed_alt:.9f} seconds\")\n",
    "            print(f\"    Final Statevector (LaTeX):\")\n",
    "            # This will print the raw LaTeX string. For rendering, you'd need a LaTeX-enabled environment.\n",
    "            display(returned_state_alt.draw(output='latex'))\n",
    "        except ValueError as e:\n",
    "            print(f\"    Error in Test Case 1: {e}\")\n",
    "        except Exception as e:\n",
    "            print(f\"    An unexpected error occurred in Test Case 1: {e}\")\n",
    "\n",
    "        # Test Case 2: All zeros bitstring (00000...)\n",
    "        all_zeros_bitstring = '0' * n\n",
    "        \n",
    "        print(f\"\\n  Test Case 2: Initial state from all zeros string '{all_zeros_bitstring}'\")\n",
    "        try:\n",
    "            # Convert bitstring to initial NumPy array\n",
    "            input_vec_zeros = basis_ket_to_array(all_zeros_bitstring)\n",
    "\n",
    "            # Time the ex_7 function call\n",
    "            start_time_zeros = time.perf_counter()\n",
    "            returned_state_zeros = ex_7(input_vec_zeros)\n",
    "            end_time_zeros = time.perf_counter()\n",
    "            time_elapsed_zeros = end_time_zeros - start_time_zeros\n",
    "            \n",
    "            print(f\"    Returned Statevector has {returned_state_zeros.num_qubits} qubits.\")\n",
    "            print(f\"    Time taken by ex_7: {time_elapsed_zeros:.9f} seconds\")\n",
    "            print(f\"    Final Statevector (LaTeX):\")\n",
    "            # This will print the raw LaTeX string. For rendering, you'd need a LaTeX-enabled environment.\n",
    "            display(returned_state_zeros.draw(output='latex'))\n",
    "        except ValueError as e:\n",
    "            print(f\"    Error in Test Case 2: {e}\")\n",
    "        except Exception as e:\n",
    "            print(f\"    An unexpected error occurred in Test Case 2: {e}\")\n",
    "\n",
    "    print(\"\\n--- End of all Test Cases for basis_ket_to_array and ex_7 ---\")\n",
    "\n",
    "    "
   ]
  },
  {
   "cell_type": "markdown",
   "id": "b391c696",
   "metadata": {},
   "source": [
    "Example with 5 qubits: \n",
    "\n",
    "Inital state: $|x\\rangle = |10101\\rangle$\n",
    "Final desired state: $|y \\oplus f(x)\\rangle|01010\\rangle = |1\\rangle|01010\\rangle$\n",
    "\n",
    "You may change the bitstring for any case you prefer."
   ]
  },
  {
   "cell_type": "code",
   "execution_count": 19,
   "id": "25f44d5c",
   "metadata": {
    "scrolled": true
   },
   "outputs": [
    {
     "data": {
      "text/latex": [
       "$$ |110101\\rangle$$"
      ],
      "text/plain": [
       "<IPython.core.display.Latex object>"
      ]
     },
     "metadata": {},
     "output_type": "display_data"
    }
   ],
   "source": [
    "x = '10101'\n",
    "vec = basis_ket_to_array(x) ### Transforms the bitstring you would like to pass in a vector which represents it;\n",
    "\n",
    "state = ex_7(vec)\n",
    "\n",
    "display(state.draw('latex'))\n",
    "#display(circ.draw('mpl'))\n",
    "\n"
   ]
  },
  {
   "cell_type": "code",
   "execution_count": 297,
   "id": "bbd66382",
   "metadata": {},
   "outputs": [
    {
     "data": {
      "text/plain": [
       "1"
      ]
     },
     "execution_count": 297,
     "metadata": {},
     "output_type": "execute_result"
    }
   ],
   "source": [
    "sum([i for i in range(0,1+1)])"
   ]
  },
  {
   "cell_type": "code",
   "execution_count": 280,
   "id": "92dcb2a8",
   "metadata": {},
   "outputs": [
    {
     "name": "stdout",
     "output_type": "stream",
     "text": [
      "4\n",
      "5\n",
      "6\n"
     ]
    }
   ],
   "source": [
    "for i in range(4,4+3):\n",
    "    print(i)"
   ]
  },
  {
   "cell_type": "markdown",
   "id": "ff4dac8c",
   "metadata": {},
   "source": [
    "### Exercise 8"
   ]
  },
  {
   "cell_type": "code",
   "execution_count": null,
   "id": "2aa25b08",
   "metadata": {},
   "outputs": [
    {
     "name": "stdout",
     "output_type": "stream",
     "text": [
      "--- Testing ex_8 Function and Measuring Time ---\n",
      "\n",
      "--- Testing for N = 1 Qubits ---\n",
      "  Input Bitstring: '0' (Length N=1)\n",
      "    Classical Periodicity: False\n",
      "    Execution successful.\n",
      "    Time taken: 0.025975513 seconds\n",
      "    Returned Statevector has 2 qubits.\n"
     ]
    },
    {
     "data": {
      "text/latex": [
       "$$ |10\\rangle$$"
      ],
      "text/plain": [
       "<IPython.core.display.Latex object>"
      ]
     },
     "metadata": {},
     "output_type": "display_data"
    },
    {
     "name": "stdout",
     "output_type": "stream",
     "text": [
      "  Input Bitstring: '1' (Length N=1)\n",
      "    Classical Periodicity: False\n",
      "    Execution successful.\n",
      "    Time taken: 0.004585426 seconds\n",
      "    Returned Statevector has 2 qubits.\n"
     ]
    },
    {
     "data": {
      "text/latex": [
       "$$ |11\\rangle$$"
      ],
      "text/plain": [
       "<IPython.core.display.Latex object>"
      ]
     },
     "metadata": {},
     "output_type": "display_data"
    },
    {
     "name": "stdout",
     "output_type": "stream",
     "text": [
      "\n",
      "--- Testing for N = 2 Qubits ---\n",
      "  Input Bitstring: '00' (Length N=2)\n",
      "    Classical Periodicity: True\n",
      "    Execution successful.\n",
      "    Time taken: 0.010544743 seconds\n",
      "    Returned Statevector has 3 qubits.\n"
     ]
    },
    {
     "data": {
      "text/latex": [
       "$$ |100\\rangle$$"
      ],
      "text/plain": [
       "<IPython.core.display.Latex object>"
      ]
     },
     "metadata": {},
     "output_type": "display_data"
    },
    {
     "name": "stdout",
     "output_type": "stream",
     "text": [
      "  Input Bitstring: '01' (Length N=2)\n",
      "    Classical Periodicity: False\n",
      "    Execution successful.\n",
      "    Time taken: 0.005892815 seconds\n",
      "    Returned Statevector has 3 qubits.\n"
     ]
    },
    {
     "data": {
      "text/latex": [
       "$$ |001\\rangle$$"
      ],
      "text/plain": [
       "<IPython.core.display.Latex object>"
      ]
     },
     "metadata": {},
     "output_type": "display_data"
    },
    {
     "name": "stdout",
     "output_type": "stream",
     "text": [
      "  Input Bitstring: '11' (Length N=2)\n",
      "    Classical Periodicity: True\n",
      "    Execution successful.\n",
      "    Time taken: 0.004191394 seconds\n",
      "    Returned Statevector has 3 qubits.\n"
     ]
    },
    {
     "data": {
      "text/latex": [
       "$$ |111\\rangle$$"
      ],
      "text/plain": [
       "<IPython.core.display.Latex object>"
      ]
     },
     "metadata": {},
     "output_type": "display_data"
    },
    {
     "name": "stdout",
     "output_type": "stream",
     "text": [
      "\n",
      "--- Testing for N = 3 Qubits ---\n",
      "  Input Bitstring: '000' (Length N=3)\n",
      "    Classical Periodicity: True\n",
      "    Execution successful.\n",
      "    Time taken: 0.005788003 seconds\n",
      "    Returned Statevector has 4 qubits.\n"
     ]
    },
    {
     "data": {
      "text/latex": [
       "$$ |1000\\rangle$$"
      ],
      "text/plain": [
       "<IPython.core.display.Latex object>"
      ]
     },
     "metadata": {},
     "output_type": "display_data"
    },
    {
     "name": "stdout",
     "output_type": "stream",
     "text": [
      "  Input Bitstring: '010' (Length N=3)\n",
      "    Classical Periodicity: True\n",
      "    Execution successful.\n",
      "    Time taken: 0.006046009 seconds\n",
      "    Returned Statevector has 4 qubits.\n"
     ]
    },
    {
     "data": {
      "text/latex": [
       "$$ |1010\\rangle$$"
      ],
      "text/plain": [
       "<IPython.core.display.Latex object>"
      ]
     },
     "metadata": {},
     "output_type": "display_data"
    },
    {
     "name": "stdout",
     "output_type": "stream",
     "text": [
      "  Input Bitstring: '001' (Length N=3)\n",
      "    Classical Periodicity: False\n",
      "    Execution successful.\n",
      "    Time taken: 0.007967976 seconds\n",
      "    Returned Statevector has 4 qubits.\n"
     ]
    },
    {
     "data": {
      "text/latex": [
       "$$ |0001\\rangle$$"
      ],
      "text/plain": [
       "<IPython.core.display.Latex object>"
      ]
     },
     "metadata": {},
     "output_type": "display_data"
    },
    {
     "name": "stdout",
     "output_type": "stream",
     "text": [
      "  Input Bitstring: '111' (Length N=3)\n",
      "    Classical Periodicity: True\n",
      "    Execution successful.\n",
      "    Time taken: 0.009387990 seconds\n",
      "    Returned Statevector has 4 qubits.\n"
     ]
    },
    {
     "data": {
      "text/latex": [
       "$$ |1111\\rangle$$"
      ],
      "text/plain": [
       "<IPython.core.display.Latex object>"
      ]
     },
     "metadata": {},
     "output_type": "display_data"
    },
    {
     "name": "stdout",
     "output_type": "stream",
     "text": [
      "\n",
      "--- Testing for N = 4 Qubits ---\n",
      "  Input Bitstring: '0000' (Length N=4)\n",
      "    Classical Periodicity: True\n",
      "    Execution successful.\n",
      "    Time taken: 0.008355091 seconds\n",
      "    Returned Statevector has 5 qubits.\n"
     ]
    },
    {
     "data": {
      "text/latex": [
       "$$ |10000\\rangle$$"
      ],
      "text/plain": [
       "<IPython.core.display.Latex object>"
      ]
     },
     "metadata": {},
     "output_type": "display_data"
    },
    {
     "name": "stdout",
     "output_type": "stream",
     "text": [
      "  Input Bitstring: '0101' (Length N=4)\n",
      "    Classical Periodicity: True\n",
      "    Execution successful.\n",
      "    Time taken: 0.008667741 seconds\n",
      "    Returned Statevector has 5 qubits.\n"
     ]
    },
    {
     "data": {
      "text/latex": [
       "$$ |10101\\rangle$$"
      ],
      "text/plain": [
       "<IPython.core.display.Latex object>"
      ]
     },
     "metadata": {},
     "output_type": "display_data"
    },
    {
     "name": "stdout",
     "output_type": "stream",
     "text": [
      "  Input Bitstring: '0001' (Length N=4)\n",
      "    Classical Periodicity: False\n",
      "    Execution successful.\n",
      "    Time taken: 0.007216645 seconds\n",
      "    Returned Statevector has 5 qubits.\n"
     ]
    },
    {
     "data": {
      "text/latex": [
       "$$ |00001\\rangle$$"
      ],
      "text/plain": [
       "<IPython.core.display.Latex object>"
      ]
     },
     "metadata": {},
     "output_type": "display_data"
    },
    {
     "name": "stdout",
     "output_type": "stream",
     "text": [
      "  Input Bitstring: '1010' (Length N=4)\n",
      "    Classical Periodicity: True\n",
      "    Execution successful.\n",
      "    Time taken: 0.005785594 seconds\n",
      "    Returned Statevector has 5 qubits.\n"
     ]
    },
    {
     "data": {
      "text/latex": [
       "$$ |11010\\rangle$$"
      ],
      "text/plain": [
       "<IPython.core.display.Latex object>"
      ]
     },
     "metadata": {},
     "output_type": "display_data"
    },
    {
     "name": "stdout",
     "output_type": "stream",
     "text": [
      "\n",
      "--- Testing for N = 5 Qubits ---\n",
      "  Input Bitstring: '00000' (Length N=5)\n",
      "    Classical Periodicity: True\n",
      "    Execution successful.\n",
      "    Time taken: 0.016713164 seconds\n",
      "    Returned Statevector has 6 qubits.\n"
     ]
    },
    {
     "data": {
      "text/latex": [
       "$$ |100000\\rangle$$"
      ],
      "text/plain": [
       "<IPython.core.display.Latex object>"
      ]
     },
     "metadata": {},
     "output_type": "display_data"
    },
    {
     "name": "stdout",
     "output_type": "stream",
     "text": [
      "  Input Bitstring: '01010' (Length N=5)\n",
      "    Classical Periodicity: True\n",
      "    Execution successful.\n",
      "    Time taken: 0.011757086 seconds\n",
      "    Returned Statevector has 6 qubits.\n"
     ]
    },
    {
     "data": {
      "text/latex": [
       "$$ |101010\\rangle$$"
      ],
      "text/plain": [
       "<IPython.core.display.Latex object>"
      ]
     },
     "metadata": {},
     "output_type": "display_data"
    },
    {
     "name": "stdout",
     "output_type": "stream",
     "text": [
      "  Input Bitstring: '00001' (Length N=5)\n",
      "    Classical Periodicity: False\n",
      "    Execution successful.\n",
      "    Time taken: 0.031385699 seconds\n",
      "    Returned Statevector has 6 qubits.\n"
     ]
    },
    {
     "data": {
      "text/latex": [
       "$$ |000001\\rangle$$"
      ],
      "text/plain": [
       "<IPython.core.display.Latex object>"
      ]
     },
     "metadata": {},
     "output_type": "display_data"
    },
    {
     "name": "stdout",
     "output_type": "stream",
     "text": [
      "  Input Bitstring: '10101' (Length N=5)\n",
      "    Classical Periodicity: True\n",
      "    Execution successful.\n",
      "    Time taken: 0.012412426 seconds\n",
      "    Returned Statevector has 6 qubits.\n"
     ]
    },
    {
     "data": {
      "text/latex": [
       "$$ |110101\\rangle$$"
      ],
      "text/plain": [
       "<IPython.core.display.Latex object>"
      ]
     },
     "metadata": {},
     "output_type": "display_data"
    },
    {
     "name": "stdout",
     "output_type": "stream",
     "text": [
      "\n",
      "--- Testing for N = 6 Qubits ---\n",
      "  Input Bitstring: '000000' (Length N=6)\n",
      "    Classical Periodicity: True\n",
      "    Execution successful.\n",
      "    Time taken: 0.019379212 seconds\n",
      "    Returned Statevector has 7 qubits.\n"
     ]
    },
    {
     "data": {
      "text/latex": [
       "$$ |1000000\\rangle$$"
      ],
      "text/plain": [
       "<IPython.core.display.Latex object>"
      ]
     },
     "metadata": {},
     "output_type": "display_data"
    },
    {
     "name": "stdout",
     "output_type": "stream",
     "text": [
      "  Input Bitstring: '010101' (Length N=6)\n",
      "    Classical Periodicity: True\n",
      "    Execution successful.\n",
      "    Time taken: 0.019478714 seconds\n",
      "    Returned Statevector has 7 qubits.\n"
     ]
    },
    {
     "data": {
      "text/latex": [
       "$$ |1010101\\rangle$$"
      ],
      "text/plain": [
       "<IPython.core.display.Latex object>"
      ]
     },
     "metadata": {},
     "output_type": "display_data"
    },
    {
     "name": "stdout",
     "output_type": "stream",
     "text": [
      "  Input Bitstring: '011010' (Length N=6)\n",
      "    Classical Periodicity: True\n",
      "    Execution successful.\n",
      "    Time taken: 0.028453292 seconds\n",
      "    Returned Statevector has 7 qubits.\n"
     ]
    },
    {
     "data": {
      "text/latex": [
       "$$ |1011010\\rangle$$"
      ],
      "text/plain": [
       "<IPython.core.display.Latex object>"
      ]
     },
     "metadata": {},
     "output_type": "display_data"
    },
    {
     "name": "stdout",
     "output_type": "stream",
     "text": [
      "  Input Bitstring: '000001' (Length N=6)\n",
      "    Classical Periodicity: False\n",
      "    Execution successful.\n",
      "    Time taken: 0.026012073 seconds\n",
      "    Returned Statevector has 7 qubits.\n"
     ]
    },
    {
     "data": {
      "text/latex": [
       "$$ |0000001\\rangle$$"
      ],
      "text/plain": [
       "<IPython.core.display.Latex object>"
      ]
     },
     "metadata": {},
     "output_type": "display_data"
    },
    {
     "name": "stdout",
     "output_type": "stream",
     "text": [
      "  Input Bitstring: '101010' (Length N=6)\n",
      "    Classical Periodicity: True\n",
      "    Execution successful.\n",
      "    Time taken: 0.012045711 seconds\n",
      "    Returned Statevector has 7 qubits.\n"
     ]
    },
    {
     "data": {
      "text/latex": [
       "$$ |1101010\\rangle$$"
      ],
      "text/plain": [
       "<IPython.core.display.Latex object>"
      ]
     },
     "metadata": {},
     "output_type": "display_data"
    },
    {
     "name": "stdout",
     "output_type": "stream",
     "text": [
      "\n",
      "--- Testing for N = 7 Qubits ---\n",
      "  Input Bitstring: '0000000' (Length N=7)\n",
      "    Classical Periodicity: True\n"
     ]
    }
   ],
   "source": [
    "def ex_8(vec):\n",
    "    N = int(np.log2(len(vec)))\n",
    "    if 2**N != len(vec):\n",
    "        raise ValueError(\"Length of input vector `vec` must be a power of 2.\")\n",
    "\n",
    "    qc = QuantumCircuit(N) # Circuit for the original N qubits\n",
    "    qc.initialize(vec, [i for i in range(0, N)])\n",
    "    \n",
    "    if N < 7:\n",
    "        period_max= int(np.ceil(N/2)) \n",
    "        period_qubits = sum([i for i in range(0, period_max+1)])\n",
    "        extra = period_qubits+ 1 \n",
    "        # N auxiliary qubits and 1 classical bit\n",
    "        extra_qubits = QuantumRegister(extra) # N aux qubits: aux_0 to aux_N-1\n",
    "        ### N-1 to determine parity two by two and qubit |y>\n",
    "        measure_bit = ClassicalRegister(1) # One classical bit for measurement\n",
    "       \n",
    "        qc.add_register(extra_qubits)\n",
    "        qc.add_register(measure_bit) \n",
    "        total = qc.num_qubits\n",
    "        for i in range(N,N +period_qubits):\n",
    "            qc.x(i)\n",
    "        \n",
    "        # P = N-1:\n",
    "        qc.barrier()\n",
    "        qc.cx(0,N)\n",
    "        qc.cx(N-1,N)\n",
    "        qc.barrier()\n",
    "        qc.cx(N, total - 1)\n",
    "        qc.barrier()\n",
    "\n",
    "        control_qubits = [i for i in range(N, N+period_qubits)]\n",
    "        if period_max >=2: \n",
    "        # P= N-2:\n",
    "            qc.barrier()\n",
    "            qc.cx(0,N+1)\n",
    "            qc.cx((N-2),N+1)\n",
    "            qc.cx(1,N+2)\n",
    "            qc.cx(1 + N-2,N+2)\n",
    "            qc.barrier()\n",
    "            qc.mcx([N+1,N+2], total - 1)\n",
    "        \n",
    "            qc.mcx(control_qubits,total - 1)\n",
    "            \n",
    "    elif N == 7:\n",
    "        period_max= int(np.floor(N/2))\n",
    "        period_qubits = sum([i for i in range(0, period_max+1)])\n",
    "        total = N + period_qubits+ 1\n",
    "        qc = QuantumCircuit(total) # This re-initializes qc, losing the vec initialization\n",
    "        # Note: The input 'vec' is not applied to 'qc' in this branch.\n",
    "        # If 'vec' is intended to initialize the N qubits, qc.initialize(vec, range(N))\n",
    "        # would need to be added here.\n",
    "        \n",
    "        # Add registers for aux qubits and classical bit in this branch\n",
    "        extra_qubits = QuantumRegister(period_qubits + 1)\n",
    "        measure_bit = ClassicalRegister(1)\n",
    "        qc.add_register(extra_qubits)\n",
    "        qc.add_register(measure_bit)\n",
    "\n",
    "        # Initialize aux qubits to |1>\n",
    "        for i in range(N, N + period_qubits + 1):\n",
    "            qc.x(i)\n",
    "\n",
    "        # P = N-1:\n",
    "        qc.barrier()\n",
    "        qc.cx(0,N)\n",
    "        qc.cx(N-1,N)\n",
    "        qc.barrier()\n",
    "        qc.cx(N, total - 1)\n",
    "        qc.barrier()\n",
    "\n",
    "        control_qubits = [i for i in range(N, N+period_qubits)]\n",
    "        # P= N-2:\n",
    "        qc.barrier()\n",
    "        qc.cx(0,N+1)\n",
    "        qc.cx((N-2),N+1)\n",
    "        qc.cx(1,N+2)\n",
    "        qc.cx(1 + N-2,N+2)\n",
    "        qc.barrier()\n",
    "        qc.mcx([N+1,N+2], total - 1)\n",
    "            \n",
    "        #qc.mcx(control_qubits,total - 1) # This line remains commented as per original request\n",
    "        # P = N - 3\n",
    "        qc.barrier()\n",
    "        qc.cx(0,N+3)\n",
    "        qc.cx((N-3),N+3)\n",
    "        qc.cx(1,N+4)\n",
    "        qc.cx(1 + N-3,N+4)\n",
    "        qc.cx(2,N+5)\n",
    "        qc.cx(2+N-3,N+5)\n",
    "        qc.barrier()\n",
    "        qc.mcx([N+3,N+4,N+5], total - 1)\n",
    "            \n",
    "            \n",
    "        \n",
    "        \n",
    "    # Measure the last auxiliary qubit (target_qubit_for_mcx)\n",
    "    qc.measure(total-1, 0)\n",
    "\n",
    "    # Save the full statevector before partial trace\n",
    "    qc.save_statevector(label='state')\n",
    "\n",
    "    # Transpile and run the circuit\n",
    "    \n",
    "    res = simulator_aer.run(qc, shots=1).result()\n",
    "    full_state_vector = res.data()['state']    \n",
    "    # Perform partial trace to remove the intermediate auxiliary qubits\n",
    "    # The qubits to trace out are the control_qubits for mcx.\n",
    "    # The result will be a density matrix for the original N qubits plus the target_qubit_for_mcx.\n",
    "    # Qubit indices for partial_trace are 0-indexed across the *full* system.\n",
    "   \n",
    "    traced_out_qubits_indices = control_qubits\n",
    "    p_trace = partial_trace(full_state_vector, traced_out_qubits_indices)\n",
    "\n",
    "    # Get eigenvalues and eigenvectors of the density matrix\n",
    "    # eigh returns eigenvalues in ascending order\n",
    "    eigvals, eigvecs = eigh(p_trace.data)\n",
    "\n",
    "    # Find the index of the maximum eigenvalue (corresponding to the dominant pure state)\n",
    "    max_idx = eigvals.argmax()\n",
    "\n",
    "    # Extract the corresponding eigenvector\n",
    "    reduced_statevector_data = eigvecs[:, max_idx]\n",
    "\n",
    "    # Convert the NumPy array to a Qiskit Statevector object\n",
    "    final_statevector_qiskit = Statevector(reduced_statevector_data)\n",
    "\n",
    "    return final_statevector_qiskit\n",
    "\n",
    "def basis_ket_to_array(bitstring: str) -> np.ndarray:\n",
    "    \"\"\"Converts a bitstring to its corresponding statevector (NumPy array).\"\"\"\n",
    "    n = len(bitstring)\n",
    "    index = int(bitstring, 2)\n",
    "    vec = np.zeros(2**n, dtype=complex)\n",
    "    vec[index] = 1.0\n",
    "    return vec\n",
    "\n",
    "# Helper function to check if a bitstring is periodic based on the definition\n",
    "def is_bitstring_periodic_classical(s: str) -> bool:\n",
    "    N = len(s)\n",
    "    if N < 2: # Period P requires P <= N-1, so N must be at least 2.\n",
    "        return False\n",
    "    for P in range(1, N): # P from 1 to N-1\n",
    "        is_P_valid = True\n",
    "        for i in range(0, N - P): # i from 0 to N-P-1 (inclusive of N-P-1)\n",
    "            if s[i] != s[i+P]:\n",
    "                is_P_valid = False\n",
    "                break\n",
    "        if is_P_valid:\n",
    "            return True # Found a period\n",
    "    return False # No period found\n",
    "\n",
    "# --- Test Cases and Timing for ex_8 ---\n",
    "if __name__ == \"__main__\":\n",
    "    print(\"--- Testing ex_8 Function and Measuring Time ---\")\n",
    "\n",
    "    N_values = range(1, 8) # N from 1 to 7\n",
    "\n",
    "    # Define specific test bitstrings for each N\n",
    "    # Include both classically periodic and non-periodic examples\n",
    "    test_bitstrings_by_N = {\n",
    "        1: [\"0\", \"1\"], # Not periodic by definition (N<2)\n",
    "        2: [\"00\", \"01\", \"11\"], # 00, 11 are periodic (P=1); 01 is not\n",
    "        3: [\"000\", \"010\", \"001\", \"111\"], # 000, 010, 111 are periodic; 001 is not\n",
    "        4: [\"0000\", \"0101\", \"0001\", \"1010\"], # 0000, 0101, 1010 are periodic; 0001 is not\n",
    "        5: [\"00000\", \"01010\", \"00001\", \"10101\"], # 00000, 01010, 10101 are periodic; 00001 is not\n",
    "        6: [\"000000\", \"010101\", \"011010\", \"000001\", \"101010\"], # 000000, 010101, 011010, 101010 are periodic; 000001 is not\n",
    "        7: [\"0000000\", \"0101010\", \"0110100\", \"0000001\", \"1010101\"] # Examples for N=7\n",
    "    }\n",
    "    \n",
    "    for n_val in N_values:\n",
    "        print(f\"\\n--- Testing for N = {n_val} Qubits ---\")\n",
    "\n",
    "        # Select a few representative bitstrings for each N\n",
    "        bitstrings_to_test = test_bitstrings_by_N.get(n_val, [])\n",
    "        if not bitstrings_to_test:\n",
    "            print(f\"  No specific test bitstrings defined for N={n_val}. Skipping.\")\n",
    "            continue\n",
    "\n",
    "        for bitstring in bitstrings_to_test:\n",
    "            print(f\"  Input Bitstring: '{bitstring}' (Length N={n_val})\")\n",
    "            \n",
    "            # Convert bitstring to initial NumPy array\n",
    "            input_vec_array = basis_ket_to_array(bitstring)\n",
    "\n",
    "            # --- Perform classical periodicity check for comparison ---\n",
    "            is_periodic_classically = is_bitstring_periodic_classical(bitstring)\n",
    "            print(f\"    Classical Periodicity: {is_periodic_classically}\")\n",
    "            \n",
    "            start_time = time.perf_counter()\n",
    "            try:\n",
    "                final_state = ex_8(input_vec_array)\n",
    "                end_time = time.perf_counter()\n",
    "                time_elapsed = end_time - start_time\n",
    "\n",
    "                print(f\"    Execution successful.\")\n",
    "                print(f\"    Time taken: {time_elapsed:.9f} seconds\")\n",
    "                print(f\"    Returned Statevector has {final_state.num_qubits} qubits.\")\n",
    "                display(final_state.draw('latex'))\n",
    "                \n",
    "                # --- Interpretation of ex_8's output ---\n",
    "                # The final qubit (total-1) is the one measured and its probability\n",
    "                # is the most direct output from the circuit's logic.\n",
    "                \n",
    "                # Dynamically calculate the index of the final relevant qubit for interpretation\n",
    "                # This logic must mirror how 'total' and aux qubits are handled in ex_8.\n",
    "            \n",
    "            except ValueError as e:\n",
    "                print(f\"    Error: {e}\")\n",
    "            except Exception as e:\n",
    "                print(f\"    An unexpected error occurred: {e}\")\n",
    "                \n",
    "    print(\"\\n--- End of ex_8 Testing ---\")\n"
   ]
  },
  {
   "cell_type": "code",
   "execution_count": 322,
   "id": "b2923273",
   "metadata": {},
   "outputs": [
    {
     "data": {
      "text/latex": [
       "$$ |1000\\rangle$$"
      ],
      "text/plain": [
       "<IPython.core.display.Latex object>"
      ]
     },
     "execution_count": 322,
     "metadata": {},
     "output_type": "execute_result"
    }
   ],
   "source": [
    "vector = basis_ket_to_array('000')\n",
    "ex_8(vector).draw('latex')"
   ]
  },
  {
   "cell_type": "code",
   "execution_count": 336,
   "id": "c4c13c06",
   "metadata": {},
   "outputs": [
    {
     "data": {
      "text/plain": [
       "3.0"
      ]
     },
     "execution_count": 336,
     "metadata": {},
     "output_type": "execute_result"
    }
   ],
   "source": [
    "np.ceil(5/2)"
   ]
  },
  {
   "cell_type": "code",
   "execution_count": 340,
   "id": "f3df5e06",
   "metadata": {},
   "outputs": [
    {
     "name": "stdout",
     "output_type": "stream",
     "text": [
      "6\n"
     ]
    },
    {
     "data": {
      "text/latex": [
       "$$ |11111110000000\\rangle$$"
      ],
      "text/plain": [
       "<IPython.core.display.Latex object>"
      ]
     },
     "metadata": {},
     "output_type": "display_data"
    },
    {
     "data": {
      "image/png": "[encoded data removed]",
      "text/plain": [
       "<Figure size 2228.78x1204 with 1 Axes>"
      ]
     },
     "metadata": {},
     "output_type": "display_data"
    }
   ],
   "source": [
    "\n",
    "N = 7\n",
    "period_max= int(np.floor(N/2)) ### 3\n",
    "period_qubits = sum([i for i in range(0, period_max+1)])\n",
    "print(period_qubits)\n",
    "total = N + period_qubits+ 1 \n",
    "qc = QuantumCircuit(total)\n",
    "for i in range(N,N +period_qubits):\n",
    "    qc.x(i)\n",
    "\n",
    "### 0101\n",
    "\n",
    "\n",
    "# P = N-1:\n",
    "qc.barrier()\n",
    "qc.cx(0,N)\n",
    "qc.cx(N-1,N)\n",
    "qc.barrier()\n",
    "qc.cx(N, total - 1)\n",
    "qc.barrier()\n",
    "\n",
    "control_qubits = [i for i in range(N, N+period_qubits)]\n",
    "    # P= N-2:\n",
    "qc.barrier()\n",
    "qc.cx(0,N+1)\n",
    "qc.cx((N-2),N+1)\n",
    "qc.cx(1,N+2)\n",
    "qc.cx(1 + N-2,N+2)\n",
    "qc.barrier()\n",
    "qc.mcx([N+1,N+2], total - 1)\n",
    "    \n",
    "#qc.mcx(control_qubits,total - 1)\n",
    "### P = N - 3\n",
    "qc.barrier()\n",
    "qc.cx(0,N+3)\n",
    "qc.cx((N-3),N+3)\n",
    "qc.cx(1,N+4)\n",
    "qc.cx(1 + N-3,N+4)\n",
    "qc.cx(2,N+5)\n",
    "qc.cx(2+N-3,N+5)\n",
    "qc.barrier()\n",
    "qc.mcx([N+3,N+4,N+5], total - 1)\n",
    "\n",
    "\n",
    "qc.save_statevector(label = 'state')\n",
    "res = simulator_aer.run(qc, shots=1).result()\n",
    "statevector = res.data()['state']\n",
    "display(statevector.draw('latex'))\n",
    "display(qc.draw('mpl'))"
   ]
  },
  {
   "cell_type": "markdown",
   "id": "f4c49964",
   "metadata": {},
   "source": [
    "### Exercise 9\n",
    "\n",
    "Our objective is to test if a string $x$ (length N) is a palindrome or not. To do so we will add N qubits and *copy* -which is possible since we know the states are orthogonal- the inital state, but backwards:\n",
    "\n",
    "\n",
    "Initally:\n",
    "$$\n",
    "|q_0,q_1,q_2\\rangle\n",
    "$$\n",
    "Then:\n",
    "$$\n",
    "|q_0,q_1,q_2,q_3,q_4,q_5\\rangle \\rightarrow q_0 = q_5, q_1 = q_4, q_2 = q_3\n",
    "$$\n",
    "\n",
    "To check if it is a palidrome or not we must check if:\n",
    "$$\n",
    "q_0 = q_3 \\\\\n",
    "q_1 = q_4 \\\\\n",
    "q_2 = q_5\n",
    "$$\n",
    "\n",
    "To do so we apply a very similar procedure to what was done in exercise 7. We will initialize the auxiliary qubits in state $|1\\rangle$, as has already been seen if two qubits are different they will flip the target qubit and if not it will not change it. Therefore, by addind CNOTs with controls $q_0$, $q_3$ and target $q_6$ and so on we will do just so. Finally we will use a multiple control NOT gate which uses the states of the auxiliary qubits as control and the final $|y\\rangle$ as a target. If the bitstring was a palindrome all of the auxiliary qubits will still be in state $|1\\rangle$ and $|y\\rangle$ will be flipped (to $|1\\rangle$), otherwise it will not. \n",
    "\n",
    "\n",
    "Remember that because of the little-endian notation $|y\\rangle$ will be the first qubit displayed."
   ]
  },
  {
   "cell_type": "code",
   "execution_count": 21,
   "id": "13f33876",
   "metadata": {},
   "outputs": [
    {
     "data": {
      "text/latex": [
       "$$ |1111101101\\rangle$$"
      ],
      "text/plain": [
       "<IPython.core.display.Latex object>"
      ]
     },
     "metadata": {},
     "output_type": "display_data"
    },
    {
     "data": {
      "image/png": "[encoded data removed]",
      "text/plain": [
       "<Figure size 1207.22x869.556 with 1 Axes>"
      ]
     },
     "metadata": {},
     "output_type": "display_data"
    }
   ],
   "source": [
    "qc = QuantumCircuit(10)\n",
    "N = 3 ### initial vector length\n",
    "### Inital 101 (palindrome)\n",
    "qc.x(0)\n",
    "qc.x(2)\n",
    "\n",
    "\n",
    "qc.x(6)\n",
    "qc.x(7)\n",
    "qc.x(8)\n",
    "\n",
    "### Rewrite on the added three qubits but on the other way around\n",
    "\n",
    "#qc.cx(0,5)\n",
    "#qc.cx(1,4)\n",
    "#qc.cx(2,3)\n",
    "\n",
    "for i in range(3):\n",
    "    qc.cx(i, (2*3-1)-i)\n",
    "\n",
    "### Now lets check if q_0 = q_3, q_1 = q_4, q_2 = q_5\n",
    "\n",
    "#qc.cx(0,6)\n",
    "#qc.cx(3,6)\n",
    "#qc.cx(1,7)\n",
    "#qc.cx(4,7)\n",
    "#qc.cx(2,8)\n",
    "#qc.cx(5,8)\n",
    "for i in range(0,N):\n",
    "    qc.cx(i, i+2*N)\n",
    "    qc.cx(i+N, i+2*N)\n",
    "\n",
    "    \n",
    "#qc.mcx([6,7,8],9)\n",
    "control_qubit = [i for i in range(2*N, qc.num_qubits -1)]\n",
    "qc.mcx(control_qubit, 9)\n",
    "\n",
    "\n",
    "\n",
    "\n",
    "qc.save_statevector(label = 'state')\n",
    "res = simulator_aer.run(qc, shots=1).result()\n",
    "statevector = res.data()['state']\n",
    "display(statevector.draw('latex'))\n",
    "display(qc.draw('mpl'))\n"
   ]
  },
  {
   "cell_type": "code",
   "execution_count": 24,
   "id": "ef5970b8",
   "metadata": {},
   "outputs": [],
   "source": [
    "def ex_9(vec):\n",
    "    \"\"\"\n",
    "    Implements a quantum algorithm to check if an input bitstring (represented by `vec`)\n",
    "    is a palindrome, using auxiliary qubits and a multi-controlled X gate.\n",
    "\n",
    "    The algorithm proceeds as follows:\n",
    "    1.  Determines the number of original qubits `N` from the length of `vec`.\n",
    "    2.  Initializes an `N`-qubit quantum circuit and sets its state to `vec`.\n",
    "    3.  Adds `2*N + 1` auxiliary qubits and one classical bit. The total quantum\n",
    "        qubits in the circuit become `3*N + 1`.\n",
    "        - The first `N` auxiliary qubits (indices `N` to `2*N-1`) will store a reversed copy of the input.\n",
    "        - The next `N` auxiliary qubits (indices `2*N` to `3*N-1`) will store the XOR comparison results.\n",
    "        - The last auxiliary qubit (index `3*N`) will be the final output qubit, indicating palindrome.\n",
    "    4.  Creates a reversed copy of the initial state on the first `N` auxiliary qubits.\n",
    "        This is done by applying CNOT gates from original qubit `i` to auxiliary qubit `(2*N-1) - i`.\n",
    "    5.  Initializes the `N` comparison auxiliary qubits (indices `2*N` to `3*N-1`) to the `|1>` state.\n",
    "        These qubits will be flipped to `|0>` if the corresponding bits in the original and reversed\n",
    "        strings are *different*. Thus, they remain `|1>` only if the bits are *equal*.\n",
    "    6.  Applies CNOT gates to compare original qubits with their reversed counterparts:\n",
    "        - For each `i` from 0 to `N-1`:\n",
    "            - `qc.cx(i, i+2*N)`: CNOT from original qubit `i` to comparison qubit `i+2*N`.\n",
    "            - `qc.cx(i+N, i+2*N)`: CNOT from reversed qubit `i+N` to comparison qubit `i+2*N`.\n",
    "        After these operations, comparison qubit `i+2*N` will be `|1>` if `q_i == q_{N-1-i}`, and `|0>` otherwise.\n",
    "    7.  Applies a multi-controlled X gate. The control qubits are the `N` comparison auxiliary qubits\n",
    "        (indices `2*N` to `3*N-1`). The target is the very last auxiliary qubit (index `3*N`).\n",
    "        This target qubit will be flipped to `|1>` if and only if *all* comparison qubits are `|1>`,\n",
    "        which means the original string is a palindrome.\n",
    "    8.  Measures the final output qubit (index `3*N`) into the classical bit.\n",
    "    9.  Saves the complete statevector of the `3*N + 1` quantum qubits.\n",
    "    10. Runs the circuit on `simulator_aer` for 1 shot to retrieve the statevector.\n",
    "    11. Performs a partial trace to remove all intermediate auxiliary qubits (the `N` reversed copy\n",
    "        qubits and the `N` comparison qubits). The resulting density matrix represents the state\n",
    "        of the original `N` qubits and the final output qubit.\n",
    "    12. Extracts the dominant pure state (eigenvector corresponding to the maximum eigenvalue)\n",
    "        from the partially traced density matrix.\n",
    "    13. Returns this dominant state as a Qiskit `Statevector` object.\n",
    "\n",
    "    Args:\n",
    "        vec (np.ndarray): The initial statevector for the first `N` qubits.\n",
    "                          Its length must be a power of 2.\n",
    "\n",
    "    Returns:\n",
    "        Statevector: The reduced `Statevector` object representing the dominant component\n",
    "                     of the quantum state after all operations and partial tracing.\n",
    "                     This statevector will have `N+1` qubits (original `N` + final output qubit).\n",
    "                     The state of the final output qubit (the last qubit in the returned Statevector)\n",
    "                     will indicate if the input `vec` corresponds to a palindrome.\n",
    "\n",
    "    Raises:\n",
    "        ValueError: If the length of `vec` is not a power of 2.\n",
    "        Exception: Propagates exceptions from Qiskit or NumPy if circuit construction,\n",
    "                   simulation, or linear algebra operations fail.\n",
    "\n",
    "    \"\"\"\n",
    "    \n",
    "    \n",
    "    N = int(np.log2(len(vec)))\n",
    "    if 2**N != len(vec):\n",
    "        raise ValueError(\"Length of input vector `vec` must be a power of 2.\")\n",
    "\n",
    "    qc = QuantumCircuit(N) # Circuit for the original N qubits\n",
    "    qc.initialize(vec, [i for i in range(0, N)]) # intializes with the passed vector\n",
    "\n",
    "    # N auxiliary qubits and 1 classical bit\n",
    "    total_added_qubits = N + N + 1\n",
    "    extra_qubits = QuantumRegister(total_added_qubits) # N aux qubits: aux_0 to aux_N-1\n",
    "    ### N-1 to determine parity two by two and qubit |y>\n",
    "    measure_bit = ClassicalRegister(1) # One classical bit for measurement\n",
    "\n",
    "    qc.add_register(extra_qubits)\n",
    "    qc.add_register(measure_bit) \n",
    "    \n",
    "    for i in range(0, N): ### Reproducing the state but backwards ex: 100 -> 001\n",
    "        qc.cx(i,(2*N-1) - i)\n",
    "    ### Now we do a very similar reasoning to exercise 7, but now we WANT for them to be the same:\n",
    "    total = qc.num_qubits\n",
    "    for i in range(2*N, total-1): ### since we would like for aux qubits to activate the last, only if the qubits are equal we need to start them off at |1>\n",
    "        qc.x(i)\n",
    "    ### Now apply the CNOTs to check if they are the same:\n",
    "    for i in range(0, N):\n",
    "        qc.cx(i, i+2*N)\n",
    "        qc.cx(i+N, i+2*N)\n",
    "    ### Finally apply the Multiple Control NOT:\n",
    "    control_qubits = [q for q in range(2*N, total -1)]\n",
    "    qc.mcx(control_qubits, total -1)\n",
    "    \n",
    "    qc.save_statevector(label = 'state')\n",
    "    res = simulator_aer.run(qc, shots=1).result()\n",
    "    statevector = res.data()['state']\n",
    "    \n",
    "    # Perform partial trace to remove the intermediate auxiliary qubits\n",
    "    # The qubits to trace out are the control_qubits for mcx.\n",
    "    # The result will be a density matrix for the original N qubits plus the target_qubit_for_mcx.\n",
    "    # Qubit indices for partial_trace are 0-indexed across the *full* system.\n",
    "   \n",
    "    traced_out_qubits_indices = [qbits for qbits in range(N, total - 1)]\n",
    "    \n",
    "    p_trace = partial_trace(statevector, traced_out_qubits_indices)\n",
    "\n",
    "    # Get eigenvalues and eigenvectors of the density matrix\n",
    "    # eigh returns eigenvalues in ascending order\n",
    "    eigvals, eigvecs = eigh(p_trace.data)\n",
    "\n",
    "    # Find the index of the maximum eigenvalue (corresponding to the dominant pure state)\n",
    "    max_idx = eigvals.argmax()\n",
    "\n",
    "    # Extract the corresponding eigenvector\n",
    "    reduced_statevector_data = eigvecs[:, max_idx]\n",
    "\n",
    "    # Convert the NumPy array to a Qiskit Statevector object\n",
    "    final_statevector_qiskit = Statevector(reduced_statevector_data)\n",
    "    \n",
    "    return final_statevector_qiskit\n",
    "\n",
    "\n",
    "    \n",
    "    \n",
    "    "
   ]
  },
  {
   "cell_type": "code",
   "execution_count": 25,
   "id": "a4de1fae",
   "metadata": {},
   "outputs": [
    {
     "name": "stdout",
     "output_type": "stream",
     "text": [
      "\n",
      "--- New Test Cases: N from 1 to 7 with specific patterns ---\n",
      "\n",
      "--- Testing for N = 1 Qubits ---\n",
      "  Test Case 1: Initial state from alternating string '0'\n",
      "    Returned Statevector has 2 qubits.\n",
      "    Time taken by ex_9: 0.005000210 seconds\n",
      "    Final Statevector (LaTeX):\n"
     ]
    },
    {
     "data": {
      "text/latex": [
       "$$ |10\\rangle$$"
      ],
      "text/plain": [
       "<IPython.core.display.Latex object>"
      ]
     },
     "metadata": {},
     "output_type": "display_data"
    },
    {
     "name": "stdout",
     "output_type": "stream",
     "text": [
      "\n",
      "  Test Case 2: Palindrome string '0'\n",
      "    Returned Statevector has 2 qubits.\n",
      "    Time taken by ex_9: 0.007781922 seconds\n",
      "    Final Statevector (LaTeX):\n"
     ]
    },
    {
     "data": {
      "text/latex": [
       "$$ |10\\rangle$$"
      ],
      "text/plain": [
       "<IPython.core.display.Latex object>"
      ]
     },
     "metadata": {},
     "output_type": "display_data"
    },
    {
     "name": "stdout",
     "output_type": "stream",
     "text": [
      "\n",
      "--- Testing for N = 2 Qubits ---\n",
      "  Test Case 1: Initial state from alternating string '01'\n",
      "    Returned Statevector has 3 qubits.\n",
      "    Time taken by ex_9: 0.005722836 seconds\n",
      "    Final Statevector (LaTeX):\n"
     ]
    },
    {
     "data": {
      "text/latex": [
       "$$ |001\\rangle$$"
      ],
      "text/plain": [
       "<IPython.core.display.Latex object>"
      ]
     },
     "metadata": {},
     "output_type": "display_data"
    },
    {
     "name": "stdout",
     "output_type": "stream",
     "text": [
      "\n",
      "  Test Case 2: Palindrome string '00'\n",
      "    Returned Statevector has 3 qubits.\n",
      "    Time taken by ex_9: 0.005548160 seconds\n",
      "    Final Statevector (LaTeX):\n"
     ]
    },
    {
     "data": {
      "text/latex": [
       "$$ |100\\rangle$$"
      ],
      "text/plain": [
       "<IPython.core.display.Latex object>"
      ]
     },
     "metadata": {},
     "output_type": "display_data"
    },
    {
     "name": "stdout",
     "output_type": "stream",
     "text": [
      "\n",
      "  Test Case 3: Non-Palindrome string '01'\n",
      "    Returned Statevector has 3 qubits.\n",
      "    Time taken by ex_9: 0.006560562 seconds\n",
      "    Final Statevector (LaTeX):\n"
     ]
    },
    {
     "data": {
      "text/latex": [
       "$$ |001\\rangle$$"
      ],
      "text/plain": [
       "<IPython.core.display.Latex object>"
      ]
     },
     "metadata": {},
     "output_type": "display_data"
    },
    {
     "name": "stdout",
     "output_type": "stream",
     "text": [
      "\n",
      "--- Testing for N = 3 Qubits ---\n",
      "  Test Case 1: Initial state from alternating string '010'\n",
      "    Returned Statevector has 4 qubits.\n",
      "    Time taken by ex_9: 0.012722883 seconds\n",
      "    Final Statevector (LaTeX):\n"
     ]
    },
    {
     "data": {
      "text/latex": [
       "$$ |1010\\rangle$$"
      ],
      "text/plain": [
       "<IPython.core.display.Latex object>"
      ]
     },
     "metadata": {},
     "output_type": "display_data"
    },
    {
     "name": "stdout",
     "output_type": "stream",
     "text": [
      "\n",
      "  Test Case 2: Palindrome string '010'\n",
      "    Returned Statevector has 4 qubits.\n",
      "    Time taken by ex_9: 0.011107088 seconds\n",
      "    Final Statevector (LaTeX):\n"
     ]
    },
    {
     "data": {
      "text/latex": [
       "$$ |1010\\rangle$$"
      ],
      "text/plain": [
       "<IPython.core.display.Latex object>"
      ]
     },
     "metadata": {},
     "output_type": "display_data"
    },
    {
     "name": "stdout",
     "output_type": "stream",
     "text": [
      "\n",
      "  Test Case 3: Non-Palindrome string '001'\n",
      "    Returned Statevector has 4 qubits.\n",
      "    Time taken by ex_9: 0.005054776 seconds\n",
      "    Final Statevector (LaTeX):\n"
     ]
    },
    {
     "data": {
      "text/latex": [
       "$$ |0001\\rangle$$"
      ],
      "text/plain": [
       "<IPython.core.display.Latex object>"
      ]
     },
     "metadata": {},
     "output_type": "display_data"
    },
    {
     "name": "stdout",
     "output_type": "stream",
     "text": [
      "\n",
      "--- Testing for N = 4 Qubits ---\n",
      "  Test Case 1: Initial state from alternating string '0101'\n",
      "    Returned Statevector has 5 qubits.\n",
      "    Time taken by ex_9: 0.015860528 seconds\n",
      "    Final Statevector (LaTeX):\n"
     ]
    },
    {
     "data": {
      "text/latex": [
       "$$ |00101\\rangle$$"
      ],
      "text/plain": [
       "<IPython.core.display.Latex object>"
      ]
     },
     "metadata": {},
     "output_type": "display_data"
    },
    {
     "name": "stdout",
     "output_type": "stream",
     "text": [
      "\n",
      "  Test Case 2: Palindrome string '1111'\n",
      "    Returned Statevector has 5 qubits.\n",
      "    Time taken by ex_9: 0.016339406 seconds\n",
      "    Final Statevector (LaTeX):\n"
     ]
    },
    {
     "data": {
      "text/latex": [
       "$$ |11111\\rangle$$"
      ],
      "text/plain": [
       "<IPython.core.display.Latex object>"
      ]
     },
     "metadata": {},
     "output_type": "display_data"
    },
    {
     "name": "stdout",
     "output_type": "stream",
     "text": [
      "\n",
      "  Test Case 3: Non-Palindrome string '1101'\n",
      "    Returned Statevector has 5 qubits.\n",
      "    Time taken by ex_9: 0.012995781 seconds\n",
      "    Final Statevector (LaTeX):\n"
     ]
    },
    {
     "data": {
      "text/latex": [
       "$$ |01101\\rangle$$"
      ],
      "text/plain": [
       "<IPython.core.display.Latex object>"
      ]
     },
     "metadata": {},
     "output_type": "display_data"
    },
    {
     "name": "stdout",
     "output_type": "stream",
     "text": [
      "\n",
      "--- Testing for N = 5 Qubits ---\n",
      "  Test Case 1: Initial state from alternating string '01010'\n",
      "    Returned Statevector has 6 qubits.\n",
      "    Time taken by ex_9: 0.054953347 seconds\n",
      "    Final Statevector (LaTeX):\n"
     ]
    },
    {
     "data": {
      "text/latex": [
       "$$ |101010\\rangle$$"
      ],
      "text/plain": [
       "<IPython.core.display.Latex object>"
      ]
     },
     "metadata": {},
     "output_type": "display_data"
    },
    {
     "name": "stdout",
     "output_type": "stream",
     "text": [
      "\n",
      "  Test Case 2: Palindrome string '01010'\n",
      "    Returned Statevector has 6 qubits.\n",
      "    Time taken by ex_9: 0.031142985 seconds\n",
      "    Final Statevector (LaTeX):\n"
     ]
    },
    {
     "data": {
      "text/latex": [
       "$$ |101010\\rangle$$"
      ],
      "text/plain": [
       "<IPython.core.display.Latex object>"
      ]
     },
     "metadata": {},
     "output_type": "display_data"
    },
    {
     "name": "stdout",
     "output_type": "stream",
     "text": [
      "\n",
      "  Test Case 3: Non-Palindrome string '10000'\n",
      "    Returned Statevector has 6 qubits.\n",
      "    Time taken by ex_9: 0.039266060 seconds\n",
      "    Final Statevector (LaTeX):\n"
     ]
    },
    {
     "data": {
      "text/latex": [
       "$$ |010000\\rangle$$"
      ],
      "text/plain": [
       "<IPython.core.display.Latex object>"
      ]
     },
     "metadata": {},
     "output_type": "display_data"
    },
    {
     "name": "stdout",
     "output_type": "stream",
     "text": [
      "\n",
      "--- Testing for N = 6 Qubits ---\n",
      "  Test Case 1: Initial state from alternating string '010101'\n",
      "    Returned Statevector has 7 qubits.\n",
      "    Time taken by ex_9: 0.259653483 seconds\n",
      "    Final Statevector (LaTeX):\n"
     ]
    },
    {
     "data": {
      "text/latex": [
       "$$ |0010101\\rangle$$"
      ],
      "text/plain": [
       "<IPython.core.display.Latex object>"
      ]
     },
     "metadata": {},
     "output_type": "display_data"
    },
    {
     "name": "stdout",
     "output_type": "stream",
     "text": [
      "\n",
      "  Test Case 2: Palindrome string '010010'\n",
      "    Returned Statevector has 7 qubits.\n",
      "    Time taken by ex_9: 0.190244894 seconds\n",
      "    Final Statevector (LaTeX):\n"
     ]
    },
    {
     "data": {
      "text/latex": [
       "$$ |1010010\\rangle$$"
      ],
      "text/plain": [
       "<IPython.core.display.Latex object>"
      ]
     },
     "metadata": {},
     "output_type": "display_data"
    },
    {
     "name": "stdout",
     "output_type": "stream",
     "text": [
      "\n",
      "  Test Case 3: Non-Palindrome string '011100'\n",
      "    Returned Statevector has 7 qubits.\n",
      "    Time taken by ex_9: 0.176803430 seconds\n",
      "    Final Statevector (LaTeX):\n"
     ]
    },
    {
     "data": {
      "text/latex": [
       "$$ |0011100\\rangle$$"
      ],
      "text/plain": [
       "<IPython.core.display.Latex object>"
      ]
     },
     "metadata": {},
     "output_type": "display_data"
    },
    {
     "name": "stdout",
     "output_type": "stream",
     "text": [
      "\n",
      "--- Testing for N = 7 Qubits ---\n",
      "  Test Case 1: Initial state from alternating string '0101010'\n",
      "    Returned Statevector has 8 qubits.\n",
      "    Time taken by ex_9: 1.794830034 seconds\n",
      "    Final Statevector (LaTeX):\n"
     ]
    },
    {
     "data": {
      "text/latex": [
       "$$ |10101010\\rangle$$"
      ],
      "text/plain": [
       "<IPython.core.display.Latex object>"
      ]
     },
     "metadata": {},
     "output_type": "display_data"
    },
    {
     "name": "stdout",
     "output_type": "stream",
     "text": [
      "\n",
      "  Test Case 2: Palindrome string '1111111'\n",
      "    Returned Statevector has 8 qubits.\n",
      "    Time taken by ex_9: 1.801474265 seconds\n",
      "    Final Statevector (LaTeX):\n"
     ]
    },
    {
     "data": {
      "text/latex": [
       "$$ |11111111\\rangle$$"
      ],
      "text/plain": [
       "<IPython.core.display.Latex object>"
      ]
     },
     "metadata": {},
     "output_type": "display_data"
    },
    {
     "name": "stdout",
     "output_type": "stream",
     "text": [
      "\n",
      "  Test Case 3: Non-Palindrome string '1110000'\n",
      "    Returned Statevector has 8 qubits.\n",
      "    Time taken by ex_9: 1.783803961 seconds\n",
      "    Final Statevector (LaTeX):\n"
     ]
    },
    {
     "data": {
      "text/latex": [
       "$$ |01110000\\rangle$$"
      ],
      "text/plain": [
       "<IPython.core.display.Latex object>"
      ]
     },
     "metadata": {},
     "output_type": "display_data"
    },
    {
     "name": "stdout",
     "output_type": "stream",
     "text": [
      "\n",
      "--- End of all Test Cases for basis_ket_to_array and ex_9 ---\n"
     ]
    }
   ],
   "source": [
    "\n",
    "# Helper function to check if a bitstring is a palindrome\n",
    "def is_palindrome(s: str) -> bool:\n",
    "    return s == s[::-1]\n",
    "\n",
    "# Helper function to generate a palindrome bitstring\n",
    "def generate_palindrome_bitstring(n: int) -> str:\n",
    "    if n == 0: return \"\"\n",
    "    if n == 1: return \"0\" # Or \"1\"\n",
    "    \n",
    "    half_len = n // 2\n",
    "    first_half = ''.join(np.random.choice(['0', '1'], half_len))\n",
    "    \n",
    "    if n % 2 == 0: # Even length\n",
    "        return first_half + first_half[::-1]\n",
    "    else: # Odd length\n",
    "        middle_char = np.random.choice(['0', '1'])\n",
    "        return first_half + middle_char + first_half[::-1]\n",
    "\n",
    "# Helper function to generate a non-palindrome bitstring\n",
    "def generate_non_palindrome_bitstring(n: int) -> str:\n",
    "    if n < 2: # Cannot create a non-palindrome with length 0 or 1\n",
    "        return \"\" # Or raise an error\n",
    "    \n",
    "    # Simple strategy: make the first and last characters different\n",
    "    # and fill the middle arbitrarily.\n",
    "    # Or, generate a random string and ensure it's not a palindrome.\n",
    "    \n",
    "    s = ''.join(np.random.choice(['0', '1'], n))\n",
    "    # Ensure it's not a palindrome\n",
    "    while is_palindrome(s):\n",
    "        # If it's a palindrome, flip one bit to make it non-palindrome\n",
    "        # Try flipping the first bit different from the last\n",
    "        if s[0] == s[-1]:\n",
    "            if s[0] == '0':\n",
    "                s = '1' + s[1:-1] + '0'\n",
    "            else:\n",
    "                s = '0' + s[1:-1] + '1'\n",
    "        else: # Already not a palindrome\n",
    "            break\n",
    "        # If still a palindrome (e.g., n=2, \"00\" -> \"10\" -> \"01\" -> \"11\" -> \"00\"),\n",
    "        # try flipping a different bit or regenerate entirely.\n",
    "        # For simplicity, just regenerate a few times.\n",
    "        if is_palindrome(s):\n",
    "            s = ''.join(np.random.choice(['0', '1'], n))\n",
    "    return s\n",
    "\n",
    "\n",
    "# --- New Test Cases for N from 1 to 7 ---\n",
    "if __name__ == \"__main__\":\n",
    "    print(\"\\n--- New Test Cases: N from 1 to 7 with specific patterns ---\")\n",
    "\n",
    "    N_values = range(1, 8) # N from 1 to 7\n",
    "\n",
    "    for n in N_values:\n",
    "        print(f\"\\n--- Testing for N = {n} Qubits ---\")\n",
    "\n",
    "        # Test Case 1: Alternating bitstring (01010...) - from previous request\n",
    "        alternating_bitstring = ''.join(['01'[(i % 2)] for i in range(n)])\n",
    "        \n",
    "        print(f\"  Test Case 1: Initial state from alternating string '{alternating_bitstring}'\")\n",
    "        try:\n",
    "            # Convert bitstring to initial NumPy array\n",
    "            input_vec_alt = basis_ket_to_array(alternating_bitstring)\n",
    "            \n",
    "            # Time the ex_9 function call (previously ex_7)\n",
    "            start_time_alt = time.perf_counter()\n",
    "            returned_state_alt = ex_9(input_vec_alt) # Calling ex_9\n",
    "            end_time_alt = time.perf_counter()\n",
    "            time_elapsed_alt = end_time_alt - start_time_alt\n",
    "            \n",
    "            print(f\"    Returned Statevector has {returned_state_alt.num_qubits} qubits.\")\n",
    "            print(f\"    Time taken by ex_9: {time_elapsed_alt:.9f} seconds\")\n",
    "            print(f\"    Final Statevector (LaTeX):\")\n",
    "            # This will print the raw LaTeX string. For rendering, you'd need a LaTeX-enabled environment.\n",
    "            display(returned_state_alt.draw(output='latex'))\n",
    "        except ValueError as e:\n",
    "            print(f\"    Error in Test Case 1: {e}\")\n",
    "        except Exception as e:\n",
    "            print(f\"    An unexpected error occurred in Test Case 1: {e}\")\n",
    "\n",
    "\n",
    "        # --- New Test Case 2: Palindrome Bitstring ---\n",
    "        if n >= 1: # Palindromes can be generated for n >= 1\n",
    "            palindrome_bitstring = generate_palindrome_bitstring(n)\n",
    "            print(f\"\\n  Test Case 2: Palindrome string '{palindrome_bitstring}'\")\n",
    "            try:\n",
    "                input_vec_pal = basis_ket_to_array(palindrome_bitstring)\n",
    "                start_time_pal = time.perf_counter()\n",
    "                returned_state_pal = ex_9(input_vec_pal) # Calling ex_9\n",
    "                end_time_pal = time.perf_counter()\n",
    "                time_elapsed_pal = end_time_pal - start_time_pal\n",
    "                \n",
    "                print(f\"    Returned Statevector has {returned_state_pal.num_qubits} qubits.\")\n",
    "                print(f\"    Time taken by ex_9: {time_elapsed_pal:.9f} seconds\")\n",
    "                print(f\"    Final Statevector (LaTeX):\")\n",
    "                display(returned_state_pal.draw(output='latex'))\n",
    "            except ValueError as e:\n",
    "                print(f\"    Error in Test Case 2: {e}\")\n",
    "            except Exception as e:\n",
    "                print(f\"    An unexpected error occurred in Test Case 2: {e}\")\n",
    "\n",
    "        # --- New Test Case 3: Non-Palindrome Bitstring ---\n",
    "        if n >= 2: # Non-palindromes require at least 2 bits\n",
    "            non_palindrome_bitstring = generate_non_palindrome_bitstring(n)\n",
    "            print(f\"\\n  Test Case 3: Non-Palindrome string '{non_palindrome_bitstring}'\")\n",
    "            try:\n",
    "                input_vec_non_pal = basis_ket_to_array(non_palindrome_bitstring)\n",
    "                start_time_non_pal = time.perf_counter()\n",
    "                returned_state_non_pal = ex_9(input_vec_non_pal) # Calling ex_9\n",
    "                end_time_non_pal = time.perf_counter()\n",
    "                time_elapsed_non_pal = end_time_non_pal - start_time_non_pal\n",
    "                \n",
    "                print(f\"    Returned Statevector has {returned_state_non_pal.num_qubits} qubits.\")\n",
    "                print(f\"    Time taken by ex_9: {time_elapsed_non_pal:.9f} seconds\")\n",
    "                print(f\"    Final Statevector (LaTeX):\")\n",
    "                display(returned_state_non_pal.draw(output='latex'))\n",
    "            except ValueError as e:\n",
    "                print(f\"    Error in Test Case 3: {e}\")\n",
    "            except Exception as e:\n",
    "                print(f\"    An unexpected error occurred in Test Case 3: {e}\")\n",
    "\n",
    "    print(\"\\n--- End of all Test Cases for basis_ket_to_array and ex_9 ---\")\n"
   ]
  },
  {
   "cell_type": "markdown",
   "id": "7ea46ce8",
   "metadata": {},
   "source": [
    "Now you may test for any string you wish:"
   ]
  },
  {
   "cell_type": "code",
   "execution_count": 26,
   "id": "2b7ee826",
   "metadata": {},
   "outputs": [
    {
     "data": {
      "text/latex": [
       "$$ |01100110\\rangle$$"
      ],
      "text/plain": [
       "<IPython.core.display.Latex object>"
      ]
     },
     "metadata": {},
     "output_type": "display_data"
    }
   ],
   "source": [
    "bits = '1100110'\n",
    "\n",
    "vector = basis_ket_to_array(bits)\n",
    "st = ex_9(vector)\n",
    "\n",
    "\n",
    "display(st.draw('latex'))"
   ]
  },
  {
   "cell_type": "code",
   "execution_count": null,
   "id": "a75dc4c9",
   "metadata": {},
   "outputs": [],
   "source": []
  }
 ],
 "metadata": {
  "kernelspec": {
   "display_name": "qic",
   "language": "python",
   "name": "qic"
  },
  "language_info": {
   "codemirror_mode": {
    "name": "ipython",
    "version": 3
   },
   "file_extension": ".py",
   "mimetype": "text/x-python",
   "name": "python",
   "nbconvert_exporter": "python",
   "pygments_lexer": "ipython3",
   "version": "3.12.2"
  }
 },
 "nbformat": 4,
 "nbformat_minor": 5
}
